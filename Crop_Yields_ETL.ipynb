{
 "cells": [
  {
   "cell_type": "markdown",
   "metadata": {},
   "source": [
    "## Scoping"
   ]
  },
  {
   "cell_type": "markdown",
   "metadata": {},
   "source": [
    "# ETL (Extract, Transform, Load)"
   ]
  },
  {
   "cell_type": "code",
   "execution_count": null,
   "metadata": {},
   "outputs": [],
   "source": [
    "import pandas as pd\n",
    "import numpy as np\n",
    "import geopandas as gpd\n",
    "import matplotlib.pyplot as plt\n",
    "import seaborn as sb\n",
    "import folium\n",
    "plt.rcParams['figure.figsize'] = [12, 8]"
   ]
  },
  {
   "cell_type": "markdown",
   "metadata": {},
   "source": [
    "## Yield"
   ]
  },
  {
   "cell_type": "code",
   "execution_count": null,
   "metadata": {},
   "outputs": [],
   "source": [
    "df_sk=pd.read_csv('/Users/ruhidmirzayev/Palette/Data/rm-yields-data.csv')"
   ]
  },
  {
   "cell_type": "code",
   "execution_count": null,
   "metadata": {},
   "outputs": [],
   "source": [
    "df_mb=pd.read_excel('/Users/ruhidmirzayev/Palette/Data/MMPP - Yield by Soil Type Browser.xlsx')"
   ]
  },
  {
   "cell_type": "markdown",
   "metadata": {},
   "source": [
    "## Shapefiles"
   ]
  },
  {
   "cell_type": "code",
   "execution_count": null,
   "metadata": {},
   "outputs": [],
   "source": [
    "gdf_sk=gpd.read_file('/Users/ruhidmirzayev/Palette/Data/Shapefiles/SK_RM_Shapefiles/RuralMunicipality.shp')"
   ]
  },
  {
   "cell_type": "code",
   "execution_count": null,
   "metadata": {},
   "outputs": [],
   "source": [
    "gdf_mb=gpd.read_file('/Users/ruhidmirzayev/Palette/Data/Shapefiles/MB_RM_Shapefiles/MB_Municipal_Boundaries.shp')"
   ]
  },
  {
   "cell_type": "markdown",
   "metadata": {},
   "source": [
    "## Transforming"
   ]
  },
  {
   "cell_type": "code",
   "execution_count": null,
   "metadata": {},
   "outputs": [],
   "source": [
    "# List of columns\n",
    "df_sk.columns"
   ]
  },
  {
   "cell_type": "code",
   "execution_count": null,
   "metadata": {},
   "outputs": [],
   "source": [
    "# List of columns\n",
    "df_mb.columns"
   ]
  },
  {
   "cell_type": "code",
   "execution_count": null,
   "metadata": {},
   "outputs": [],
   "source": [
    "# Info about columns\n",
    "df_sk.info()"
   ]
  },
  {
   "cell_type": "code",
   "execution_count": null,
   "metadata": {},
   "outputs": [],
   "source": [
    "# Info about columns\n",
    "df_mb.info()"
   ]
  },
  {
   "cell_type": "code",
   "execution_count": null,
   "metadata": {},
   "outputs": [],
   "source": [
    "# Table heads\n",
    "df_sk.head()"
   ]
  },
  {
   "cell_type": "code",
   "execution_count": null,
   "metadata": {},
   "outputs": [],
   "source": [
    "# Table heads\n",
    "df_mb.head()"
   ]
  },
  {
   "cell_type": "code",
   "execution_count": null,
   "metadata": {},
   "outputs": [],
   "source": [
    "df_mb['Yield/acre(Metric)']=df_mb['Yield/acre(Metric)'].str.replace(' Tonnes', '') # Replacing Tonnes\n",
    "df_mb['Yield/acre(Metric)']=df_mb['Yield/acre(Metric)'].replace('Tolerance', np.NaN) # Replacing Tolerance\n",
    "df_mb['Yield/acre(Metric)']=df_mb['Yield/acre(Metric)'].astype(float) # changing object to float data type"
   ]
  },
  {
   "cell_type": "code",
   "execution_count": null,
   "metadata": {},
   "outputs": [],
   "source": [
    "df_mb_pivot=pd.pivot_table(df_mb.drop(columns=['Yield/acre(Metric).1', 'Yield/acre(Imperial)', 'Soil', 'Farms' ]),\n",
    "               index=['Risk Area / R.M.', 'Year'], columns='Crop', values='Yield/acre(Metric)')\\\n",
    "               .reset_index()"
   ]
  },
  {
   "cell_type": "code",
   "execution_count": null,
   "metadata": {},
   "outputs": [],
   "source": [
    "df_sk.columns"
   ]
  },
  {
   "cell_type": "code",
   "execution_count": null,
   "metadata": {},
   "outputs": [],
   "source": [
    "df_mb_pivot.columns"
   ]
  },
  {
   "cell_type": "code",
   "execution_count": null,
   "metadata": {},
   "outputs": [],
   "source": [
    "df_mb_clean=df_mb_pivot.rename(columns={\n",
    "    'Risk Area / R.M.': 'RM', \n",
    "    'ARGENTINE CANOLA': 'Canola', \n",
    "    'BARLEY':'Barley',\n",
    "    'CANARYSEED': 'Canary Seed', \n",
    "    'DURUM WHEAT': 'Durum Wheat', \n",
    "     'LENTILS': 'Lentils', \n",
    "     'OATS': 'Oats',\n",
    "    'RED SPRING WHEAT': 'Spring Wheat', \n",
    "    'WHITE PEA BEANS': 'Peas'}) \\\n",
    "        .drop(columns=['ALFALFA', 'FABABEANS', 'FABABEANS', 'POLISH CANOLA'] )"
   ]
  },
  {
   "cell_type": "code",
   "execution_count": null,
   "metadata": {},
   "outputs": [],
   "source": [
    "df_sk_clean=df_sk.rename(columns={'Durum': 'Durum Wheat'}).drop(columns=['Winter Wheat', 'Mustard', 'Sunflowers', 'Fall Rye', 'Spring Rye', 'Tame Hay','Flax', 'Chickpeas' ] )"
   ]
  },
  {
   "cell_type": "code",
   "execution_count": null,
   "metadata": {},
   "outputs": [],
   "source": [
    "df_sk_clean"
   ]
  },
  {
   "cell_type": "code",
   "execution_count": null,
   "metadata": {},
   "outputs": [],
   "source": [
    "df_mb_clean"
   ]
  },
  {
   "cell_type": "code",
   "execution_count": null,
   "metadata": {},
   "outputs": [],
   "source": [
    "# Crop conversion in MB tonnes to bushel\n",
    "df_mb_clean['Canola']=df_mb_clean['Canola'] * 44.092\n",
    "df_mb_clean['Barley']=df_mb_clean['Barley'] * 45.93\n",
    "df_mb_clean['Canary Seed']=df_mb_clean['Canary Seed'] * 44.092\n",
    "df_mb_clean['Durum Wheat']=df_mb_clean['Durum Wheat'] * 36.74\n",
    "df_mb_clean['Lentils']=df_mb_clean['Lentils'] * 36.74\n",
    "df_mb_clean['Oats']=df_mb_clean['Oats'] * 64.842\n",
    "df_mb_clean['Spring Wheat']=df_mb_clean['Spring Wheat'] * 36.74\n",
    "df_mb_clean['Peas']=df_mb_clean['Peas'] *  36.74\n"
   ]
  },
  {
   "cell_type": "code",
   "execution_count": null,
   "metadata": {},
   "outputs": [],
   "source": [
    "# Crop Conversion in SK - pounds to bushels\n",
    "df_sk_clean['Lentils']=df_sk_clean['Lentils'] / 60\n",
    "df_sk_clean['Canary Seed']=df_sk_clean['Canary Seed'] / 50"
   ]
  },
  {
   "cell_type": "code",
   "execution_count": null,
   "metadata": {},
   "outputs": [],
   "source": [
    "# Creating province column\n",
    "df_mb_clean['Province'] = 'MB'\n",
    "df_sk_clean['Province'] = 'SK'"
   ]
  },
  {
   "cell_type": "code",
   "execution_count": null,
   "metadata": {},
   "outputs": [],
   "source": [
    "df = pd.concat([df_mb_clean, df_sk_clean])"
   ]
  },
  {
   "cell_type": "markdown",
   "metadata": {},
   "source": [
    "# EDA(Exploratory Data Analysis)"
   ]
  },
  {
   "cell_type": "markdown",
   "metadata": {},
   "source": [
    "## Missing Values"
   ]
  },
  {
   "cell_type": "code",
   "execution_count": null,
   "metadata": {},
   "outputs": [],
   "source": [
    "df.isna().sum().sort_values().plot(kind='bar', color='green')\n",
    "plt.title('Missing Values- 1938 to 2022')\n",
    "plt.xlabel('Crops')\n",
    "plt.ylabel('# of Missing values')\n",
    "plt.axhline(len(df)/2, linestyle='--', color='red')\n",
    "plt.axhline(len(df)/4, linestyle='--', color='red')\n",
    "plt.axhline(len(df)/10, linestyle='--', color='red')\n",
    "plt.show()"
   ]
  },
  {
   "cell_type": "code",
   "execution_count": null,
   "metadata": {},
   "outputs": [],
   "source": [
    "df.loc[df['Year']>2002].isna().sum().sort_values().plot(kind='bar', color='green')\n",
    "plt.title('Missing Values - 2002 to 2022')\n",
    "plt.xlabel('Crops')\n",
    "plt.ylabel('# of Missing values')\n",
    "plt.axhline(len(df)/2, linestyle='--', color='red')\n",
    "plt.axhline(len(df)/4, linestyle='--', color='red')\n",
    "plt.axhline(len(df)/10, linestyle='--', color='red')\n",
    "plt.show()"
   ]
  },
  {
   "cell_type": "markdown",
   "metadata": {},
   "source": [
    "## Outliers"
   ]
  },
  {
   "cell_type": "code",
   "execution_count": null,
   "metadata": {},
   "outputs": [],
   "source": [
    "crop_columns=['Canola', 'Barley', 'Canary Seed', 'Durum Wheat',\n",
    "       'Lentils', 'Oats', 'Spring Wheat', 'Peas']"
   ]
  },
  {
   "cell_type": "markdown",
   "metadata": {},
   "source": [
    "## Histograms"
   ]
  },
  {
   "cell_type": "code",
   "execution_count": null,
   "metadata": {},
   "outputs": [],
   "source": [
    "df[crop_columns].hist(bins=300)\n",
    "plt.show()"
   ]
  },
  {
   "cell_type": "markdown",
   "metadata": {},
   "source": [
    "## Boxplots"
   ]
  },
  {
   "cell_type": "code",
   "execution_count": null,
   "metadata": {},
   "outputs": [],
   "source": [
    "df[crop_columns].boxplot()"
   ]
  },
  {
   "cell_type": "code",
   "execution_count": null,
   "metadata": {},
   "outputs": [],
   "source": [
    "df.loc[df['Spring Wheat']>180]"
   ]
  },
  {
   "cell_type": "code",
   "execution_count": null,
   "metadata": {},
   "outputs": [],
   "source": [
    "# Peorson Corr (-1 to 1), -1 negative corr, o no corr, 1 positive corr\n",
    "# Using Seaborn\n",
    "sb.heatmap(df[crop_columns].corr(),annot=True, cmap='Greens')\n"
   ]
  },
  {
   "cell_type": "markdown",
   "metadata": {},
   "source": [
    "## GIS Analyis"
   ]
  },
  {
   "cell_type": "code",
   "execution_count": null,
   "metadata": {},
   "outputs": [],
   "source": [
    "# CRS --> Cordinate Reference Systems\n",
    "gdf_mb['geometry'].crs"
   ]
  },
  {
   "cell_type": "code",
   "execution_count": null,
   "metadata": {},
   "outputs": [],
   "source": [
    "# Standardazing CRS formats\n",
    "gdf_sk['geometry']=gdf_sk['geometry'].to_crs('epsg:4326')\n",
    "gdf_mb['geometry']=gdf_mb['geometry'].to_crs('epsg:4326')"
   ]
  },
  {
   "cell_type": "code",
   "execution_count": null,
   "metadata": {},
   "outputs": [],
   "source": [
    "gdf_sk['RMNO']=gdf_sk['RMNO'].astype(int)"
   ]
  },
  {
   "cell_type": "code",
   "execution_count": null,
   "metadata": {},
   "outputs": [],
   "source": [
    "#set(gdf['RM'].unique()) - set(df_sk_clean['RM'].unique())"
   ]
  },
  {
   "cell_type": "code",
   "execution_count": null,
   "metadata": {},
   "outputs": [],
   "source": [
    "gdf_mb['MUNI_NAME']=gdf_mb['MUNI_NAME'].str.replace('RM OF ','')"
   ]
  },
  {
   "cell_type": "code",
   "execution_count": null,
   "metadata": {},
   "outputs": [],
   "source": [
    "gdf=pd.concat([gdf_sk[['RMNO','geometry']].rename(columns={'RMNO':'RM'}),gdf_mb[['MUNI_NAME', 'geometry']].rename(columns={'MUNI_NAME':'RM'})])"
   ]
  },
  {
   "cell_type": "code",
   "execution_count": null,
   "metadata": {},
   "outputs": [],
   "source": [
    "# gdf.plot()not interactive\n",
    "# gdf.explore()"
   ]
  },
  {
   "cell_type": "code",
   "execution_count": null,
   "metadata": {},
   "outputs": [],
   "source": [
    "gdf['RM']=gdf['RM'].astype('string')\n",
    "df['RM']=df['RM'].astype('string')"
   ]
  },
  {
   "cell_type": "code",
   "execution_count": null,
   "metadata": {},
   "outputs": [],
   "source": [
    "df_gdf=pd.merge(gdf, df, on='RM')"
   ]
  },
  {
   "cell_type": "code",
   "execution_count": null,
   "metadata": {},
   "outputs": [],
   "source": [
    "print('Before merging', gdf['RM'].nunique())\n",
    "print('After merging',df_gdf['RM'].nunique())"
   ]
  },
  {
   "cell_type": "code",
   "execution_count": null,
   "metadata": {},
   "outputs": [],
   "source": [
    "ds=df_gdf.copy()"
   ]
  },
  {
   "cell_type": "markdown",
   "metadata": {},
   "source": [
    "### GIS Visualization"
   ]
  },
  {
   "cell_type": "markdown",
   "metadata": {},
   "source": [
    "#### Explore functiom"
   ]
  },
  {
   "cell_type": "code",
   "execution_count": null,
   "metadata": {},
   "outputs": [],
   "source": [
    "m=ds.loc[ds['Year']==2021].explore(column='Canola', \n",
    "                                 legend=True,  \n",
    "                                 cmap='Greens',\n",
    "                                 tooltip= ['Canola', 'RM'],\n",
    "                                 tiles='Stamen Toner') # Plot() is good for showing up in GitHub, Explore() is good for interactive map and saving as HTML\n",
    "\n",
    "# Adding a title with dark orange color to the folium map\n",
    "title_html = '''\n",
    "                 <h3 align=\"center\" style=\"font-size:30px; color:Green;\"><b> Canola Yield in 2021 </b></h3>\n",
    "             '''\n",
    "m.get_root().html.add_child(folium.Element(title_html))\n",
    "m.save('/users/ruhidmirzayev/Palette/Canola_2021.html')"
   ]
  },
  {
   "cell_type": "markdown",
   "metadata": {},
   "source": [
    "#### Plot"
   ]
  },
  {
   "cell_type": "code",
   "execution_count": null,
   "metadata": {},
   "outputs": [],
   "source": [
    "ds.loc[ds['Year']==2021].plot(column='Canola', \n",
    "                                 legend=True,  \n",
    "                                 cmap='Greens')"
   ]
  },
  {
   "cell_type": "markdown",
   "metadata": {},
   "source": [
    "## Tableau"
   ]
  },
  {
   "cell_type": "raw",
   "metadata": {},
   "source": [
    "# Save as CSV\n",
    "df_gdf.drop(columns='geometry').to_csv('/Users/ruhidmirzayev/Palette/Data/Crops_Yield_1938_2022.csv')"
   ]
  },
  {
   "cell_type": "raw",
   "metadata": {},
   "source": [
    "\n",
    "df_gdf.loc[df_gdf['Year']==2020][['RM', 'geometry']]"
   ]
  },
  {
   "cell_type": "raw",
   "metadata": {},
   "source": [
    "# Save as GIS\n",
    "df_gdf.loc[df_gdf['Year']==2020][['RM', 'geometry']].to_file('/Users/ruhidmirzayev/Palette/Data/SK_MB_GIS_data.shp')"
   ]
  },
  {
   "cell_type": "markdown",
   "metadata": {},
   "source": [
    "## Aggragetions"
   ]
  },
  {
   "cell_type": "code",
   "execution_count": null,
   "metadata": {},
   "outputs": [],
   "source": [
    "df_02_22=df.loc[df['Year']>2002]"
   ]
  },
  {
   "cell_type": "code",
   "execution_count": null,
   "metadata": {},
   "outputs": [],
   "source": [
    "df_02_22"
   ]
  },
  {
   "cell_type": "code",
   "execution_count": null,
   "metadata": {},
   "outputs": [],
   "source": [
    "df_02_22.drop(columns=['Province', 'Year']).groupby('RM').mean()\n",
    "df_02_22.drop(columns=['Province', 'Year']).groupby('RM').std()\n",
    "df_02_22.drop(columns=['Province', 'Year']).groupby('RM').median()"
   ]
  },
  {
   "cell_type": "code",
   "execution_count": null,
   "metadata": {},
   "outputs": [],
   "source": [
    "pd.merge(\n",
    "    gdf,\n",
    "    df_02_22.drop(columns=['Province', 'Year']).groupby('RM').mean(),\n",
    "    on='RM').explore(\n",
    "        column='Canola',\n",
    "        cmap='RdYlGn')"
   ]
  },
  {
   "cell_type": "code",
   "execution_count": null,
   "metadata": {},
   "outputs": [],
   "source": [
    "pd.merge(\n",
    "    gdf,\n",
    "    df_02_22.drop(columns=['Province', 'Year']).groupby('RM').mean(),\n",
    "    on='RM').explore(\n",
    "        column='Lentils',\n",
    "        cmap='RdYlGn')"
   ]
  },
  {
   "cell_type": "code",
   "execution_count": null,
   "metadata": {},
   "outputs": [],
   "source": [
    "pd.merge(\n",
    "    gdf,\n",
    "    df_02_22.drop(columns=['Province', 'Year']).groupby('RM').std(),\n",
    "    on='RM').explore(\n",
    "        column='Canola',\n",
    "        cmap='RdYlGn_r')"
   ]
  },
  {
   "cell_type": "code",
   "execution_count": null,
   "metadata": {},
   "outputs": [],
   "source": [
    "# Best Canola Average Yield\n",
    "df_02_22.drop(columns=['Province', 'Year']).groupby('RM').mean().sort_values('Canola', ascending=False).head(10)"
   ]
  },
  {
   "cell_type": "code",
   "execution_count": null,
   "metadata": {},
   "outputs": [],
   "source": [
    "# Best Canola Average Yield\n",
    "df_02_22.drop(columns=['Province', 'Year']).groupby('RM').mean().sort_values('Lentils', ascending=False).head(10)"
   ]
  },
  {
   "cell_type": "markdown",
   "metadata": {},
   "source": [
    "# Feature Selection"
   ]
  },
  {
   "cell_type": "markdown",
   "metadata": {},
   "source": [
    "## Filtered Methods"
   ]
  },
  {
   "cell_type": "code",
   "execution_count": null,
   "metadata": {},
   "outputs": [],
   "source": [
    "# ANOVA\n",
    "# Pearson Correlation"
   ]
  },
  {
   "cell_type": "markdown",
   "metadata": {},
   "source": [
    "## Wrapper"
   ]
  },
  {
   "cell_type": "code",
   "execution_count": null,
   "metadata": {},
   "outputs": [],
   "source": [
    "## Recurisive Feature Elimnation\n",
    "## Backward feature elimination"
   ]
  },
  {
   "cell_type": "markdown",
   "metadata": {},
   "source": [
    "## Emedded "
   ]
  },
  {
   "cell_type": "code",
   "execution_count": null,
   "metadata": {},
   "outputs": [],
   "source": [
    "# Decision Tree\n",
    "# Lasso Reg"
   ]
  },
  {
   "cell_type": "markdown",
   "metadata": {},
   "source": [
    "# Standardizing/Split"
   ]
  },
  {
   "cell_type": "code",
   "execution_count": null,
   "metadata": {},
   "outputs": [],
   "source": [
    "# Only for Supervised ML, not unsupervised"
   ]
  },
  {
   "cell_type": "markdown",
   "metadata": {},
   "source": [
    "# Training Models"
   ]
  },
  {
   "cell_type": "code",
   "execution_count": null,
   "metadata": {},
   "outputs": [],
   "source": [
    "# Use default parameters - not advised\n",
    "\n",
    "# Parameter tuning\n",
    "# Use always grid search"
   ]
  },
  {
   "cell_type": "markdown",
   "metadata": {},
   "source": [
    "# Error  (Supervised ML)"
   ]
  },
  {
   "cell_type": "code",
   "execution_count": null,
   "metadata": {},
   "outputs": [],
   "source": [
    "# MAE (Mean Absolute Error)\n",
    "# RMSE(Mean Squared Error)\n",
    "\n",
    "# Based on above errors, find the min error model.\n",
    "# Check error distribution\n",
    "# Look at the difference\n",
    "# Make a scatterplot"
   ]
  },
  {
   "cell_type": "markdown",
   "metadata": {},
   "source": [
    "# Deployment"
   ]
  },
  {
   "cell_type": "code",
   "execution_count": null,
   "metadata": {},
   "outputs": [],
   "source": [
    "# ML engineers deploys models with SD\n",
    "\n",
    "# AWS Sagemaker"
   ]
  },
  {
   "cell_type": "markdown",
   "metadata": {},
   "source": [
    "# Monitoring"
   ]
  },
  {
   "cell_type": "code",
   "execution_count": null,
   "metadata": {},
   "outputs": [],
   "source": [
    "# Look at error\n",
    "\n",
    "# If something wrong go back to step 1"
   ]
  }
 ],
 "metadata": {
  "kernelspec": {
   "display_name": "Python 3 (ipykernel)",
   "language": "python",
   "name": "python3"
  },
  "language_info": {
   "codemirror_mode": {
    "name": "ipython",
    "version": 3
   },
   "file_extension": ".py",
   "mimetype": "text/x-python",
   "name": "python",
   "nbconvert_exporter": "python",
   "pygments_lexer": "ipython3",
   "version": "3.9.13"
  }
 },
 "nbformat": 4,
 "nbformat_minor": 2
}
