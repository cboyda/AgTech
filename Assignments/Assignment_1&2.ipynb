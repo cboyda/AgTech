{
 "cells": [
  {
   "attachments": {},
   "cell_type": "markdown",
   "metadata": {},
   "source": [
    "**Please follow the instructions. Do not add new cell! Write your code in designated areas.**"
   ]
  },
  {
   "cell_type": "code",
   "execution_count": 114,
   "metadata": {},
   "outputs": [
    {
     "name": "stdout",
     "output_type": "stream",
     "text": [
      "Assignment 1 & 2: Solutions by Clinton Boyda\n",
      "Local Time: 2023-09-18 18:46:33\n",
      "Computer ID: Fusion-Lacie-iMac2012.local\n"
     ]
    }
   ],
   "source": [
    "import datetime\n",
    "import socket\n",
    "\n",
    "# Get local time\n",
    "local_time = datetime.datetime.now().strftime(\"%Y-%m-%d %H:%M:%S\")\n",
    "\n",
    "# Get computer ID or hostname\n",
    "computer_id = socket.gethostname()\n",
    "\n",
    "# Print output with local time and computer ID\n",
    "print('Assignment 1 & 2: Solutions by Clinton Boyda') # Please change your name here\n",
    "print('Local Time:', local_time)\n",
    "print('Computer ID:', computer_id)"
   ]
  },
  {
   "cell_type": "markdown",
   "metadata": {},
   "source": [
    "**Note that you have to run this code in your local engine to pass the assignments**"
   ]
  },
  {
   "attachments": {},
   "cell_type": "markdown",
   "metadata": {},
   "source": [
    "# Assignment 1"
   ]
  },
  {
   "attachments": {},
   "cell_type": "markdown",
   "metadata": {},
   "source": [
    "## Exercise 1: String Manipulation"
   ]
  },
  {
   "attachments": {},
   "cell_type": "markdown",
   "metadata": {},
   "source": [
    "Develop a function that accepts a string parameter indicating a crop name and gives back the crop name in capital letters. Hints: str, upper()"
   ]
  },
  {
   "cell_type": "code",
   "execution_count": 115,
   "metadata": {},
   "outputs": [
    {
     "data": {
      "text/plain": [
       "'CANOLA'"
      ]
     },
     "execution_count": 115,
     "metadata": {},
     "output_type": "execute_result"
    }
   ],
   "source": [
    "## Your code here down\n",
    "def cap_crop(cropname: str) -> str:\n",
    "    \"\"\"\n",
    "    Converts the given crop name to uppercase.\n",
    "\n",
    "    Args:\n",
    "    - cropname (str): Name of the crop.\n",
    "\n",
    "    Returns:\n",
    "    - str: Crop name in uppercase.\n",
    "\n",
    "    Raises:\n",
    "    - TypeError: If input is not of type string.\n",
    "    \"\"\"\n",
    "    # function code\n",
    "\n",
    "    try:\n",
    "        # Ensure that the provided input is a list\n",
    "        if not isinstance(cropname, str):\n",
    "            raise TypeError(\"Expected a list as input.\")\n",
    "        \n",
    "        return cropname.upper()\n",
    "    \n",
    "    except TypeError as te: # catches type errors\n",
    "        return(f\"Type Error: {te}\")\n",
    "    except Exception as e: # catches unexpected errors\n",
    "        return(f\"Unexpected Error: {e}\")\n",
    "\n",
    "\n",
    "\n",
    "## Your code here up\n",
    "cap_crop(\"caNola\")"
   ]
  },
  {
   "attachments": {},
   "cell_type": "markdown",
   "metadata": {},
   "source": [
    "## Exercise 2: Crop Count"
   ]
  },
  {
   "attachments": {},
   "cell_type": "markdown",
   "metadata": {},
   "source": [
    "Create a function that receives a list of crop names (lentil, barley, canola, spring wheat, durum wheat, oats, alfalfa) and outputs the total number of crops. Hints: list, length."
   ]
  },
  {
   "cell_type": "code",
   "execution_count": 116,
   "metadata": {},
   "outputs": [
    {
     "data": {
      "text/plain": [
       "6"
      ]
     },
     "execution_count": 116,
     "metadata": {},
     "output_type": "execute_result"
    }
   ],
   "source": [
    "## Your code here down\n",
    "from typing import List\n",
    "def count_crop(mylist: List[str]) -> int:\n",
    "    \"\"\"\n",
    "    Count the number of crops in a given list.\n",
    "\n",
    "    Args:\n",
    "    - mylist (List[str]): A list containing the names of crops.\n",
    "\n",
    "    Returns:\n",
    "    - int: The total number of crops in the list.\n",
    "    \"\"\"\n",
    "    try:\n",
    "        # Ensure that the provided input is a list\n",
    "        if not isinstance(mylist, list):\n",
    "            raise TypeError(\"Expected a list as input.\")\n",
    "        \n",
    "        return len(mylist)\n",
    "    \n",
    "    except TypeError as te: # catches type errors\n",
    "        return(f\"Type Error: {te}\")\n",
    "    except Exception as e: # catches unexpected errors\n",
    "        return(f\"Unexpected Error: {e}\")\n",
    "\n",
    "## Your code here up\n",
    "count_crop(['lentil','barley','spring wheat','durum wheat','oats','alfalfa'])"
   ]
  },
  {
   "attachments": {},
   "cell_type": "markdown",
   "metadata": {},
   "source": [
    "## Exercise 3: Temperature Conversion"
   ]
  },
  {
   "attachments": {},
   "cell_type": "markdown",
   "metadata": {},
   "source": [
    "Create a function that takes a temperature in Celsius and converts it to Fahrenheit. Return the converted temperature. Keys:def, find converter."
   ]
  },
  {
   "cell_type": "code",
   "execution_count": 117,
   "metadata": {},
   "outputs": [
    {
     "name": "stdout",
     "output_type": "stream",
     "text": [
      "77.0\n"
     ]
    }
   ],
   "source": [
    "## Your code here down\n",
    "def celsius_to_fahrenheit(temp_celsius: float) -> float:\n",
    "    \"\"\"\n",
    "    Converts a temperature from Celsius to Fahrenheit.\n",
    "\n",
    "    Args:\n",
    "    - celsius (float): Temperature in Celsius.\n",
    "\n",
    "    Returns:\n",
    "    - float: Temperature in Fahrenheit.\n",
    "    \"\"\"\n",
    "    # function code\n",
    "\n",
    "    try:\n",
    "        # Ensure that the provided input is a number (either int or float)\n",
    "        if not isinstance(temp_celsius, (int, float)):\n",
    "            raise TypeError(\"Expected a number (int or float) as input.\")\n",
    "        \n",
    "        # Convert the temperature using the formula\n",
    "        temp_fahrenheit = (temp_celsius * 9/5) + 32\n",
    "        \n",
    "        return temp_fahrenheit\n",
    "    \n",
    "    except TypeError as te: # catches type errors\n",
    "        return(f\"Type Error: {te}\")\n",
    "    except Exception as e: # catches unexpected errors\n",
    "        return(f\"Unexpected Error: {e}\")\n",
    "\n",
    "## Your code here up\n",
    "\n",
    "# Test\n",
    "print(celsius_to_fahrenheit(25))  # Expected output: 77.0"
   ]
  },
  {
   "attachments": {},
   "cell_type": "markdown",
   "metadata": {},
   "source": [
    "## Exercise 4: Crop Harvest"
   ]
  },
  {
   "attachments": {},
   "cell_type": "markdown",
   "metadata": {},
   "source": [
    "Create a function that takes the yield of canola crop (in bushels) and returns a string indicating whether it's a high, moderate, or low yield. Keys: strings, if-else, print()"
   ]
  },
  {
   "cell_type": "code",
   "execution_count": 118,
   "metadata": {},
   "outputs": [
    {
     "name": "stdout",
     "output_type": "stream",
     "text": [
      "LOW\n",
      "MODERATE\n",
      "HIGH\n"
     ]
    }
   ],
   "source": [
    "## Your code here down\n",
    "def canola_yield_category(yield_bushels: float) -> str:\n",
    "    \"\"\"\n",
    "    Categorizes crop yield based on the number of bushels.\n",
    "\n",
    "    Args:\n",
    "    - bushels (float): Number of bushels.\n",
    "\n",
    "    Returns:\n",
    "    - str: Yield category - 'HIGH', 'MODERATE', or 'LOW'.\n",
    "    \"\"\"\n",
    "    try:\n",
    "        # Ensure that the provided input is a number (either int or float)\n",
    "        if not isinstance(yield_bushels, (int, float)):\n",
    "            raise TypeError(\"Expected a number (int or float) as input.\")\n",
    "        \n",
    "        # Determine the yield category\n",
    "        if yield_bushels < 35: # this range should be confirmed by SME\n",
    "            return \"LOW\"\n",
    "        elif yield_bushels > 45: # this range should be confirmed by SME\n",
    "            return \"HIGH\"\n",
    "        else:\n",
    "            return \"MODERATE\"\n",
    "    \n",
    "    except TypeError as te:  # catches type errors\n",
    "        return(f\"Type Error: {te}\")\n",
    "    except Exception as e:  # catches unexpected errors\n",
    "        return(f\"Unexpected Error: {e}\")\n",
    "\n",
    "## Your code here up\n",
    "\n",
    "# Test\n",
    "print(canola_yield_category(30))  # Expected output: LOW\n",
    "print(canola_yield_category(40))  # Expected output: MODERATE\n",
    "print(canola_yield_category(50))  # Expected output: HIGH\n"
   ]
  },
  {
   "attachments": {},
   "cell_type": "markdown",
   "metadata": {},
   "source": [
    "## Exercise 5: Crop Average"
   ]
  },
  {
   "attachments": {},
   "cell_type": "markdown",
   "metadata": {},
   "source": [
    "Create a function that takes a list of crop yields (spring wheat) and returns the average yield. Keys: list, average() or arithmetic average."
   ]
  },
  {
   "cell_type": "code",
   "execution_count": 119,
   "metadata": {},
   "outputs": [
    {
     "name": "stdout",
     "output_type": "stream",
     "text": [
      "41.25\n",
      "0\n",
      "Value Error: Invalid value in list: 30. Expected a number.\n"
     ]
    }
   ],
   "source": [
    "## Your code here down\n",
    "def average_yield(yields: list) -> float:\n",
    "    \"\"\"\n",
    "    Calculates the average yield from a list of crop yields.\n",
    "\n",
    "    Args:\n",
    "    - yields (list): List of crop yields.\n",
    "\n",
    "    Returns:\n",
    "    - float: Average crop yield.\n",
    "    \"\"\"\n",
    "    try:\n",
    "        # Ensure that the provided input is a list\n",
    "        if not isinstance(yields, list):\n",
    "            raise TypeError(\"Expected a list as input.\")\n",
    "        \n",
    "        # Ensure that every element in the list is a number\n",
    "        for y in yields:\n",
    "            if not isinstance(y, (int, float)):\n",
    "                raise ValueError(f\"Invalid value in list: {y}. Expected a number.\")\n",
    "        \n",
    "        # Calculate and return the average yield\n",
    "        total_yield = sum(yields)\n",
    "        count = len(yields)\n",
    "        return total_yield / count if count != 0 else 0\n",
    "    \n",
    "    except TypeError as te:  # catches type errors\n",
    "        return(f\"Type Error: {te}\")\n",
    "    except ValueError as ve:  # catches value errors\n",
    "        return(f\"Value Error: {ve}\")\n",
    "    except Exception as e:  # catches unexpected errors\n",
    "        return(f\"Unexpected Error: {e}\")\n",
    "   \n",
    "## Your code here up\n",
    "\n",
    "# Test\n",
    "print(average_yield([30, 40, 45, 50]))  # Expected output: 41.25\n",
    "print(average_yield([]))  # Expected output: 0\n",
    "print(average_yield([\"30\", 40, 45, 50]))  # Expected error due to string \"30\"\n"
   ]
  },
  {
   "cell_type": "markdown",
   "metadata": {},
   "source": [
    "# Assignment 2"
   ]
  },
  {
   "attachments": {},
   "cell_type": "markdown",
   "metadata": {},
   "source": [
    "## Exercise 6: Crop Recommendation"
   ]
  },
  {
   "attachments": {},
   "cell_type": "markdown",
   "metadata": {},
   "source": [
    "Create a function that takes the type of soil (brown, dark brown, black) as a parameter and returns a recommended crop (lentil, canola, oats) for that soil type. Keys: dict"
   ]
  },
  {
   "cell_type": "code",
   "execution_count": 120,
   "metadata": {},
   "outputs": [
    {
     "name": "stdout",
     "output_type": "stream",
     "text": [
      "Mustard\n",
      "Wheat\n",
      "Value Error: No recommendation available for soil type: green.\n"
     ]
    }
   ],
   "source": [
    "## Your code here down\n",
    "def recommended_crop(soil_type: str) -> str:\n",
    "    \"\"\"\n",
    "    Recommends a crop based on the type of soil provided.\n",
    "\n",
    "    Args:\n",
    "    - soil_type (str): Type of soil.\n",
    "\n",
    "    Returns:\n",
    "    - str: Recommended crop for the given soil type.\n",
    "    \"\"\"\n",
    "    # Define a dictionary that maps soil types to crops, this should be confirmed by SME\n",
    "    soil_crop_mapping = { # key soil_type with crop as value\n",
    "        \"brown\": \"Mustard\", # as per https://www1.agric.gov.ab.ca/$department/deptdocs.nsf/all/agdex12947/$file/143_20-1.pdf\n",
    "        \"dark brown\": \"Canola\",\n",
    "        \"black\": \"Wheat\"\n",
    "    }\n",
    "    \n",
    "    try:\n",
    "        # Check if the provided soil type is in the dictionary\n",
    "        if soil_type not in soil_crop_mapping:\n",
    "            raise ValueError(f\"No recommendation available for soil type: {soil_type}.\")\n",
    "        \n",
    "        # Return the recommended crop for the soil type\n",
    "        return soil_crop_mapping[soil_type]\n",
    "    \n",
    "    except ValueError as ve:  # catches value errors\n",
    "        return(f\"Value Error: {ve}\")\n",
    "    except Exception as e:  # catches unexpected errors\n",
    "        return(f\"Unexpected Error: {e}\")\n",
    "\n",
    "## Your code here up\n",
    "\n",
    "# Test\n",
    "print(recommended_crop(\"brown\"))  # Expected output: lentil\n",
    "print(recommended_crop(\"black\"))  # Expected output: oats\n",
    "print(recommended_crop(\"green\"))  # Expected error due to unknown soil type \"green\"\n"
   ]
  },
  {
   "attachments": {},
   "cell_type": "markdown",
   "metadata": {},
   "source": [
    "## Exercise 7: Crop Rotation"
   ]
  },
  {
   "attachments": {},
   "cell_type": "markdown",
   "metadata": {},
   "source": [
    "Create a function that takes a list of crop names (lentil, barly, canola, spring wheat, durum wheat, oats) and rotates the crops by moving the last crop to the beginning of the list. Keys: list and list index"
   ]
  },
  {
   "cell_type": "code",
   "execution_count": 129,
   "metadata": {},
   "outputs": [
    {
     "name": "stdout",
     "output_type": "stream",
     "text": [
      "['oats', 'lentil', 'barly', 'canola', 'spring wheat', 'durum wheat']\n"
     ]
    }
   ],
   "source": [
    "from typing import Union\n",
    "## Your code here down\n",
    "def rotate_crops(crop_list: list) -> Union[list, str]:\n",
    "    \"\"\"\n",
    "    Rotates a list of crop names by moving the last crop to the beginning.\n",
    "\n",
    "    Args:\n",
    "    - crop_list (list): List of crop names.\n",
    "\n",
    "    Returns:\n",
    "    - list or str: List of crop names after rotation or string error message.\n",
    "    \"\"\"\n",
    "    try:\n",
    "        # Ensure the provided input is a list\n",
    "        if not isinstance(crop_list, list):\n",
    "            raise TypeError(\"Expected a list as input.\")\n",
    "        \n",
    "        # Check if the list is not empty to prevent errors\n",
    "        if not crop_list:\n",
    "            return crop_list\n",
    "        \n",
    "        last_crop = crop_list[-1]\n",
    "        return [last_crop] + crop_list[:-1]\n",
    "\n",
    "    except TypeError as te:  # catches type errors\n",
    "        return f\"Type Error: {te}\"\n",
    "    except ValueError as ve:  # catches value errors\n",
    "        return f\"Value Error: {ve}\"\n",
    "    except Exception as e:  # catches unexpected errors\n",
    "        return f\"Unexpected Error: {e}\"\n",
    "\n",
    "## Your code here up\n",
    "\n",
    "# Test\n",
    "crops = ['lentil', 'barly', 'canola', 'spring wheat', 'durum wheat', 'oats']\n",
    "rotated_crops = rotate_crops(crops)\n",
    "print(rotated_crops)  # Expected output: ['oats', 'lentil', 'barly', 'canola', 'spring wheat', 'durum wheat']\n"
   ]
  },
  {
   "attachments": {},
   "cell_type": "markdown",
   "metadata": {},
   "source": [
    "# Exercise 8: Rainfall Analysis"
   ]
  },
  {
   "attachments": {},
   "cell_type": "markdown",
   "metadata": {},
   "source": [
    "Create a function that takes a list of rainfall measurements (daily mm in a week) and returns the maximum and minimum rainfall values. Keys: min(), max(), lists"
   ]
  },
  {
   "cell_type": "code",
   "execution_count": 122,
   "metadata": {},
   "outputs": [
    {
     "name": "stdout",
     "output_type": "stream",
     "text": [
      "Minimum Rainfall: 0 mm\n",
      "Maximum Rainfall: 15 mm\n"
     ]
    }
   ],
   "source": [
    "## Your code here down\n",
    "def rainfall_extremes(rainfall_list: list) -> tuple:\n",
    "    \"\"\"\n",
    "    Finds the maximum and minimum rainfall values from a list of daily measurements.\n",
    "\n",
    "    Args:\n",
    "    - rainfall (list): Daily rainfall measurements in a week.\n",
    "\n",
    "    Returns:\n",
    "    - tuple: Maximum and minimum rainfall values.\n",
    "    \"\"\"\n",
    "    try:\n",
    "        # Check if the input is a list\n",
    "        if not isinstance(rainfall_list, list):\n",
    "            raise TypeError(\"Expected a list as input.\")\n",
    "        \n",
    "        # Ensure that the list is not empty\n",
    "        if not rainfall_list:\n",
    "            return None, None  # Return None for both min and max if list is empty\n",
    "\n",
    "        # Check if all elements in the list are numbers\n",
    "        if not all(isinstance(value, (int, float)) for value in rainfall_list):\n",
    "            raise ValueError(\"All rainfall measurements should be numeric values.\")\n",
    "\n",
    "        minimum_rainfall = min(rainfall_list)\n",
    "        maximum_rainfall = max(rainfall_list)\n",
    "        \n",
    "        return minimum_rainfall, maximum_rainfall\n",
    "    \n",
    "    except TypeError as te:\n",
    "        return f\"Type Error: {te}\"\n",
    "    except ValueError as ve:\n",
    "        return f\"Value Error: {ve}\"\n",
    "    except Exception as e:  # catch other unexpected errors\n",
    "        return f\"Unexpected Error: {e}\"\n",
    "\n",
    "## Your code here up\n",
    "\n",
    "# Test\n",
    "rainfall_measurements = [10, 5, 12, 0, 3, 8, 15]\n",
    "min_rain, max_rain = rainfall_extremes(rainfall_measurements)\n",
    "print(f\"Minimum Rainfall: {min_rain} mm\")\n",
    "print(f\"Maximum Rainfall: {max_rain} mm\")\n"
   ]
  },
  {
   "attachments": {},
   "cell_type": "markdown",
   "metadata": {},
   "source": [
    "## Exercise 9: Pest Control"
   ]
  },
  {
   "attachments": {},
   "cell_type": "markdown",
   "metadata": {},
   "source": [
    "Create a function that takes the count of pests detected in a field and returns a recommendation for pest control based on the count. Please search for pests and pest control measures. Keys: if-else statement"
   ]
  },
  {
   "cell_type": "code",
   "execution_count": 123,
   "metadata": {},
   "outputs": [
    {
     "name": "stdout",
     "output_type": "stream",
     "text": [
      "With 0, No pests detected. No action required.\n",
      "With 65, High count detected. Stronger chemical treatments or fumigation might be required.\n",
      "With 20, Moderate count detected. Consider using organic or chemical repellents.\n",
      "With 8, Low count detected. Consider manual removal or using natural predators.\n"
     ]
    }
   ],
   "source": [
    "## Your code here down\n",
    "def pest_control_recommendation(pest_count: int) -> str:\n",
    "    \"\"\"\n",
    "    Provides a recommendation for pest control based on the count of pests.\n",
    "\n",
    "    Args:\n",
    "    - pest_count (int): Number of pests detected.\n",
    "\n",
    "    Returns:\n",
    "    - str: Recommendation for pest control.\n",
    "    \"\"\"\n",
    "    try:\n",
    "        if not isinstance(pest_count, int):\n",
    "            raise TypeError(\"Expected an integer as input for pest count.\")\n",
    "\n",
    "        if pest_count <= 0:\n",
    "            return \"With \" + str(pest_count) + \", No pests detected. No action required.\"\n",
    "\n",
    "        elif pest_count < 10:\n",
    "            return \"With \" + str(pest_count) + \", Low count detected. Consider manual removal or using natural predators.\"\n",
    "\n",
    "        elif pest_count < 50:\n",
    "            return \"With \" + str(pest_count) + \", Moderate count detected. Consider using organic or chemical repellents.\"\n",
    "\n",
    "        else:\n",
    "            return \"With \" + str(pest_count) + \", High count detected. Stronger chemical treatments or fumigation might be required.\"\n",
    "\n",
    "    except TypeError as te:\n",
    "        return f\"Type Error: {te}\"\n",
    "    except Exception as e:  # catch other unexpected errors\n",
    "        return f\"Unexpected Error: {e}\"\n",
    "\n",
    "## Your code here up\n",
    "\n",
    "# Test\n",
    "pest_counts = [0, 65, 20, 8]\n",
    "for count in pest_counts:\n",
    "    recommendation = pest_control_recommendation(count)\n",
    "    #print(f\"For {count} pests: {recommendation}\")\n",
    "    print(recommendation)"
   ]
  },
  {
   "attachments": {},
   "cell_type": "markdown",
   "metadata": {},
   "source": [
    "## Exercise 10: Weed Control"
   ]
  },
  {
   "attachments": {},
   "cell_type": "markdown",
   "metadata": {},
   "source": [
    "Create a function that takes a list of weed names and suggests appropriate herbicides for weed control. Keys: For Loops and dictionary."
   ]
  },
  {
   "cell_type": "code",
   "execution_count": 124,
   "metadata": {},
   "outputs": [
    {
     "name": "stdout",
     "output_type": "stream",
     "text": [
      "For dyers woad, use ['Chlorsulfuron', 'Methsulfuron methyl', 'Imazapyr'].\n",
      "For thistle, use ['2,4-D', 'Aminopyralid', 'Chlorsulfuron', 'Clopyralid', 'Dicamba', 'Glyphosate', 'Hexazinone', 'Picloram', 'Methsulfuron methyl', 'Triclopyr'].\n",
      "For unknown_weed, use General Herbicide.\n"
     ]
    }
   ],
   "source": [
    "## Your code here down\n",
    "def suggest_herbicides(weed_list: list) -> dict:\n",
    "    \"\"\"\n",
    "    Suggests appropriate herbicides for a given list of weed names.\n",
    "\n",
    "    Args:\n",
    "    - weed_list (list): List of weed names.\n",
    "\n",
    "    Returns:\n",
    "    - dict: Dictionary with weed names as keys and corresponding herbicides as values.\n",
    "    \"\"\"\n",
    "    # Define a dictionary for weed names and their corresponding herbicides\n",
    "    weed_herbicide_mapping = {\n",
    "        \"thistle\": [\"2,4-D\", \"Aminopyralid\", \"Chlorsulfuron\", \"Clopyralid\", \"Dicamba\", \"Glyphosate\", \"Hexazinone\", \"Picloram\", \"Methsulfuron methyl\", \"Triclopyr\"],\n",
    "        \"sulfur cinquefoil\": [\"2,4-D\", \"Aminopyralid\", \"Triclopyr\"],\n",
    "        \"dyers woad\": [\"Chlorsulfuron\", \"Methsulfuron methyl\", \"Imazapyr\"],\n",
    "        \"knapweeds\": [\"2,4-D\", \"Aminopyralid\", \"Clopyralid\", \"Dicamba\", \"Picloram\", \"Triclopyr\"],\n",
    "        # as per https://www.fs.usda.gov/Internet/FSE_DOCUMENTS/fseprd496996.pdf\n",
    "    }\n",
    "    \n",
    "    suggestions = {} # create empty dictionary\n",
    "\n",
    "    for weed in weed_list:\n",
    "        if weed in weed_herbicide_mapping:\n",
    "            suggestions[weed] = weed_herbicide_mapping[weed]\n",
    "        else:\n",
    "            suggestions[weed] = \"General Herbicide\"  # Default herbicide for unknown weeds\n",
    "\n",
    "    return suggestions\n",
    "\n",
    "## Your code here up\n",
    "\n",
    "# Test\n",
    "weeds = [\"dyers woad\", \"thistle\", \"unknown_weed\"]\n",
    "herbicide_recommendations = suggest_herbicides(weeds)\n",
    "for weed, herbicide in herbicide_recommendations.items():\n",
    "    print(f\"For {weed}, use {herbicide}.\")\n"
   ]
  }
 ],
 "metadata": {
  "kernelspec": {
   "display_name": "Python 3",
   "language": "python",
   "name": "python3"
  },
  "language_info": {
   "codemirror_mode": {
    "name": "ipython",
    "version": 3
   },
   "file_extension": ".py",
   "mimetype": "text/x-python",
   "name": "python",
   "nbconvert_exporter": "python",
   "pygments_lexer": "ipython3",
   "version": "3.9.13"
  },
  "orig_nbformat": 4
 },
 "nbformat": 4,
 "nbformat_minor": 2
}
