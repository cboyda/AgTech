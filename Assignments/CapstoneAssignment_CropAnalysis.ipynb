{
  "cells": [
    {
      "cell_type": "markdown",
      "metadata": {
        "id": "pAIQEYoE96bE"
      },
      "source": [
        "# Scoping"
      ]
    },
    {
      "cell_type": "markdown",
      "metadata": {
        "id": "WSe1weYP96bG"
      },
      "source": [
        "Let's go shopping for the best Canola farmland, using public commodity pricing to calculate valuations."
      ]
    },
    {
      "cell_type": "markdown",
      "metadata": {},
      "source": [
        "# Helper Functions"
      ]
    },
    {
      "cell_type": "code",
      "execution_count": 1,
      "metadata": {},
      "outputs": [],
      "source": [
        "def cleanup(variables) -> None:\n",
        "    \"\"\"\n",
        "    This function attempts to release the memory occupied by one or more variables by using the 'del' statement.\n",
        "    \n",
        "    Args:\n",
        "        variables (str or list): The name(s) of the variable(s) to be deleted. It can be a single string or a list of strings.\n",
        "\n",
        "    Returns:\n",
        "        None\n",
        "\n",
        "    Raises:\n",
        "        KeyError: If a variable with a specified name does not exist in the global namespace.\n",
        "        Exception: If any other exceptions occur during the deletion process.\n",
        "\n",
        "    Example usage:\n",
        "        # Single variable\n",
        "        df_data_mb = \"Some data\"\n",
        "        cleanup(\"df_data_mb\")\n",
        "        \n",
        "        # List of variables\n",
        "        variables_to_cleanup = [\"var1\", \"var2\", \"var3\"]\n",
        "        cleanup(variables_to_cleanup)\n",
        "    \"\"\"\n",
        "    if isinstance(variables, str):\n",
        "        variables = [variables]\n",
        "\n",
        "    for variable_name in variables:\n",
        "        try:\n",
        "            del globals()[variable_name]\n",
        "        except KeyError:\n",
        "            print(f\"Error: The variable '{variable_name}' does not exist.\")\n",
        "        except Exception as e:\n",
        "            print(f\"An error occurred: {str(e)}\")\n"
      ]
    },
    {
      "cell_type": "markdown",
      "metadata": {
        "id": "bRCppwxY96bJ"
      },
      "source": [
        "# ETL (Extract, Transform, Load)"
      ]
    },
    {
      "cell_type": "code",
      "execution_count": 2,
      "metadata": {
        "id": "3j81oA6Z96bJ"
      },
      "outputs": [],
      "source": [
        "import seaborn as sns\n",
        "\n",
        "import pandas as pd\n",
        "import numpy as np\n",
        "import geopandas as gpd\n",
        "import matplotlib.pyplot as plt\n",
        "import plotly.express as px\n",
        "from shapely.geometry import Polygon\n",
        "import folium\n",
        "# visualizations\n",
        "import folium\n",
        "from folium import plugins\n",
        "from folium.plugins import TimeSliderChoropleth\n",
        "import pandas as pd\n",
        "import json\n",
        "from branca.colormap import linear"
      ]
    },
    {
      "cell_type": "code",
      "execution_count": 3,
      "metadata": {
        "id": "uIKW-VuI96bK"
      },
      "outputs": [],
      "source": [
        "# Set plot defaults\n",
        "plt.rcParams['figure.figsize'] = [12, 8] # figure size\n",
        "plt.rcParams['font.size'] = 12 # font size\n",
        "plt.rcParams['font.family'] = 'Arial'\n",
        "# lines and markers\n",
        "plt.rcParams['lines.linestyle'] = '-'\n",
        "plt.rcParams['lines.marker'] = 'o'\n",
        "plt.rcParams['axes.labelsize'] = 14\n",
        "plt.rcParams['legend.fontsize'] = 12\n",
        "plt.rcParams['axes.titleweight'] = 'bold'\n",
        "plt.rcParams['savefig.format'] = 'pdf'"
      ]
    },
    {
      "cell_type": "markdown",
      "metadata": {
        "id": "fgGnqIpd96bL"
      },
      "source": [
        "## Define Defaults / Constants"
      ]
    },
    {
      "cell_type": "code",
      "execution_count": 4,
      "metadata": {
        "id": "Tgj0C9g096bL"
      },
      "outputs": [],
      "source": [
        "# set default file path\n",
        "file_path = '/Users/clintonboyda/Documents/GitHub/Palette_Cohort_4/'\n",
        "# note most output will be saved in the Data folder of this path"
      ]
    },
    {
      "cell_type": "code",
      "execution_count": 5,
      "metadata": {
        "id": "uIcEkwBc96bL"
      },
      "outputs": [],
      "source": [
        "crop_columns=['Canola', 'Barley', 'Canary Seed', 'Durum Wheat',\n",
        "       'Lentils', 'Oats', 'Spring Wheat', 'Peas']"
      ]
    },
    {
      "cell_type": "code",
      "execution_count": 6,
      "metadata": {},
      "outputs": [],
      "source": [
        "target_crop=['Canola']"
      ]
    },
    {
      "cell_type": "code",
      "execution_count": 7,
      "metadata": {},
      "outputs": [],
      "source": [
        "show_maps=False"
      ]
    },
    {
      "cell_type": "markdown",
      "metadata": {
        "id": "Bpn2XqPw96bL"
      },
      "source": [
        "## Extracting"
      ]
    },
    {
      "cell_type": "markdown",
      "metadata": {
        "id": "adK9Uu7a96bL"
      },
      "source": [
        "### Extract: Yield Data"
      ]
    },
    {
      "cell_type": "code",
      "execution_count": 8,
      "metadata": {
        "id": "eSVbKbeN96bM"
      },
      "outputs": [],
      "source": [
        "df_data_sk = pd.read_csv(file_path + 'Data/rm-yields-data.csv')"
      ]
    },
    {
      "cell_type": "code",
      "execution_count": 9,
      "metadata": {
        "id": "Q96l-eKO96bM"
      },
      "outputs": [],
      "source": [
        "df_data_mb = pd.read_excel(file_path + 'Data/MMPP - Yield by Soil Type Browser.xlsx')"
      ]
    },
    {
      "cell_type": "markdown",
      "metadata": {
        "id": "9vHvvW8b96bM"
      },
      "source": [
        "### Extract: Mapping Geospatial Shapefiles"
      ]
    },
    {
      "cell_type": "markdown",
      "metadata": {
        "id": "Nigstw-196bM"
      },
      "source": [
        "Grab GeoDataFrames for geospatial data presentations."
      ]
    },
    {
      "cell_type": "code",
      "execution_count": 10,
      "metadata": {
        "id": "aeV4scSK96bN"
      },
      "outputs": [],
      "source": [
        "gdf_sk=gpd.read_file(file_path + 'Data/RuralMunicipality.shp')"
      ]
    },
    {
      "cell_type": "code",
      "execution_count": 11,
      "metadata": {
        "id": "jYtJXroh96bN",
        "outputId": "cdf71508-83e0-4166-f880-02cc7c70ada7"
      },
      "outputs": [
        {
          "data": {
            "text/plain": [
              "Index(['PPID', 'EFFDT', 'EXPDT', 'FEATURECD', 'RMNO', 'RMNM', 'SHAPE_AREA',\n",
              "       'SHAPE_LEN', 'geometry'],\n",
              "      dtype='object')"
            ]
          },
          "execution_count": 11,
          "metadata": {},
          "output_type": "execute_result"
        }
      ],
      "source": [
        "gdf_sk.columns"
      ]
    },
    {
      "cell_type": "code",
      "execution_count": 12,
      "metadata": {
        "id": "ynuc1-6A96bO",
        "outputId": "4f283c06-11e4-43c0-ab06-bac6f4132b37"
      },
      "outputs": [
        {
          "data": {
            "text/plain": [
              "297"
            ]
          },
          "execution_count": 12,
          "metadata": {},
          "output_type": "execute_result"
        }
      ],
      "source": [
        "gdf_sk['RMNM'].nunique()"
      ]
    },
    {
      "cell_type": "code",
      "execution_count": 13,
      "metadata": {
        "id": "-OafyGJC96bP"
      },
      "outputs": [],
      "source": [
        "gdf_mb=gpd.read_file(file_path + 'Data/MB_Municipal_Boundaries.shp')"
      ]
    },
    {
      "cell_type": "code",
      "execution_count": 14,
      "metadata": {
        "id": "mj3fyjGV96bP",
        "outputId": "05cde47d-0c72-488b-e294-e23c64e8b540"
      },
      "outputs": [
        {
          "data": {
            "text/plain": [
              "Index(['MUNI_NO', 'MUNI_NAME', 'MUNI_TYPE', 'Shape_Leng', 'Shape_Area', 'NAME',\n",
              "       'NAME_TYPE', 'geometry'],\n",
              "      dtype='object')"
            ]
          },
          "execution_count": 14,
          "metadata": {},
          "output_type": "execute_result"
        }
      ],
      "source": [
        "gdf_mb.columns"
      ]
    },
    {
      "cell_type": "code",
      "execution_count": 15,
      "metadata": {
        "id": "FdIOPeJa96bP",
        "outputId": "734ec0b1-39bd-4efa-c46d-d4cff0393609"
      },
      "outputs": [
        {
          "data": {
            "text/plain": [
              "183"
            ]
          },
          "execution_count": 15,
          "metadata": {},
          "output_type": "execute_result"
        }
      ],
      "source": [
        "gdf_mb['MUNI_NAME'].nunique()"
      ]
    },
    {
      "cell_type": "markdown",
      "metadata": {
        "id": "z88d8Ot496bP"
      },
      "source": [
        "## Transforming"
      ]
    },
    {
      "cell_type": "markdown",
      "metadata": {
        "id": "4oe2tAMa96bP"
      },
      "source": [
        "### Transform Yield Data"
      ]
    },
    {
      "cell_type": "markdown",
      "metadata": {
        "id": "4-UkUOjO96bP"
      },
      "source": [
        "#### Transform: Yield Data for Manitoba"
      ]
    },
    {
      "cell_type": "code",
      "execution_count": 16,
      "metadata": {
        "id": "imattrvR96bQ",
        "outputId": "3bec4ab5-447e-4441-92b4-27c02c0cce42"
      },
      "outputs": [
        {
          "data": {
            "text/plain": [
              "Index(['Year', 'Risk Area / R.M.', 'Crop', 'Soil', 'Farms', 'Acres',\n",
              "       'Yield/acre(Metric)', 'Yield/acre(Metric).1', 'Yield/acre(Imperial)'],\n",
              "      dtype='object')"
            ]
          },
          "execution_count": 16,
          "metadata": {},
          "output_type": "execute_result"
        }
      ],
      "source": [
        "df_data_mb.columns"
      ]
    },
    {
      "cell_type": "code",
      "execution_count": 17,
      "metadata": {
        "id": "BwYhEZb696bQ",
        "outputId": "d28efac8-dd04-45df-aa7b-9e2e0a7d4952"
      },
      "outputs": [
        {
          "name": "stdout",
          "output_type": "stream",
          "text": [
            "<class 'pandas.core.frame.DataFrame'>\n",
            "RangeIndex: 79256 entries, 0 to 79255\n",
            "Data columns (total 9 columns):\n",
            " #   Column                Non-Null Count  Dtype \n",
            "---  ------                --------------  ----- \n",
            " 0   Year                  79256 non-null  int64 \n",
            " 1   Risk Area / R.M.      79256 non-null  object\n",
            " 2   Crop                  79256 non-null  object\n",
            " 3   Soil                  79256 non-null  object\n",
            " 4   Farms                 79256 non-null  object\n",
            " 5   Acres                 79256 non-null  object\n",
            " 6   Yield/acre(Metric)    79256 non-null  object\n",
            " 7   Yield/acre(Metric).1  38637 non-null  object\n",
            " 8   Yield/acre(Imperial)  38637 non-null  object\n",
            "dtypes: int64(1), object(8)\n",
            "memory usage: 5.4+ MB\n"
          ]
        }
      ],
      "source": [
        "df_data_mb.info()"
      ]
    },
    {
      "cell_type": "code",
      "execution_count": 18,
      "metadata": {
        "id": "hMzbVgj896bQ",
        "outputId": "894296f6-a3fc-48a1-8963-813d0a3a844d"
      },
      "outputs": [
        {
          "data": {
            "text/html": [
              "<div>\n",
              "<style scoped>\n",
              "    .dataframe tbody tr th:only-of-type {\n",
              "        vertical-align: middle;\n",
              "    }\n",
              "\n",
              "    .dataframe tbody tr th {\n",
              "        vertical-align: top;\n",
              "    }\n",
              "\n",
              "    .dataframe thead th {\n",
              "        text-align: right;\n",
              "    }\n",
              "</style>\n",
              "<table border=\"1\" class=\"dataframe\">\n",
              "  <thead>\n",
              "    <tr style=\"text-align: right;\">\n",
              "      <th></th>\n",
              "      <th>Year</th>\n",
              "      <th>Risk Area / R.M.</th>\n",
              "      <th>Crop</th>\n",
              "      <th>Soil</th>\n",
              "      <th>Farms</th>\n",
              "      <th>Acres</th>\n",
              "      <th>Yield/acre(Metric)</th>\n",
              "      <th>Yield/acre(Metric).1</th>\n",
              "      <th>Yield/acre(Imperial)</th>\n",
              "    </tr>\n",
              "  </thead>\n",
              "  <tbody>\n",
              "    <tr>\n",
              "      <th>0</th>\n",
              "      <td>2003</td>\n",
              "      <td>MONTCALM</td>\n",
              "      <td>CANARYSEED</td>\n",
              "      <td>D</td>\n",
              "      <td>7</td>\n",
              "      <td>764</td>\n",
              "      <td>0.452 Tonnes</td>\n",
              "      <td>Tonnes</td>\n",
              "      <td>997 Pounds</td>\n",
              "    </tr>\n",
              "    <tr>\n",
              "      <th>1</th>\n",
              "      <td>1998</td>\n",
              "      <td>HAMIOTA</td>\n",
              "      <td>LENTILS</td>\n",
              "      <td>B</td>\n",
              "      <td>8</td>\n",
              "      <td>1,835.0</td>\n",
              "      <td>0.451 Tonnes</td>\n",
              "      <td>Tonnes</td>\n",
              "      <td>994 Pounds</td>\n",
              "    </tr>\n",
              "    <tr>\n",
              "      <th>2</th>\n",
              "      <td>2005</td>\n",
              "      <td>THOMPSON</td>\n",
              "      <td>WHITE PEA BEANS</td>\n",
              "      <td>E</td>\n",
              "      <td>11</td>\n",
              "      <td>1,253.0</td>\n",
              "      <td>0.451 Tonnes</td>\n",
              "      <td>Tonnes</td>\n",
              "      <td>994 Pounds</td>\n",
              "    </tr>\n",
              "    <tr>\n",
              "      <th>3</th>\n",
              "      <td>1997</td>\n",
              "      <td>RHINELAND</td>\n",
              "      <td>WHITE PEA BEANS</td>\n",
              "      <td>C</td>\n",
              "      <td>29</td>\n",
              "      <td>3,399.0</td>\n",
              "      <td>0.450 Tonnes</td>\n",
              "      <td>Tonnes</td>\n",
              "      <td>992 Pounds</td>\n",
              "    </tr>\n",
              "    <tr>\n",
              "      <th>4</th>\n",
              "      <td>2004</td>\n",
              "      <td>PIPESTONE</td>\n",
              "      <td>CANARYSEED</td>\n",
              "      <td>F</td>\n",
              "      <td>8</td>\n",
              "      <td>1,180.0</td>\n",
              "      <td>0.449 Tonnes</td>\n",
              "      <td>Tonnes</td>\n",
              "      <td>991 Pounds</td>\n",
              "    </tr>\n",
              "  </tbody>\n",
              "</table>\n",
              "</div>"
            ],
            "text/plain": [
              "   Year Risk Area / R.M.             Crop Soil Farms    Acres  \\\n",
              "0  2003         MONTCALM       CANARYSEED    D     7      764   \n",
              "1  1998          HAMIOTA          LENTILS    B     8  1,835.0   \n",
              "2  2005         THOMPSON  WHITE PEA BEANS    E    11  1,253.0   \n",
              "3  1997        RHINELAND  WHITE PEA BEANS    C    29  3,399.0   \n",
              "4  2004        PIPESTONE       CANARYSEED    F     8  1,180.0   \n",
              "\n",
              "  Yield/acre(Metric) Yield/acre(Metric).1 Yield/acre(Imperial)  \n",
              "0       0.452 Tonnes               Tonnes           997 Pounds  \n",
              "1       0.451 Tonnes               Tonnes           994 Pounds  \n",
              "2       0.451 Tonnes               Tonnes           994 Pounds  \n",
              "3       0.450 Tonnes               Tonnes           992 Pounds  \n",
              "4       0.449 Tonnes               Tonnes           991 Pounds  "
            ]
          },
          "execution_count": 18,
          "metadata": {},
          "output_type": "execute_result"
        }
      ],
      "source": [
        "# Table heads\n",
        "df_data_mb.head()"
      ]
    },
    {
      "cell_type": "code",
      "execution_count": 19,
      "metadata": {
        "id": "YgMfXEcl96bQ"
      },
      "outputs": [],
      "source": [
        "df_data_mb['Yield/acre(Metric)']=df_data_mb['Yield/acre(Metric)'].str.replace(' Tonnes', '') # Replacing Tonnes\n",
        "df_data_mb['Yield/acre(Metric)']=df_data_mb['Yield/acre(Metric)'].replace('Tolerance', np.NaN) # Replacing Tolerance\n",
        "df_data_mb['Yield/acre(Metric)']=df_data_mb['Yield/acre(Metric)'].astype(float) # changing object to float data type"
      ]
    },
    {
      "cell_type": "code",
      "execution_count": 20,
      "metadata": {
        "id": "h5vz1ajP96bR"
      },
      "outputs": [],
      "source": [
        "df_data_mb_pivot=pd.pivot_table(df_data_mb.drop(columns=['Yield/acre(Metric).1', 'Yield/acre(Imperial)', 'Soil', 'Farms' ]),\n",
        "               index=['Risk Area / R.M.', 'Year'], columns='Crop', values='Yield/acre(Metric)')\\\n",
        "               .reset_index()"
      ]
    },
    {
      "cell_type": "code",
      "execution_count": 21,
      "metadata": {
        "id": "joNct2Gc96bR",
        "outputId": "45b58723-96de-4c11-aeb2-66f2b42ab47f"
      },
      "outputs": [
        {
          "data": {
            "text/plain": [
              "Index(['Risk Area / R.M.', 'Year', 'ALFALFA', 'ARGENTINE CANOLA', 'BARLEY',\n",
              "       'CANARYSEED', 'DURUM WHEAT', 'FABABEANS', 'LENTILS', 'OATS',\n",
              "       'POLISH CANOLA', 'RED SPRING WHEAT', 'WHITE PEA BEANS'],\n",
              "      dtype='object', name='Crop')"
            ]
          },
          "execution_count": 21,
          "metadata": {},
          "output_type": "execute_result"
        }
      ],
      "source": [
        "df_data_mb_pivot.columns"
      ]
    },
    {
      "cell_type": "code",
      "execution_count": 22,
      "metadata": {
        "id": "2z9S3OeW96bR"
      },
      "outputs": [],
      "source": [
        "df_data_mb_clean=df_data_mb_pivot.rename(columns={\n",
        "    'Risk Area / R.M.': 'RM',\n",
        "    'ARGENTINE CANOLA': 'Canola',\n",
        "    'BARLEY':'Barley',\n",
        "    'CANARYSEED': 'Canary Seed',\n",
        "    'DURUM WHEAT': 'Durum Wheat',\n",
        "     'LENTILS': 'Lentils',\n",
        "     'OATS': 'Oats',\n",
        "    'RED SPRING WHEAT': 'Spring Wheat',\n",
        "    'WHITE PEA BEANS': 'Peas'}) \\\n",
        "        .drop(columns=['ALFALFA', 'FABABEANS', 'FABABEANS', 'POLISH CANOLA'] )"
      ]
    },
    {
      "cell_type": "code",
      "execution_count": 23,
      "metadata": {
        "id": "G4c9E5mp96bR",
        "outputId": "d8ee4cb8-5cd0-4276-a84f-9951dea46dd3"
      },
      "outputs": [
        {
          "data": {
            "text/html": [
              "<div>\n",
              "<style scoped>\n",
              "    .dataframe tbody tr th:only-of-type {\n",
              "        vertical-align: middle;\n",
              "    }\n",
              "\n",
              "    .dataframe tbody tr th {\n",
              "        vertical-align: top;\n",
              "    }\n",
              "\n",
              "    .dataframe thead th {\n",
              "        text-align: right;\n",
              "    }\n",
              "</style>\n",
              "<table border=\"1\" class=\"dataframe\">\n",
              "  <thead>\n",
              "    <tr style=\"text-align: right;\">\n",
              "      <th>Crop</th>\n",
              "      <th>RM</th>\n",
              "      <th>Year</th>\n",
              "      <th>Canola</th>\n",
              "      <th>Barley</th>\n",
              "      <th>Canary Seed</th>\n",
              "      <th>Durum Wheat</th>\n",
              "      <th>Lentils</th>\n",
              "      <th>Oats</th>\n",
              "      <th>Spring Wheat</th>\n",
              "      <th>Peas</th>\n",
              "    </tr>\n",
              "  </thead>\n",
              "  <tbody>\n",
              "    <tr>\n",
              "      <th>0</th>\n",
              "      <td>ALEXANDER</td>\n",
              "      <td>1993</td>\n",
              "      <td>0.251000</td>\n",
              "      <td>NaN</td>\n",
              "      <td>NaN</td>\n",
              "      <td>NaN</td>\n",
              "      <td>NaN</td>\n",
              "      <td>NaN</td>\n",
              "      <td>0.338000</td>\n",
              "      <td>NaN</td>\n",
              "    </tr>\n",
              "    <tr>\n",
              "      <th>1</th>\n",
              "      <td>ALEXANDER</td>\n",
              "      <td>1994</td>\n",
              "      <td>0.289000</td>\n",
              "      <td>NaN</td>\n",
              "      <td>NaN</td>\n",
              "      <td>NaN</td>\n",
              "      <td>NaN</td>\n",
              "      <td>NaN</td>\n",
              "      <td>0.587333</td>\n",
              "      <td>NaN</td>\n",
              "    </tr>\n",
              "    <tr>\n",
              "      <th>2</th>\n",
              "      <td>ALEXANDER</td>\n",
              "      <td>1995</td>\n",
              "      <td>0.620000</td>\n",
              "      <td>NaN</td>\n",
              "      <td>NaN</td>\n",
              "      <td>NaN</td>\n",
              "      <td>NaN</td>\n",
              "      <td>NaN</td>\n",
              "      <td>0.669500</td>\n",
              "      <td>NaN</td>\n",
              "    </tr>\n",
              "    <tr>\n",
              "      <th>3</th>\n",
              "      <td>ALEXANDER</td>\n",
              "      <td>1996</td>\n",
              "      <td>0.755333</td>\n",
              "      <td>1.6955</td>\n",
              "      <td>0.212</td>\n",
              "      <td>NaN</td>\n",
              "      <td>NaN</td>\n",
              "      <td>0.956000</td>\n",
              "      <td>0.976500</td>\n",
              "      <td>NaN</td>\n",
              "    </tr>\n",
              "    <tr>\n",
              "      <th>4</th>\n",
              "      <td>ALEXANDER</td>\n",
              "      <td>1997</td>\n",
              "      <td>0.651333</td>\n",
              "      <td>NaN</td>\n",
              "      <td>NaN</td>\n",
              "      <td>NaN</td>\n",
              "      <td>NaN</td>\n",
              "      <td>1.184000</td>\n",
              "      <td>0.971750</td>\n",
              "      <td>NaN</td>\n",
              "    </tr>\n",
              "    <tr>\n",
              "      <th>...</th>\n",
              "      <td>...</td>\n",
              "      <td>...</td>\n",
              "      <td>...</td>\n",
              "      <td>...</td>\n",
              "      <td>...</td>\n",
              "      <td>...</td>\n",
              "      <td>...</td>\n",
              "      <td>...</td>\n",
              "      <td>...</td>\n",
              "      <td>...</td>\n",
              "    </tr>\n",
              "    <tr>\n",
              "      <th>2800</th>\n",
              "      <td>YELLOWHEAD</td>\n",
              "      <td>2018</td>\n",
              "      <td>1.122333</td>\n",
              "      <td>1.9260</td>\n",
              "      <td>NaN</td>\n",
              "      <td>NaN</td>\n",
              "      <td>NaN</td>\n",
              "      <td>2.094000</td>\n",
              "      <td>1.857333</td>\n",
              "      <td>NaN</td>\n",
              "    </tr>\n",
              "    <tr>\n",
              "      <th>2801</th>\n",
              "      <td>YELLOWHEAD</td>\n",
              "      <td>2019</td>\n",
              "      <td>0.963500</td>\n",
              "      <td>1.8620</td>\n",
              "      <td>NaN</td>\n",
              "      <td>NaN</td>\n",
              "      <td>NaN</td>\n",
              "      <td>1.740500</td>\n",
              "      <td>1.660000</td>\n",
              "      <td>NaN</td>\n",
              "    </tr>\n",
              "    <tr>\n",
              "      <th>2802</th>\n",
              "      <td>YELLOWHEAD</td>\n",
              "      <td>2020</td>\n",
              "      <td>0.968000</td>\n",
              "      <td>1.9245</td>\n",
              "      <td>NaN</td>\n",
              "      <td>NaN</td>\n",
              "      <td>NaN</td>\n",
              "      <td>1.725667</td>\n",
              "      <td>1.631667</td>\n",
              "      <td>NaN</td>\n",
              "    </tr>\n",
              "    <tr>\n",
              "      <th>2803</th>\n",
              "      <td>YELLOWHEAD</td>\n",
              "      <td>2021</td>\n",
              "      <td>0.888000</td>\n",
              "      <td>1.7200</td>\n",
              "      <td>NaN</td>\n",
              "      <td>NaN</td>\n",
              "      <td>NaN</td>\n",
              "      <td>1.651500</td>\n",
              "      <td>1.582000</td>\n",
              "      <td>NaN</td>\n",
              "    </tr>\n",
              "    <tr>\n",
              "      <th>2804</th>\n",
              "      <td>YELLOWHEAD</td>\n",
              "      <td>2022</td>\n",
              "      <td>1.010500</td>\n",
              "      <td>1.7690</td>\n",
              "      <td>NaN</td>\n",
              "      <td>NaN</td>\n",
              "      <td>NaN</td>\n",
              "      <td>1.991500</td>\n",
              "      <td>1.645000</td>\n",
              "      <td>NaN</td>\n",
              "    </tr>\n",
              "  </tbody>\n",
              "</table>\n",
              "<p>2805 rows × 10 columns</p>\n",
              "</div>"
            ],
            "text/plain": [
              "Crop          RM  Year    Canola  Barley  Canary Seed  Durum Wheat  Lentils  \\\n",
              "0      ALEXANDER  1993  0.251000     NaN          NaN          NaN      NaN   \n",
              "1      ALEXANDER  1994  0.289000     NaN          NaN          NaN      NaN   \n",
              "2      ALEXANDER  1995  0.620000     NaN          NaN          NaN      NaN   \n",
              "3      ALEXANDER  1996  0.755333  1.6955        0.212          NaN      NaN   \n",
              "4      ALEXANDER  1997  0.651333     NaN          NaN          NaN      NaN   \n",
              "...          ...   ...       ...     ...          ...          ...      ...   \n",
              "2800  YELLOWHEAD  2018  1.122333  1.9260          NaN          NaN      NaN   \n",
              "2801  YELLOWHEAD  2019  0.963500  1.8620          NaN          NaN      NaN   \n",
              "2802  YELLOWHEAD  2020  0.968000  1.9245          NaN          NaN      NaN   \n",
              "2803  YELLOWHEAD  2021  0.888000  1.7200          NaN          NaN      NaN   \n",
              "2804  YELLOWHEAD  2022  1.010500  1.7690          NaN          NaN      NaN   \n",
              "\n",
              "Crop      Oats  Spring Wheat  Peas  \n",
              "0          NaN      0.338000   NaN  \n",
              "1          NaN      0.587333   NaN  \n",
              "2          NaN      0.669500   NaN  \n",
              "3     0.956000      0.976500   NaN  \n",
              "4     1.184000      0.971750   NaN  \n",
              "...        ...           ...   ...  \n",
              "2800  2.094000      1.857333   NaN  \n",
              "2801  1.740500      1.660000   NaN  \n",
              "2802  1.725667      1.631667   NaN  \n",
              "2803  1.651500      1.582000   NaN  \n",
              "2804  1.991500      1.645000   NaN  \n",
              "\n",
              "[2805 rows x 10 columns]"
            ]
          },
          "execution_count": 23,
          "metadata": {},
          "output_type": "execute_result"
        }
      ],
      "source": [
        "df_data_mb_clean"
      ]
    },
    {
      "cell_type": "code",
      "execution_count": 24,
      "metadata": {
        "id": "4xtI3RPQ96bS"
      },
      "outputs": [],
      "source": [
        "# Crop conversion in MB tonnes to bushel\n",
        "df_data_mb_clean['Canola']=df_data_mb_clean['Canola'] * 44.092\n",
        "df_data_mb_clean['Barley']=df_data_mb_clean['Barley'] * 45.93\n",
        "df_data_mb_clean['Canary Seed']=df_data_mb_clean['Canary Seed'] * 44.092\n",
        "df_data_mb_clean['Durum Wheat']=df_data_mb_clean['Durum Wheat'] * 36.74\n",
        "df_data_mb_clean['Lentils']=df_data_mb_clean['Lentils'] * 36.74\n",
        "df_data_mb_clean['Oats']=df_data_mb_clean['Oats'] * 64.842\n",
        "df_data_mb_clean['Spring Wheat']=df_data_mb_clean['Spring Wheat'] * 36.74\n",
        "df_data_mb_clean['Peas']=df_data_mb_clean['Peas'] *  36.74\n"
      ]
    },
    {
      "cell_type": "code",
      "execution_count": 25,
      "metadata": {
        "id": "eRV2X4eE96bS"
      },
      "outputs": [],
      "source": [
        "# Creating province column\n",
        "df_data_mb_clean['Province'] = 'MB'\n"
      ]
    },
    {
      "cell_type": "markdown",
      "metadata": {
        "id": "xaXhPG_z96bS"
      },
      "source": [
        "#### Transform: Yield Data for Saskatchewan"
      ]
    },
    {
      "cell_type": "code",
      "execution_count": 26,
      "metadata": {
        "id": "wtNnjIus96bS",
        "outputId": "c5d29c36-bd2a-4694-9cdc-145bf654a218"
      },
      "outputs": [
        {
          "data": {
            "text/plain": [
              "Index(['Year', 'RM', 'Winter Wheat', 'Canola', 'Spring Wheat', 'Mustard',\n",
              "       'Durum', 'Sunflowers', 'Oats', 'Lentils', 'Peas', 'Barley', 'Fall Rye',\n",
              "       'Canary Seed', 'Spring Rye', 'Tame Hay', 'Flax', 'Chickpeas'],\n",
              "      dtype='object')"
            ]
          },
          "execution_count": 26,
          "metadata": {},
          "output_type": "execute_result"
        }
      ],
      "source": [
        "# List of columns\n",
        "df_data_sk.columns"
      ]
    },
    {
      "cell_type": "code",
      "execution_count": 27,
      "metadata": {
        "id": "xMvvTKnP96bT",
        "outputId": "60c70036-0576-4727-83cf-0a0e49a76128"
      },
      "outputs": [
        {
          "name": "stdout",
          "output_type": "stream",
          "text": [
            "<class 'pandas.core.frame.DataFrame'>\n",
            "RangeIndex: 25312 entries, 0 to 25311\n",
            "Data columns (total 18 columns):\n",
            " #   Column        Non-Null Count  Dtype  \n",
            "---  ------        --------------  -----  \n",
            " 0   Year          25312 non-null  int64  \n",
            " 1   RM            25312 non-null  int64  \n",
            " 2   Winter Wheat  3073 non-null   float64\n",
            " 3   Canola        14299 non-null  float64\n",
            " 4   Spring Wheat  25213 non-null  float64\n",
            " 5   Mustard       4584 non-null   float64\n",
            " 6   Durum         11753 non-null  float64\n",
            " 7   Sunflowers    946 non-null    float64\n",
            " 8   Oats          24148 non-null  float64\n",
            " 9   Lentils       5711 non-null   float64\n",
            " 10  Peas          8421 non-null   float64\n",
            " 11  Barley        24987 non-null  float64\n",
            " 12  Fall Rye      15887 non-null  float64\n",
            " 13  Canary Seed   3880 non-null   float64\n",
            " 14  Spring Rye    805 non-null    float64\n",
            " 15  Tame Hay      4205 non-null   float64\n",
            " 16  Flax          21146 non-null  float64\n",
            " 17  Chickpeas     1014 non-null   float64\n",
            "dtypes: float64(16), int64(2)\n",
            "memory usage: 3.5 MB\n"
          ]
        }
      ],
      "source": [
        "# Info about columns\n",
        "df_data_sk.info()"
      ]
    },
    {
      "cell_type": "code",
      "execution_count": 28,
      "metadata": {
        "id": "g8Oaly4196bT",
        "outputId": "47962259-b27b-48b1-fcaa-4e49977dfc23"
      },
      "outputs": [
        {
          "data": {
            "text/html": [
              "<div>\n",
              "<style scoped>\n",
              "    .dataframe tbody tr th:only-of-type {\n",
              "        vertical-align: middle;\n",
              "    }\n",
              "\n",
              "    .dataframe tbody tr th {\n",
              "        vertical-align: top;\n",
              "    }\n",
              "\n",
              "    .dataframe thead th {\n",
              "        text-align: right;\n",
              "    }\n",
              "</style>\n",
              "<table border=\"1\" class=\"dataframe\">\n",
              "  <thead>\n",
              "    <tr style=\"text-align: right;\">\n",
              "      <th></th>\n",
              "      <th>Year</th>\n",
              "      <th>RM</th>\n",
              "      <th>Winter Wheat</th>\n",
              "      <th>Canola</th>\n",
              "      <th>Spring Wheat</th>\n",
              "      <th>Mustard</th>\n",
              "      <th>Durum</th>\n",
              "      <th>Sunflowers</th>\n",
              "      <th>Oats</th>\n",
              "      <th>Lentils</th>\n",
              "      <th>Peas</th>\n",
              "      <th>Barley</th>\n",
              "      <th>Fall Rye</th>\n",
              "      <th>Canary Seed</th>\n",
              "      <th>Spring Rye</th>\n",
              "      <th>Tame Hay</th>\n",
              "      <th>Flax</th>\n",
              "      <th>Chickpeas</th>\n",
              "    </tr>\n",
              "  </thead>\n",
              "  <tbody>\n",
              "    <tr>\n",
              "      <th>0</th>\n",
              "      <td>1938</td>\n",
              "      <td>1</td>\n",
              "      <td>NaN</td>\n",
              "      <td>NaN</td>\n",
              "      <td>4.0</td>\n",
              "      <td>NaN</td>\n",
              "      <td>NaN</td>\n",
              "      <td>NaN</td>\n",
              "      <td>1.0</td>\n",
              "      <td>NaN</td>\n",
              "      <td>NaN</td>\n",
              "      <td>1.0</td>\n",
              "      <td>NaN</td>\n",
              "      <td>NaN</td>\n",
              "      <td>NaN</td>\n",
              "      <td>NaN</td>\n",
              "      <td>0.0</td>\n",
              "      <td>NaN</td>\n",
              "    </tr>\n",
              "    <tr>\n",
              "      <th>1</th>\n",
              "      <td>1939</td>\n",
              "      <td>1</td>\n",
              "      <td>NaN</td>\n",
              "      <td>NaN</td>\n",
              "      <td>9.0</td>\n",
              "      <td>NaN</td>\n",
              "      <td>NaN</td>\n",
              "      <td>NaN</td>\n",
              "      <td>16.0</td>\n",
              "      <td>NaN</td>\n",
              "      <td>NaN</td>\n",
              "      <td>16.0</td>\n",
              "      <td>NaN</td>\n",
              "      <td>NaN</td>\n",
              "      <td>NaN</td>\n",
              "      <td>NaN</td>\n",
              "      <td>0.0</td>\n",
              "      <td>NaN</td>\n",
              "    </tr>\n",
              "    <tr>\n",
              "      <th>2</th>\n",
              "      <td>1940</td>\n",
              "      <td>1</td>\n",
              "      <td>NaN</td>\n",
              "      <td>NaN</td>\n",
              "      <td>12.0</td>\n",
              "      <td>NaN</td>\n",
              "      <td>NaN</td>\n",
              "      <td>NaN</td>\n",
              "      <td>23.0</td>\n",
              "      <td>NaN</td>\n",
              "      <td>NaN</td>\n",
              "      <td>19.0</td>\n",
              "      <td>NaN</td>\n",
              "      <td>NaN</td>\n",
              "      <td>NaN</td>\n",
              "      <td>NaN</td>\n",
              "      <td>8.0</td>\n",
              "      <td>NaN</td>\n",
              "    </tr>\n",
              "    <tr>\n",
              "      <th>3</th>\n",
              "      <td>1941</td>\n",
              "      <td>1</td>\n",
              "      <td>NaN</td>\n",
              "      <td>NaN</td>\n",
              "      <td>18.0</td>\n",
              "      <td>NaN</td>\n",
              "      <td>NaN</td>\n",
              "      <td>NaN</td>\n",
              "      <td>32.0</td>\n",
              "      <td>NaN</td>\n",
              "      <td>NaN</td>\n",
              "      <td>28.0</td>\n",
              "      <td>NaN</td>\n",
              "      <td>NaN</td>\n",
              "      <td>NaN</td>\n",
              "      <td>NaN</td>\n",
              "      <td>5.0</td>\n",
              "      <td>NaN</td>\n",
              "    </tr>\n",
              "    <tr>\n",
              "      <th>4</th>\n",
              "      <td>1942</td>\n",
              "      <td>1</td>\n",
              "      <td>NaN</td>\n",
              "      <td>NaN</td>\n",
              "      <td>20.0</td>\n",
              "      <td>NaN</td>\n",
              "      <td>NaN</td>\n",
              "      <td>NaN</td>\n",
              "      <td>35.0</td>\n",
              "      <td>NaN</td>\n",
              "      <td>NaN</td>\n",
              "      <td>28.0</td>\n",
              "      <td>14.0</td>\n",
              "      <td>NaN</td>\n",
              "      <td>NaN</td>\n",
              "      <td>NaN</td>\n",
              "      <td>5.0</td>\n",
              "      <td>NaN</td>\n",
              "    </tr>\n",
              "  </tbody>\n",
              "</table>\n",
              "</div>"
            ],
            "text/plain": [
              "   Year  RM  Winter Wheat  Canola  Spring Wheat  Mustard  Durum  Sunflowers  \\\n",
              "0  1938   1           NaN     NaN           4.0      NaN    NaN         NaN   \n",
              "1  1939   1           NaN     NaN           9.0      NaN    NaN         NaN   \n",
              "2  1940   1           NaN     NaN          12.0      NaN    NaN         NaN   \n",
              "3  1941   1           NaN     NaN          18.0      NaN    NaN         NaN   \n",
              "4  1942   1           NaN     NaN          20.0      NaN    NaN         NaN   \n",
              "\n",
              "   Oats  Lentils  Peas  Barley  Fall Rye  Canary Seed  Spring Rye  Tame Hay  \\\n",
              "0   1.0      NaN   NaN     1.0       NaN          NaN         NaN       NaN   \n",
              "1  16.0      NaN   NaN    16.0       NaN          NaN         NaN       NaN   \n",
              "2  23.0      NaN   NaN    19.0       NaN          NaN         NaN       NaN   \n",
              "3  32.0      NaN   NaN    28.0       NaN          NaN         NaN       NaN   \n",
              "4  35.0      NaN   NaN    28.0      14.0          NaN         NaN       NaN   \n",
              "\n",
              "   Flax  Chickpeas  \n",
              "0   0.0        NaN  \n",
              "1   0.0        NaN  \n",
              "2   8.0        NaN  \n",
              "3   5.0        NaN  \n",
              "4   5.0        NaN  "
            ]
          },
          "execution_count": 28,
          "metadata": {},
          "output_type": "execute_result"
        }
      ],
      "source": [
        "# Table heads\n",
        "df_data_sk.head()"
      ]
    },
    {
      "cell_type": "code",
      "execution_count": 29,
      "metadata": {
        "id": "EWvCfNbv96bT",
        "outputId": "5b127c03-5d4b-482a-c1d1-79fc9b23cc48"
      },
      "outputs": [
        {
          "data": {
            "text/plain": [
              "Index(['Year', 'RM', 'Winter Wheat', 'Canola', 'Spring Wheat', 'Mustard',\n",
              "       'Durum', 'Sunflowers', 'Oats', 'Lentils', 'Peas', 'Barley', 'Fall Rye',\n",
              "       'Canary Seed', 'Spring Rye', 'Tame Hay', 'Flax', 'Chickpeas'],\n",
              "      dtype='object')"
            ]
          },
          "execution_count": 29,
          "metadata": {},
          "output_type": "execute_result"
        }
      ],
      "source": [
        "df_data_sk.columns"
      ]
    },
    {
      "cell_type": "code",
      "execution_count": 30,
      "metadata": {
        "id": "g0ZHMNbY96bT"
      },
      "outputs": [],
      "source": [
        "df_data_sk_clean=df_data_sk.rename(columns={'Durum': 'Durum Wheat'}).drop(columns=['Winter Wheat', 'Mustard', 'Sunflowers', 'Fall Rye', 'Spring Rye', 'Tame Hay','Flax', 'Chickpeas' ] )"
      ]
    },
    {
      "cell_type": "code",
      "execution_count": 31,
      "metadata": {
        "id": "gl-hqi0z96be",
        "outputId": "72cd6de1-f50f-4bd2-c681-62164475f878"
      },
      "outputs": [
        {
          "data": {
            "text/html": [
              "<div>\n",
              "<style scoped>\n",
              "    .dataframe tbody tr th:only-of-type {\n",
              "        vertical-align: middle;\n",
              "    }\n",
              "\n",
              "    .dataframe tbody tr th {\n",
              "        vertical-align: top;\n",
              "    }\n",
              "\n",
              "    .dataframe thead th {\n",
              "        text-align: right;\n",
              "    }\n",
              "</style>\n",
              "<table border=\"1\" class=\"dataframe\">\n",
              "  <thead>\n",
              "    <tr style=\"text-align: right;\">\n",
              "      <th></th>\n",
              "      <th>Year</th>\n",
              "      <th>RM</th>\n",
              "      <th>Canola</th>\n",
              "      <th>Spring Wheat</th>\n",
              "      <th>Durum Wheat</th>\n",
              "      <th>Oats</th>\n",
              "      <th>Lentils</th>\n",
              "      <th>Peas</th>\n",
              "      <th>Barley</th>\n",
              "      <th>Canary Seed</th>\n",
              "    </tr>\n",
              "  </thead>\n",
              "  <tbody>\n",
              "    <tr>\n",
              "      <th>0</th>\n",
              "      <td>1938</td>\n",
              "      <td>1</td>\n",
              "      <td>NaN</td>\n",
              "      <td>4.0</td>\n",
              "      <td>NaN</td>\n",
              "      <td>1.0</td>\n",
              "      <td>NaN</td>\n",
              "      <td>NaN</td>\n",
              "      <td>1.0</td>\n",
              "      <td>NaN</td>\n",
              "    </tr>\n",
              "    <tr>\n",
              "      <th>1</th>\n",
              "      <td>1939</td>\n",
              "      <td>1</td>\n",
              "      <td>NaN</td>\n",
              "      <td>9.0</td>\n",
              "      <td>NaN</td>\n",
              "      <td>16.0</td>\n",
              "      <td>NaN</td>\n",
              "      <td>NaN</td>\n",
              "      <td>16.0</td>\n",
              "      <td>NaN</td>\n",
              "    </tr>\n",
              "    <tr>\n",
              "      <th>2</th>\n",
              "      <td>1940</td>\n",
              "      <td>1</td>\n",
              "      <td>NaN</td>\n",
              "      <td>12.0</td>\n",
              "      <td>NaN</td>\n",
              "      <td>23.0</td>\n",
              "      <td>NaN</td>\n",
              "      <td>NaN</td>\n",
              "      <td>19.0</td>\n",
              "      <td>NaN</td>\n",
              "    </tr>\n",
              "    <tr>\n",
              "      <th>3</th>\n",
              "      <td>1941</td>\n",
              "      <td>1</td>\n",
              "      <td>NaN</td>\n",
              "      <td>18.0</td>\n",
              "      <td>NaN</td>\n",
              "      <td>32.0</td>\n",
              "      <td>NaN</td>\n",
              "      <td>NaN</td>\n",
              "      <td>28.0</td>\n",
              "      <td>NaN</td>\n",
              "    </tr>\n",
              "    <tr>\n",
              "      <th>4</th>\n",
              "      <td>1942</td>\n",
              "      <td>1</td>\n",
              "      <td>NaN</td>\n",
              "      <td>20.0</td>\n",
              "      <td>NaN</td>\n",
              "      <td>35.0</td>\n",
              "      <td>NaN</td>\n",
              "      <td>NaN</td>\n",
              "      <td>28.0</td>\n",
              "      <td>NaN</td>\n",
              "    </tr>\n",
              "    <tr>\n",
              "      <th>...</th>\n",
              "      <td>...</td>\n",
              "      <td>...</td>\n",
              "      <td>...</td>\n",
              "      <td>...</td>\n",
              "      <td>...</td>\n",
              "      <td>...</td>\n",
              "      <td>...</td>\n",
              "      <td>...</td>\n",
              "      <td>...</td>\n",
              "      <td>...</td>\n",
              "    </tr>\n",
              "    <tr>\n",
              "      <th>25307</th>\n",
              "      <td>2018</td>\n",
              "      <td>622</td>\n",
              "      <td>39.3</td>\n",
              "      <td>59.5</td>\n",
              "      <td>NaN</td>\n",
              "      <td>96.4</td>\n",
              "      <td>NaN</td>\n",
              "      <td>43.0</td>\n",
              "      <td>54.0</td>\n",
              "      <td>NaN</td>\n",
              "    </tr>\n",
              "    <tr>\n",
              "      <th>25308</th>\n",
              "      <td>2019</td>\n",
              "      <td>622</td>\n",
              "      <td>46.1</td>\n",
              "      <td>63.9</td>\n",
              "      <td>NaN</td>\n",
              "      <td>106.0</td>\n",
              "      <td>NaN</td>\n",
              "      <td>33.7</td>\n",
              "      <td>73.9</td>\n",
              "      <td>NaN</td>\n",
              "    </tr>\n",
              "    <tr>\n",
              "      <th>25309</th>\n",
              "      <td>2020</td>\n",
              "      <td>622</td>\n",
              "      <td>40.9</td>\n",
              "      <td>55.1</td>\n",
              "      <td>NaN</td>\n",
              "      <td>94.5</td>\n",
              "      <td>NaN</td>\n",
              "      <td>49.2</td>\n",
              "      <td>74.3</td>\n",
              "      <td>NaN</td>\n",
              "    </tr>\n",
              "    <tr>\n",
              "      <th>25310</th>\n",
              "      <td>2021</td>\n",
              "      <td>622</td>\n",
              "      <td>23.9</td>\n",
              "      <td>17.0</td>\n",
              "      <td>NaN</td>\n",
              "      <td>25.8</td>\n",
              "      <td>NaN</td>\n",
              "      <td>NaN</td>\n",
              "      <td>23.3</td>\n",
              "      <td>NaN</td>\n",
              "    </tr>\n",
              "    <tr>\n",
              "      <th>25311</th>\n",
              "      <td>2022</td>\n",
              "      <td>622</td>\n",
              "      <td>44.4</td>\n",
              "      <td>66.8</td>\n",
              "      <td>NaN</td>\n",
              "      <td>93.0</td>\n",
              "      <td>NaN</td>\n",
              "      <td>NaN</td>\n",
              "      <td>76.9</td>\n",
              "      <td>NaN</td>\n",
              "    </tr>\n",
              "  </tbody>\n",
              "</table>\n",
              "<p>25312 rows × 10 columns</p>\n",
              "</div>"
            ],
            "text/plain": [
              "       Year   RM  Canola  Spring Wheat  Durum Wheat   Oats  Lentils  Peas  \\\n",
              "0      1938    1     NaN           4.0          NaN    1.0      NaN   NaN   \n",
              "1      1939    1     NaN           9.0          NaN   16.0      NaN   NaN   \n",
              "2      1940    1     NaN          12.0          NaN   23.0      NaN   NaN   \n",
              "3      1941    1     NaN          18.0          NaN   32.0      NaN   NaN   \n",
              "4      1942    1     NaN          20.0          NaN   35.0      NaN   NaN   \n",
              "...     ...  ...     ...           ...          ...    ...      ...   ...   \n",
              "25307  2018  622    39.3          59.5          NaN   96.4      NaN  43.0   \n",
              "25308  2019  622    46.1          63.9          NaN  106.0      NaN  33.7   \n",
              "25309  2020  622    40.9          55.1          NaN   94.5      NaN  49.2   \n",
              "25310  2021  622    23.9          17.0          NaN   25.8      NaN   NaN   \n",
              "25311  2022  622    44.4          66.8          NaN   93.0      NaN   NaN   \n",
              "\n",
              "       Barley  Canary Seed  \n",
              "0         1.0          NaN  \n",
              "1        16.0          NaN  \n",
              "2        19.0          NaN  \n",
              "3        28.0          NaN  \n",
              "4        28.0          NaN  \n",
              "...       ...          ...  \n",
              "25307    54.0          NaN  \n",
              "25308    73.9          NaN  \n",
              "25309    74.3          NaN  \n",
              "25310    23.3          NaN  \n",
              "25311    76.9          NaN  \n",
              "\n",
              "[25312 rows x 10 columns]"
            ]
          },
          "execution_count": 31,
          "metadata": {},
          "output_type": "execute_result"
        }
      ],
      "source": [
        "df_data_sk_clean"
      ]
    },
    {
      "cell_type": "code",
      "execution_count": 32,
      "metadata": {
        "id": "3HBoUi4K96be"
      },
      "outputs": [],
      "source": [
        "# Crop Conversion in SK - pounds to bushels\n",
        "df_data_sk_clean['Lentils']=df_data_sk_clean['Lentils'] / 60\n",
        "df_data_sk_clean['Canary Seed']=df_data_sk_clean['Canary Seed'] / 50"
      ]
    },
    {
      "cell_type": "code",
      "execution_count": 33,
      "metadata": {
        "id": "648JbCIH96be"
      },
      "outputs": [],
      "source": [
        "# Creating province column\n",
        "df_data_sk_clean['Province'] = 'SK'"
      ]
    },
    {
      "cell_type": "markdown",
      "metadata": {
        "id": "JzEx0EsD96be"
      },
      "source": [
        "### Merge Transformed Data"
      ]
    },
    {
      "cell_type": "code",
      "execution_count": 34,
      "metadata": {
        "id": "-1ebrARQ96bf"
      },
      "outputs": [],
      "source": [
        "df_data_merged = pd.concat([df_data_mb_clean, df_data_sk_clean])"
      ]
    },
    {
      "cell_type": "code",
      "execution_count": 35,
      "metadata": {},
      "outputs": [],
      "source": [
        "if show_maps:\n",
        "    # Pearson Corr (-1 to 1), -1 negative corr, o no corr, 1 positive corr\n",
        "    # Using Seaborn, inserted here before we nuke the irrelevant crop columns\n",
        "    sns.heatmap(df_data_merged[crop_columns].corr(),annot=True, cmap='Greens')\n"
      ]
    },
    {
      "cell_type": "code",
      "execution_count": 36,
      "metadata": {
        "id": "tadmEDMytgyD"
      },
      "outputs": [],
      "source": [
        "df_data_merged['RM']=df_data_merged['RM'].astype('string')"
      ]
    },
    {
      "cell_type": "code",
      "execution_count": 37,
      "metadata": {},
      "outputs": [],
      "source": [
        "# remove other crop data, since we are focusing on Canola\n",
        "\n",
        "# Remove 'Canola' from crop_columns if it exists\n",
        "if 'Canola' in crop_columns:\n",
        "    crop_columns.remove('Canola')\n",
        "\n",
        "# Drop the columns in crop_columns from the DataFrame\n",
        "df_data_merged = df_data_merged.drop(columns=crop_columns)\n",
        "df_data_merged = df_data_merged.drop(columns=\"Province\")\n",
        "\n",
        "# Add 'Canola' back to crop_columns\n",
        "crop_columns.append('Canola')\n"
      ]
    },
    {
      "cell_type": "code",
      "execution_count": 38,
      "metadata": {
        "id": "RsvyCE7k96bf",
        "outputId": "a700c477-a891-48c9-86f7-454020537c57"
      },
      "outputs": [
        {
          "data": {
            "text/html": [
              "<div>\n",
              "<style scoped>\n",
              "    .dataframe tbody tr th:only-of-type {\n",
              "        vertical-align: middle;\n",
              "    }\n",
              "\n",
              "    .dataframe tbody tr th {\n",
              "        vertical-align: top;\n",
              "    }\n",
              "\n",
              "    .dataframe thead th {\n",
              "        text-align: right;\n",
              "    }\n",
              "</style>\n",
              "<table border=\"1\" class=\"dataframe\">\n",
              "  <thead>\n",
              "    <tr style=\"text-align: right;\">\n",
              "      <th></th>\n",
              "      <th>RM</th>\n",
              "      <th>Year</th>\n",
              "      <th>Canola</th>\n",
              "    </tr>\n",
              "  </thead>\n",
              "  <tbody>\n",
              "    <tr>\n",
              "      <th>0</th>\n",
              "      <td>ALEXANDER</td>\n",
              "      <td>1993</td>\n",
              "      <td>11.067092</td>\n",
              "    </tr>\n",
              "    <tr>\n",
              "      <th>1</th>\n",
              "      <td>ALEXANDER</td>\n",
              "      <td>1994</td>\n",
              "      <td>12.742588</td>\n",
              "    </tr>\n",
              "    <tr>\n",
              "      <th>2</th>\n",
              "      <td>ALEXANDER</td>\n",
              "      <td>1995</td>\n",
              "      <td>27.337040</td>\n",
              "    </tr>\n",
              "    <tr>\n",
              "      <th>3</th>\n",
              "      <td>ALEXANDER</td>\n",
              "      <td>1996</td>\n",
              "      <td>33.304157</td>\n",
              "    </tr>\n",
              "    <tr>\n",
              "      <th>4</th>\n",
              "      <td>ALEXANDER</td>\n",
              "      <td>1997</td>\n",
              "      <td>28.718589</td>\n",
              "    </tr>\n",
              "    <tr>\n",
              "      <th>...</th>\n",
              "      <td>...</td>\n",
              "      <td>...</td>\n",
              "      <td>...</td>\n",
              "    </tr>\n",
              "    <tr>\n",
              "      <th>25307</th>\n",
              "      <td>622</td>\n",
              "      <td>2018</td>\n",
              "      <td>39.300000</td>\n",
              "    </tr>\n",
              "    <tr>\n",
              "      <th>25308</th>\n",
              "      <td>622</td>\n",
              "      <td>2019</td>\n",
              "      <td>46.100000</td>\n",
              "    </tr>\n",
              "    <tr>\n",
              "      <th>25309</th>\n",
              "      <td>622</td>\n",
              "      <td>2020</td>\n",
              "      <td>40.900000</td>\n",
              "    </tr>\n",
              "    <tr>\n",
              "      <th>25310</th>\n",
              "      <td>622</td>\n",
              "      <td>2021</td>\n",
              "      <td>23.900000</td>\n",
              "    </tr>\n",
              "    <tr>\n",
              "      <th>25311</th>\n",
              "      <td>622</td>\n",
              "      <td>2022</td>\n",
              "      <td>44.400000</td>\n",
              "    </tr>\n",
              "  </tbody>\n",
              "</table>\n",
              "<p>28117 rows × 3 columns</p>\n",
              "</div>"
            ],
            "text/plain": [
              "              RM  Year     Canola\n",
              "0      ALEXANDER  1993  11.067092\n",
              "1      ALEXANDER  1994  12.742588\n",
              "2      ALEXANDER  1995  27.337040\n",
              "3      ALEXANDER  1996  33.304157\n",
              "4      ALEXANDER  1997  28.718589\n",
              "...          ...   ...        ...\n",
              "25307        622  2018  39.300000\n",
              "25308        622  2019  46.100000\n",
              "25309        622  2020  40.900000\n",
              "25310        622  2021  23.900000\n",
              "25311        622  2022  44.400000\n",
              "\n",
              "[28117 rows x 3 columns]"
            ]
          },
          "execution_count": 38,
          "metadata": {},
          "output_type": "execute_result"
        }
      ],
      "source": [
        "df_data_merged"
      ]
    },
    {
      "cell_type": "markdown",
      "metadata": {},
      "source": [
        "#### Cleanup Crop Variables"
      ]
    },
    {
      "cell_type": "code",
      "execution_count": 39,
      "metadata": {},
      "outputs": [],
      "source": [
        "# remove unneeded variables\n",
        "cleanup([\"df_data_mb_pivot\",\"df_data_sk\",\"df_data_mb\",\"df_data_sk_clean\",\"df_data_mb_clean\"])"
      ]
    },
    {
      "cell_type": "markdown",
      "metadata": {
        "id": "NV9AOeTu96bj"
      },
      "source": [
        "# GIS Analysis"
      ]
    },
    {
      "cell_type": "code",
      "execution_count": 40,
      "metadata": {
        "id": "COI4_JDM96bj",
        "outputId": "2f1514b2-5957-494e-940b-2f7e15036718"
      },
      "outputs": [
        {
          "data": {
            "text/plain": [
              "<Projected CRS: EPSG:3857>\n",
              "Name: WGS 84 / Pseudo-Mercator\n",
              "Axis Info [cartesian]:\n",
              "- X[east]: Easting (metre)\n",
              "- Y[north]: Northing (metre)\n",
              "Area of Use:\n",
              "- name: World between 85.06°S and 85.06°N.\n",
              "- bounds: (-180.0, -85.06, 180.0, 85.06)\n",
              "Coordinate Operation:\n",
              "- name: Popular Visualisation Pseudo-Mercator\n",
              "- method: Popular Visualisation Pseudo Mercator\n",
              "Datum: World Geodetic System 1984 ensemble\n",
              "- Ellipsoid: WGS 84\n",
              "- Prime Meridian: Greenwich"
            ]
          },
          "execution_count": 40,
          "metadata": {},
          "output_type": "execute_result"
        }
      ],
      "source": [
        "# CRS --> Cordinate Reference Systems\n",
        "gdf_mb['geometry'].crs"
      ]
    },
    {
      "cell_type": "code",
      "execution_count": 41,
      "metadata": {
        "id": "wxCJYi-T96bj"
      },
      "outputs": [],
      "source": [
        "# Standardazing CRS formats\n",
        "gdf_sk['geometry']=gdf_sk['geometry'].to_crs('epsg:4326')\n",
        "gdf_mb['geometry']=gdf_mb['geometry'].to_crs('epsg:4326')"
      ]
    },
    {
      "cell_type": "code",
      "execution_count": 42,
      "metadata": {
        "id": "RK2Ex3V596bk",
        "outputId": "a3fee616-3fcc-4e53-a01d-dcc480372ce8"
      },
      "outputs": [
        {
          "data": {
            "text/plain": [
              "PPID          298\n",
              "EFFDT         298\n",
              "EXPDT           0\n",
              "FEATURECD     298\n",
              "RMNO          298\n",
              "RMNM          298\n",
              "SHAPE_AREA    298\n",
              "SHAPE_LEN     298\n",
              "geometry      298\n",
              "dtype: int64"
            ]
          },
          "execution_count": 42,
          "metadata": {},
          "output_type": "execute_result"
        }
      ],
      "source": [
        "gdf_sk.count()"
      ]
    },
    {
      "cell_type": "code",
      "execution_count": 43,
      "metadata": {
        "id": "ziA87NAl96bk",
        "outputId": "499c9157-ed04-4c2b-a23e-03fa363da425"
      },
      "outputs": [
        {
          "data": {
            "text/plain": [
              "MUNI_NO       183\n",
              "MUNI_NAME     183\n",
              "MUNI_TYPE     183\n",
              "Shape_Leng    183\n",
              "Shape_Area    183\n",
              "NAME          183\n",
              "NAME_TYPE     183\n",
              "geometry      183\n",
              "dtype: int64"
            ]
          },
          "execution_count": 43,
          "metadata": {},
          "output_type": "execute_result"
        }
      ],
      "source": [
        "gdf_mb.count()"
      ]
    },
    {
      "cell_type": "code",
      "execution_count": 44,
      "metadata": {
        "id": "FcPQ2rXV96bk"
      },
      "outputs": [],
      "source": [
        "gdf_sk['RMNO']=gdf_sk['RMNO'].astype(int)"
      ]
    },
    {
      "cell_type": "code",
      "execution_count": 45,
      "metadata": {
        "id": "VFSU6Jht96bl"
      },
      "outputs": [],
      "source": [
        "# clean up Municipal Naming Conventions\n",
        "gdf_mb['MUNI_NAME']=gdf_mb['MUNI_NAME'].str.replace('RM OF ','', regex=False) # not caps sensitive\n",
        "gdf_mb['MUNI_NAME']=gdf_mb['MUNI_NAME'].str.replace('MUNICIPALITY OF ','', regex=False) # not caps sensitive\n",
        "gdf_mb['MUNI_NAME']=gdf_mb['MUNI_NAME'].str.replace(' MUNICIPALITY','', regex=False) # not caps sensitive\n",
        "gdf_mb['MUNI_NAME']=gdf_mb['MUNI_NAME'].str.replace('CITY OF ','', regex=False) # not caps sensitive"
      ]
    },
    {
      "cell_type": "code",
      "execution_count": 46,
      "metadata": {
        "id": "WUZTAFDf96bl"
      },
      "outputs": [],
      "source": [
        "gdf=pd.concat([gdf_sk[['RMNO','geometry']].rename(columns={'RMNO':'RM'}),gdf_mb[['MUNI_NAME', 'geometry']].rename(columns={'MUNI_NAME':'RM'})])"
      ]
    },
    {
      "cell_type": "code",
      "execution_count": 47,
      "metadata": {
        "id": "wQuDGyJR96bm",
        "outputId": "8a2c369c-bcc1-4140-f1aa-28184b31fc3b"
      },
      "outputs": [
        {
          "data": {
            "text/plain": [
              "RM          481\n",
              "geometry    481\n",
              "dtype: int64"
            ]
          },
          "execution_count": 47,
          "metadata": {},
          "output_type": "execute_result"
        }
      ],
      "source": [
        "gdf.count()"
      ]
    },
    {
      "cell_type": "code",
      "execution_count": 48,
      "metadata": {},
      "outputs": [
        {
          "data": {
            "text/plain": [
              "478"
            ]
          },
          "execution_count": 48,
          "metadata": {},
          "output_type": "execute_result"
        }
      ],
      "source": [
        "gdf['RM'].nunique()"
      ]
    },
    {
      "cell_type": "code",
      "execution_count": 49,
      "metadata": {},
      "outputs": [
        {
          "data": {
            "text/html": [
              "<div>\n",
              "<style scoped>\n",
              "    .dataframe tbody tr th:only-of-type {\n",
              "        vertical-align: middle;\n",
              "    }\n",
              "\n",
              "    .dataframe tbody tr th {\n",
              "        vertical-align: top;\n",
              "    }\n",
              "\n",
              "    .dataframe thead th {\n",
              "        text-align: right;\n",
              "    }\n",
              "</style>\n",
              "<table border=\"1\" class=\"dataframe\">\n",
              "  <thead>\n",
              "    <tr style=\"text-align: right;\">\n",
              "      <th></th>\n",
              "      <th>RM</th>\n",
              "      <th>geometry</th>\n",
              "    </tr>\n",
              "  </thead>\n",
              "  <tbody>\n",
              "    <tr>\n",
              "      <th>20</th>\n",
              "      <td>PORTAGE LA PRAIRIE</td>\n",
              "      <td>POLYGON ((-98.01460 50.30708, -98.01468 50.300...</td>\n",
              "    </tr>\n",
              "    <tr>\n",
              "      <th>47</th>\n",
              "      <td>DAUPHIN</td>\n",
              "      <td>POLYGON ((-100.05302 51.16755, -100.05311 51.1...</td>\n",
              "    </tr>\n",
              "    <tr>\n",
              "      <th>62</th>\n",
              "      <td>THOMPSON</td>\n",
              "      <td>POLYGON ((-97.82322 55.75650, -97.82778 55.753...</td>\n",
              "    </tr>\n",
              "    <tr>\n",
              "      <th>64</th>\n",
              "      <td>PORTAGE LA PRAIRIE</td>\n",
              "      <td>POLYGON ((-98.31913 49.97819, -98.31913 49.978...</td>\n",
              "    </tr>\n",
              "    <tr>\n",
              "      <th>87</th>\n",
              "      <td>DAUPHIN</td>\n",
              "      <td>POLYGON ((-100.27589 51.44871, -100.27560 51.4...</td>\n",
              "    </tr>\n",
              "    <tr>\n",
              "      <th>90</th>\n",
              "      <td>THOMPSON</td>\n",
              "      <td>POLYGON ((-98.06986 49.44333, -98.06985 49.436...</td>\n",
              "    </tr>\n",
              "  </tbody>\n",
              "</table>\n",
              "</div>"
            ],
            "text/plain": [
              "                    RM                                           geometry\n",
              "20  PORTAGE LA PRAIRIE  POLYGON ((-98.01460 50.30708, -98.01468 50.300...\n",
              "47             DAUPHIN  POLYGON ((-100.05302 51.16755, -100.05311 51.1...\n",
              "62            THOMPSON  POLYGON ((-97.82322 55.75650, -97.82778 55.753...\n",
              "64  PORTAGE LA PRAIRIE  POLYGON ((-98.31913 49.97819, -98.31913 49.978...\n",
              "87             DAUPHIN  POLYGON ((-100.27589 51.44871, -100.27560 51.4...\n",
              "90            THOMPSON  POLYGON ((-98.06986 49.44333, -98.06985 49.436..."
            ]
          },
          "execution_count": 49,
          "metadata": {},
          "output_type": "execute_result"
        }
      ],
      "source": [
        "gdf[gdf['RM'].duplicated(keep=False)]"
      ]
    },
    {
      "cell_type": "code",
      "execution_count": 50,
      "metadata": {},
      "outputs": [],
      "source": [
        "# let's drop those duplicate RM in gdf\n",
        "gdf = gdf.drop_duplicates(subset=['RM'], keep='first')"
      ]
    },
    {
      "cell_type": "code",
      "execution_count": 51,
      "metadata": {},
      "outputs": [
        {
          "data": {
            "text/plain": [
              "RM          478\n",
              "geometry    478\n",
              "dtype: int64"
            ]
          },
          "execution_count": 51,
          "metadata": {},
          "output_type": "execute_result"
        }
      ],
      "source": [
        "gdf.count()"
      ]
    },
    {
      "cell_type": "code",
      "execution_count": 52,
      "metadata": {
        "id": "2PPlg9gx96bm"
      },
      "outputs": [],
      "source": [
        "gdf['RM']=gdf['RM'].astype('string')"
      ]
    },
    {
      "cell_type": "code",
      "execution_count": 53,
      "metadata": {},
      "outputs": [
        {
          "data": {
            "text/plain": [
              "False"
            ]
          },
          "execution_count": 53,
          "metadata": {},
          "output_type": "execute_result"
        }
      ],
      "source": [
        "# Any RM's in gdf missing the geometry values? We want this to be False\n",
        "gdf['geometry'].isnull().any()"
      ]
    },
    {
      "cell_type": "code",
      "execution_count": 54,
      "metadata": {
        "id": "zAAxH70CtgyF",
        "outputId": "a1eef756-8d7a-4454-a47d-50d2fbcda468"
      },
      "outputs": [
        {
          "data": {
            "text/plain": [
              "RM        28117\n",
              "Year      28117\n",
              "Canola    17001\n",
              "dtype: int64"
            ]
          },
          "execution_count": 54,
          "metadata": {},
          "output_type": "execute_result"
        }
      ],
      "source": [
        "df_data_merged.count()"
      ]
    },
    {
      "cell_type": "markdown",
      "metadata": {},
      "source": [
        "#### Cleanup GIS Variables"
      ]
    },
    {
      "cell_type": "code",
      "execution_count": 55,
      "metadata": {},
      "outputs": [],
      "source": [
        "cleanup([\"gdf_sk\",\"gdf_mb\"])"
      ]
    },
    {
      "cell_type": "markdown",
      "metadata": {
        "id": "Ifa1P_MVtgyG"
      },
      "source": [
        "#### Missing Shapefiles for RM's with Crop Information"
      ]
    },
    {
      "cell_type": "code",
      "execution_count": 56,
      "metadata": {
        "id": "H5Usqm0RtgyG",
        "outputId": "c2eb9ded-5dfe-4ba2-a811-7bc14c4f56c7"
      },
      "outputs": [
        {
          "data": {
            "text/plain": [
              "['DESALABERRY',\n",
              " 'EAST ST PAUL',\n",
              " 'HILLSBURG-ROBLIN-SHELL RIVER',\n",
              " 'KILLARNEY-TURTLE MTN',\n",
              " 'NORFOLK-TREHERNE',\n",
              " 'ST. FRANCIS XAVIER',\n",
              " 'UNORG TERRITORY',\n",
              " '278',\n",
              " '408',\n",
              " '529']"
            ]
          },
          "execution_count": 56,
          "metadata": {},
          "output_type": "execute_result"
        }
      ],
      "source": [
        "# List of 'RM' values missing from df_data_merged in gdf\n",
        "missing_rm_in_df_data_merged = df_data_merged[~df_data_merged['RM'].isin(gdf['RM'])]['RM'].unique().tolist()\n",
        "missing_rm_in_df_data_merged"
      ]
    },
    {
      "cell_type": "code",
      "execution_count": 57,
      "metadata": {
        "id": "SPVqBRfKtgyH"
      },
      "outputs": [],
      "source": [
        "# # Search in df_data_merged\n",
        "# contains_xavier = df_data_merged[df_data_merged['RM'].str.contains('ROBLIN')]\n",
        "# unique_rms = contains_xavier['RM'].unique()\n",
        "# unique_rms"
      ]
    },
    {
      "cell_type": "code",
      "execution_count": 58,
      "metadata": {
        "id": "qRSs7SBptgyH"
      },
      "outputs": [],
      "source": [
        "# # Search in GDF\n",
        "# contains_xavier = gdf[gdf['RM'].str.contains('ROBLIN')]\n",
        "# print(contains_xavier)\n"
      ]
    },
    {
      "cell_type": "code",
      "execution_count": 59,
      "metadata": {
        "id": "XtaZbmcjtgyH",
        "outputId": "48c309c8-f03b-492f-b52f-cbf256e9e774"
      },
      "outputs": [],
      "source": [
        "# Manual GIS Fixes\n",
        "gdf.loc[gdf['RM'] == 'ST. FRANCOIS XAVIER', 'RM'] = 'ST. FRANCIS XAVIER'\n",
        "gdf.loc[gdf['RM'] == 'DE SALABERRY', 'RM'] = 'DESALABERRY'\n",
        "df_data_merged.loc[df_data_merged['RM'] == 'EAST ST PAUL', 'RM'] = 'EAST ST. PAUL'\n",
        "df_data_merged.loc[df_data_merged['RM'] == 'KILLARNEY-TURTLE MTN', 'RM'] = 'KILLARNEY-TURTLE MOUNTAIN'\n",
        "gdf.loc[gdf['RM'] == 'NORFOLK TREHERNE', 'RM'] = 'NORFOLK-TREHERNE'\n",
        "gdf.loc[gdf['RM'] == 'ROBLIN', 'RM'] = 'HILLSBURG-ROBLIN-SHELL RIVER'\n",
        "\n",
        "# The following RM's still are missing shape files: [278,529,408 from SK and UNORG TERRITORY from MB]\n"
      ]
    },
    {
      "cell_type": "code",
      "execution_count": 60,
      "metadata": {
        "id": "DF-RtRNQ96bo",
        "outputId": "6493940c-0552-4dce-d488-01406cbac4a8"
      },
      "outputs": [
        {
          "data": {
            "text/plain": [
              "['UNORG TERRITORY', '278', '408', '529']"
            ]
          },
          "execution_count": 60,
          "metadata": {},
          "output_type": "execute_result"
        }
      ],
      "source": [
        "# List of 'RM' values missing from df_data_merged in gdf\n",
        "missing_rm_in_df_data_merged = df_data_merged[~df_data_merged['RM'].isin(gdf['RM'])]['RM'].unique().tolist()\n",
        "missing_rm_in_df_data_merged"
      ]
    },
    {
      "cell_type": "code",
      "execution_count": 61,
      "metadata": {
        "id": "NGkxE9_M96bq",
        "outputId": "0bae5aad-2f42-4cf1-f352-99cde4087493"
      },
      "outputs": [
        {
          "name": "stdout",
          "output_type": "stream",
          "text": [
            "Quality check, any missing RM values of gdf? 0\n"
          ]
        }
      ],
      "source": [
        "print(f\"Quality check, any missing RM values of gdf? {gdf['RM'].isna().sum()}\")"
      ]
    },
    {
      "cell_type": "code",
      "execution_count": 62,
      "metadata": {
        "id": "zejNFPiy96bq",
        "outputId": "dac97c80-2392-4da5-c225-6bac6c1e3a07"
      },
      "outputs": [
        {
          "name": "stdout",
          "output_type": "stream",
          "text": [
            "Quality check, any missing geometry values of gdf? Series([], dtype: float64)\n"
          ]
        }
      ],
      "source": [
        "print(f\"Quality check, any missing geometry values of gdf? {gdf[gdf['geometry'].isna()].sum(numeric_only=True)}\")"
      ]
    },
    {
      "cell_type": "code",
      "execution_count": 63,
      "metadata": {
        "id": "rydw7KmQtgyI",
        "outputId": "e22b7166-2a8d-45ae-b280-4aea9e476873"
      },
      "outputs": [
        {
          "data": {
            "text/plain": [
              "(478, 2)"
            ]
          },
          "execution_count": 63,
          "metadata": {},
          "output_type": "execute_result"
        }
      ],
      "source": [
        "gdf.shape # only RM and geometery\n",
        "\n",
        "# looks like\n",
        "# RM\tgeometry\n",
        "#0\t95\tPOLYGON ((-102.84786 50.04713, -102.83663 50.0...\n",
        "#1\t378\tPOLYGON ((-108.45006 52.39118, -108.43824 52.3...\n"
      ]
    },
    {
      "cell_type": "code",
      "execution_count": 64,
      "metadata": {
        "id": "4s-ULXZNtgyI",
        "outputId": "f3418460-1dae-4f98-f3ea-fa3ae7171633"
      },
      "outputs": [
        {
          "data": {
            "text/plain": [
              "(28117, 3)"
            ]
          },
          "execution_count": 64,
          "metadata": {},
          "output_type": "execute_result"
        }
      ],
      "source": [
        "df_data_merged.shape"
      ]
    },
    {
      "cell_type": "code",
      "execution_count": 65,
      "metadata": {
        "id": "uiNtaNEhtgyJ",
        "outputId": "3ea34467-b3a7-488c-f244-bd38b309c008"
      },
      "outputs": [
        {
          "data": {
            "text/plain": [
              "['278', '408', '529', 'UNORG TERRITORY']"
            ]
          },
          "execution_count": 65,
          "metadata": {},
          "output_type": "execute_result"
        }
      ],
      "source": [
        "# set method to check for missing values between RM's that exist in crop data but not in shapefiles\n",
        "missing_rm_values = set(df_data_merged['RM']) - set(gdf['RM'])\n",
        "sorted_missing_rm = sorted(list(missing_rm_values))\n",
        "sorted_missing_rm"
      ]
    },
    {
      "cell_type": "markdown",
      "metadata": {},
      "source": [
        "### Merge Geometery and Crop Dataframes df_gdf"
      ]
    },
    {
      "cell_type": "markdown",
      "metadata": {},
      "source": [
        "Now that all the RM names have been fixed and we are maximizing our RM shape geodataframe we can merge our crops with our shapefiles."
      ]
    },
    {
      "cell_type": "code",
      "execution_count": 66,
      "metadata": {
        "id": "k-id-cJW96bn"
      },
      "outputs": [],
      "source": [
        "df_gdf=pd.merge(gdf, df_data_merged, on='RM') # inner join"
      ]
    },
    {
      "cell_type": "code",
      "execution_count": 67,
      "metadata": {
        "id": "6dHaRyGZtgyI",
        "outputId": "6091252a-c6d0-497c-d363-3aa183b83fb6"
      },
      "outputs": [
        {
          "data": {
            "text/plain": [
              "(27909, 4)"
            ]
          },
          "execution_count": 67,
          "metadata": {},
          "output_type": "execute_result"
        }
      ],
      "source": [
        "df_gdf.shape"
      ]
    },
    {
      "cell_type": "code",
      "execution_count": 68,
      "metadata": {
        "id": "evtupVQi96bq",
        "outputId": "7523a463-d000-46b7-a973-3eeb4e67eb10"
      },
      "outputs": [
        {
          "name": "stdout",
          "output_type": "stream",
          "text": [
            "crop df_data_merged unique RMs: 397\n",
            "GIS gdf unique RMs 478\n",
            "df_gdf unique RMs 393\n"
          ]
        }
      ],
      "source": [
        "print('crop df_data_merged unique RMs:', df_data_merged['RM'].nunique())\n",
        "print('GIS gdf unique RMs', gdf['RM'].nunique())\n",
        "print('df_gdf unique RMs',df_gdf['RM'].nunique())"
      ]
    },
    {
      "cell_type": "code",
      "execution_count": 69,
      "metadata": {},
      "outputs": [
        {
          "name": "stdout",
          "output_type": "stream",
          "text": [
            "RM values in df_data_merged but missing in gdf:\n",
            "['529', '278', '408', 'UNORG TERRITORY']\n"
          ]
        }
      ],
      "source": [
        "# Get the set of unique 'RM' values in df_data_merged\n",
        "rm_set_df_data = set(df_data_merged['RM'])\n",
        "\n",
        "# Get the set of unique 'RM' values in gdf\n",
        "rm_set_gdf = set(gdf['RM'])\n",
        "\n",
        "# Find the 'RM' values in df_data_merged that are missing in gdf\n",
        "missing_rm_values = rm_set_df_data - rm_set_gdf\n",
        "\n",
        "# Convert the result to a list\n",
        "missing_rm_values_list = list(missing_rm_values)\n",
        "\n",
        "# Print the missing 'RM' values\n",
        "print(\"RM values in df_data_merged but missing in gdf:\")\n",
        "print(missing_rm_values_list)\n"
      ]
    },
    {
      "cell_type": "code",
      "execution_count": 70,
      "metadata": {},
      "outputs": [
        {
          "data": {
            "text/plain": [
              "(28117, 3)"
            ]
          },
          "execution_count": 70,
          "metadata": {},
          "output_type": "execute_result"
        }
      ],
      "source": [
        "df_data_merged.shape"
      ]
    },
    {
      "cell_type": "code",
      "execution_count": 71,
      "metadata": {
        "id": "8AGnkNgZ96bo",
        "outputId": "fb511601-2d01-4915-f052-e38ce5976d1c"
      },
      "outputs": [
        {
          "data": {
            "text/plain": [
              "RM          27909\n",
              "geometry    27909\n",
              "Year        27909\n",
              "Canola      16888\n",
              "dtype: int64"
            ]
          },
          "execution_count": 71,
          "metadata": {},
          "output_type": "execute_result"
        }
      ],
      "source": [
        "df_gdf.count()"
      ]
    },
    {
      "cell_type": "markdown",
      "metadata": {},
      "source": [
        "So this shows us that we are losing data by trying to view with geo spatial information..."
      ]
    },
    {
      "cell_type": "markdown",
      "metadata": {
        "id": "iHvJB4H8tgyJ"
      },
      "source": [
        "## Load: Export GIS Options"
      ]
    },
    {
      "cell_type": "code",
      "execution_count": 72,
      "metadata": {
        "id": "FjVLB8hQ96bs"
      },
      "outputs": [],
      "source": [
        "# attempt to reduce size of df_gdf/csv export\n",
        "#df_gdf['geometry'] = df_gdf['geometry'].simplify(tolerance=0.01, preserve_topology=True)"
      ]
    },
    {
      "cell_type": "code",
      "execution_count": 73,
      "metadata": {
        "id": "eMIanEdW96bs"
      },
      "outputs": [],
      "source": [
        "# %pip install fastparquet\n",
        "# %pip install pyarrow"
      ]
    },
    {
      "cell_type": "code",
      "execution_count": 74,
      "metadata": {
        "id": "aYG79y2A96bs"
      },
      "outputs": [],
      "source": [
        "# export as parquet, hopefully for smaller file size\n",
        "#df_gdf.to_parquet(file_path + 'Data/merged2_MB_SK.parquet') # still 643MB"
      ]
    },
    {
      "cell_type": "code",
      "execution_count": 75,
      "metadata": {
        "id": "VhflNy-q96bs"
      },
      "outputs": [],
      "source": [
        "# export for archiving\n",
        "# df_gdf.to_csv(file_path + 'Data/merged2_MB_SK.csv', index=False) # creates 2.14GB CSV file normally or 84MB when simplified"
      ]
    },
    {
      "cell_type": "code",
      "execution_count": 76,
      "metadata": {
        "id": "RqUe1uPU96bw"
      },
      "outputs": [],
      "source": [
        "# to minimize missing Canola values\n",
        "\n",
        "# Export the filtered DataFrame to \"Crops_Yield_2002_2022.csv\"\n",
        "#df_data_merged[df_data_merged['Year'] > 2001].to_csv(file_path + 'Data/Crops_Yield_2002_2022.csv', index=False)"
      ]
    },
    {
      "cell_type": "code",
      "execution_count": 77,
      "metadata": {
        "id": "x6Ec4F7G96bw"
      },
      "outputs": [],
      "source": [
        "# try:\n",
        "#     df_gdf.drop(columns='geometry').to_csv(file_path + 'Data/Crops_Yield_1938_2022.csv', index=False)\n",
        "# except Exception as e:\n",
        "#     print(\"An error occurred:\", str(e))"
      ]
    },
    {
      "cell_type": "code",
      "execution_count": 78,
      "metadata": {
        "id": "Fb3xL5c396bw"
      },
      "outputs": [],
      "source": [
        "# try:\n",
        "#     df_gdf.loc[df_gdf['Year']==2020][['RM', 'geometry']] # 2020 since this is highest # of RMs\n",
        "#     # Save as GIS\n",
        "#     df_gdf.loc[df_gdf['Year']==2020][['RM', 'geometry']].to_file(file_path + 'Data/SK_MB_GIS_geodata.shp')\n",
        "# except Exception as e:\n",
        "#     print(\"An error occurred:\", str(e))"
      ]
    },
    {
      "cell_type": "markdown",
      "metadata": {
        "id": "WBDALj5k96b8"
      },
      "source": [
        "# Grab Canola Stock Market Pricing"
      ]
    },
    {
      "cell_type": "code",
      "execution_count": 79,
      "metadata": {
        "id": "qhmgDv-b96b8",
        "outputId": "fa76dc21-3fc3-4686-9d69-5c53d591126f"
      },
      "outputs": [
        {
          "name": "stdout",
          "output_type": "stream",
          "text": [
            "(3285, 7)\n"
          ]
        },
        {
          "data": {
            "text/html": [
              "<div>\n",
              "<style scoped>\n",
              "    .dataframe tbody tr th:only-of-type {\n",
              "        vertical-align: middle;\n",
              "    }\n",
              "\n",
              "    .dataframe tbody tr th {\n",
              "        vertical-align: top;\n",
              "    }\n",
              "\n",
              "    .dataframe thead th {\n",
              "        text-align: right;\n",
              "    }\n",
              "</style>\n",
              "<table border=\"1\" class=\"dataframe\">\n",
              "  <thead>\n",
              "    <tr style=\"text-align: right;\">\n",
              "      <th></th>\n",
              "      <th>Date</th>\n",
              "      <th>Price</th>\n",
              "      <th>Open</th>\n",
              "      <th>High</th>\n",
              "      <th>Low</th>\n",
              "      <th>Vol.</th>\n",
              "      <th>Change %</th>\n",
              "    </tr>\n",
              "  </thead>\n",
              "  <tbody>\n",
              "    <tr>\n",
              "      <th>0</th>\n",
              "      <td>10/11/2023</td>\n",
              "      <td>702.70</td>\n",
              "      <td>704.60</td>\n",
              "      <td>707.60</td>\n",
              "      <td>700.80</td>\n",
              "      <td>18.93K</td>\n",
              "      <td>-0.27%</td>\n",
              "    </tr>\n",
              "    <tr>\n",
              "      <th>1</th>\n",
              "      <td>10/10/2023</td>\n",
              "      <td>704.60</td>\n",
              "      <td>706.30</td>\n",
              "      <td>706.90</td>\n",
              "      <td>700.50</td>\n",
              "      <td>32.63K</td>\n",
              "      <td>-0.84%</td>\n",
              "    </tr>\n",
              "    <tr>\n",
              "      <th>2</th>\n",
              "      <td>10/06/2023</td>\n",
              "      <td>710.60</td>\n",
              "      <td>710.90</td>\n",
              "      <td>715.90</td>\n",
              "      <td>707.00</td>\n",
              "      <td>14.97K</td>\n",
              "      <td>-0.08%</td>\n",
              "    </tr>\n",
              "    <tr>\n",
              "      <th>3</th>\n",
              "      <td>10/05/2023</td>\n",
              "      <td>711.20</td>\n",
              "      <td>710.60</td>\n",
              "      <td>714.00</td>\n",
              "      <td>704.30</td>\n",
              "      <td>25.32K</td>\n",
              "      <td>0.06%</td>\n",
              "    </tr>\n",
              "    <tr>\n",
              "      <th>4</th>\n",
              "      <td>10/04/2023</td>\n",
              "      <td>710.80</td>\n",
              "      <td>718.90</td>\n",
              "      <td>719.40</td>\n",
              "      <td>710.50</td>\n",
              "      <td>15.87K</td>\n",
              "      <td>-0.92%</td>\n",
              "    </tr>\n",
              "  </tbody>\n",
              "</table>\n",
              "</div>"
            ],
            "text/plain": [
              "         Date   Price    Open    High     Low    Vol. Change %\n",
              "0  10/11/2023  702.70  704.60  707.60  700.80  18.93K   -0.27%\n",
              "1  10/10/2023  704.60  706.30  706.90  700.50  32.63K   -0.84%\n",
              "2  10/06/2023  710.60  710.90  715.90  707.00  14.97K   -0.08%\n",
              "3  10/05/2023  711.20  710.60  714.00  704.30  25.32K    0.06%\n",
              "4  10/04/2023  710.80  718.90  719.40  710.50  15.87K   -0.92%"
            ]
          },
          "execution_count": 79,
          "metadata": {},
          "output_type": "execute_result"
        }
      ],
      "source": [
        "# Grab Canola Stock Price\n",
        "# Stock historical values from https://www.investing.com/commodities/canola-futures-historical-data since 2002\n",
        "\n",
        "# Read the CSV file\n",
        "stock_file_upload = file_path + 'Data/Canola Futures Historical Data.csv'\n",
        "df_price = pd.read_csv(stock_file_upload)\n",
        "print(df_price.shape)\n",
        "df_price.head() # Canola stock prices"
      ]
    },
    {
      "cell_type": "code",
      "execution_count": 80,
      "metadata": {
        "id": "q4qbznd896b8",
        "outputId": "8004d659-0bff-4275-9379-f1df4f964dd7"
      },
      "outputs": [
        {
          "data": {
            "text/html": [
              "<div>\n",
              "<style scoped>\n",
              "    .dataframe tbody tr th:only-of-type {\n",
              "        vertical-align: middle;\n",
              "    }\n",
              "\n",
              "    .dataframe tbody tr th {\n",
              "        vertical-align: top;\n",
              "    }\n",
              "\n",
              "    .dataframe thead th {\n",
              "        text-align: right;\n",
              "    }\n",
              "</style>\n",
              "<table border=\"1\" class=\"dataframe\">\n",
              "  <thead>\n",
              "    <tr style=\"text-align: right;\">\n",
              "      <th></th>\n",
              "      <th>Year</th>\n",
              "      <th>Price</th>\n",
              "    </tr>\n",
              "  </thead>\n",
              "  <tbody>\n",
              "    <tr>\n",
              "      <th>0</th>\n",
              "      <td>2010</td>\n",
              "      <td>11.584916</td>\n",
              "    </tr>\n",
              "    <tr>\n",
              "      <th>1</th>\n",
              "      <td>2011</td>\n",
              "      <td>12.697583</td>\n",
              "    </tr>\n",
              "    <tr>\n",
              "      <th>2</th>\n",
              "      <td>2012</td>\n",
              "      <td>13.619305</td>\n",
              "    </tr>\n",
              "    <tr>\n",
              "      <th>3</th>\n",
              "      <td>2013</td>\n",
              "      <td>12.712374</td>\n",
              "    </tr>\n",
              "    <tr>\n",
              "      <th>4</th>\n",
              "      <td>2014</td>\n",
              "      <td>10.011530</td>\n",
              "    </tr>\n",
              "    <tr>\n",
              "      <th>5</th>\n",
              "      <td>2015</td>\n",
              "      <td>10.752499</td>\n",
              "    </tr>\n",
              "    <tr>\n",
              "      <th>6</th>\n",
              "      <td>2016</td>\n",
              "      <td>10.991028</td>\n",
              "    </tr>\n",
              "    <tr>\n",
              "      <th>7</th>\n",
              "      <td>2017</td>\n",
              "      <td>11.557160</td>\n",
              "    </tr>\n",
              "    <tr>\n",
              "      <th>8</th>\n",
              "      <td>2018</td>\n",
              "      <td>11.419069</td>\n",
              "    </tr>\n",
              "    <tr>\n",
              "      <th>9</th>\n",
              "      <td>2019</td>\n",
              "      <td>10.354831</td>\n",
              "    </tr>\n",
              "    <tr>\n",
              "      <th>10</th>\n",
              "      <td>2020</td>\n",
              "      <td>11.275979</td>\n",
              "    </tr>\n",
              "    <tr>\n",
              "      <th>11</th>\n",
              "      <td>2021</td>\n",
              "      <td>19.061270</td>\n",
              "    </tr>\n",
              "    <tr>\n",
              "      <th>12</th>\n",
              "      <td>2022</td>\n",
              "      <td>19.521513</td>\n",
              "    </tr>\n",
              "    <tr>\n",
              "      <th>13</th>\n",
              "      <td>2023</td>\n",
              "      <td>17.565697</td>\n",
              "    </tr>\n",
              "  </tbody>\n",
              "</table>\n",
              "</div>"
            ],
            "text/plain": [
              "    Year      Price\n",
              "0   2010  11.584916\n",
              "1   2011  12.697583\n",
              "2   2012  13.619305\n",
              "3   2013  12.712374\n",
              "4   2014  10.011530\n",
              "5   2015  10.752499\n",
              "6   2016  10.991028\n",
              "7   2017  11.557160\n",
              "8   2018  11.419069\n",
              "9   2019  10.354831\n",
              "10  2020  11.275979\n",
              "11  2021  19.061270\n",
              "12  2022  19.521513\n",
              "13  2023  17.565697"
            ]
          },
          "execution_count": 80,
          "metadata": {},
          "output_type": "execute_result"
        }
      ],
      "source": [
        "# Convert the 'Date' column to datetime type\n",
        "df_price['Date'] = pd.to_datetime(df_price['Date'])\n",
        "\n",
        "# Rename Price to reflect unit\n",
        "df_price.rename(columns={'Price': 'Price_per_Tonne'}, inplace=True)\n",
        "\n",
        "# To average the annual price, we first need to extract the year from the 'Date' column and create a new column for it\n",
        "df_price['Year'] = df_price['Date'].dt.year\n",
        "\n",
        "# Convert the 'Price' column to a numeric type, removing any non-numeric characters if necessary\n",
        "df_price['Price_per_Tonne'] = pd.to_numeric(df_price['Price_per_Tonne'], errors='coerce')\n",
        "\n",
        "# Drop any rows where 'Price' is NaN, if any\n",
        "df_price.dropna(subset=['Price_per_Tonne'], inplace=True)\n",
        "\n",
        "# Group by 'Year' and calculate the mean price for each year\n",
        "#`df_price_by_year` is a DataFrame that contains the average annual price of canola futures. It is created by grouping the original DataFrame `df_price` by the 'Year' column and calculating the mean price for each year. The resulting DataFrame has columns 'Year', 'Price_per_Tonne', and 'Price_per_bushel'. The 'Price_per_Tonne' column represents the average annual price per tonne, while the 'Price_per_bushel' column represents the average annual price converted to bushels using a specific conversion factor.\n",
        "df_price_by_year = df_price.groupby('Year')['Price_per_Tonne'].mean().reset_index()\n",
        "\n",
        "# Convert stock price from tonnes to bushels to match our GIS data\n",
        "specific_conversion_factor = 1 / 44.092  # 1 tonne = 44.092 bushels\n",
        "\n",
        "# Apply the specific conversion factor to the 'Price' column\n",
        "df_price_by_year['Price'] = df_price_by_year['Price_per_Tonne'] * specific_conversion_factor\n",
        "\n",
        "# Rename the 'Price' column to 'Price_per_Tonne'\n",
        "#df_price_by_year.rename(columns={'Price': 'Price_per_Tonne'}, inplace=True)\n",
        "df_price_by_year = df_price_by_year.drop(columns=[\"Price_per_Tonne\"])\n",
        "\n",
        "df_price_by_year\n"
      ]
    },
    {
      "cell_type": "code",
      "execution_count": 81,
      "metadata": {},
      "outputs": [
        {
          "data": {
            "image/png": "[encoded data removed]",
            "text/plain": [
              "<Figure size 1500x800 with 1 Axes>"
            ]
          },
          "metadata": {},
          "output_type": "display_data"
        }
      ],
      "source": [
        "# Display the first few rows of the DataFrame to check the conversion\n",
        "df_price_by_year.head()\n",
        "# Plotting the averaged annual price data\n",
        "plt.figure(figsize=(15, 8))\n",
        "plt.plot(df_price_by_year['Year'], df_price_by_year['Price'], marker='o', linestyle='-', color='b')\n",
        "plt.xlabel('Year', fontsize=14)\n",
        "plt.ylabel('Average Annual Price per bushel', fontsize=14)\n",
        "plt.title('Average Annual Price of Canola Futures', fontsize=16)\n",
        "plt.grid(True)\n",
        "plt.show()"
      ]
    },
    {
      "cell_type": "markdown",
      "metadata": {
        "id": "0BWEARaE96b9"
      },
      "source": [
        "# Merge Yield and Stock Price of Canola"
      ]
    },
    {
      "cell_type": "code",
      "execution_count": 82,
      "metadata": {
        "id": "h1YOa9g996b-",
        "outputId": "bef5cf74-f7ab-45f5-a50a-c8b445023672"
      },
      "outputs": [
        {
          "data": {
            "text/html": [
              "<div>\n",
              "<style scoped>\n",
              "    .dataframe tbody tr th:only-of-type {\n",
              "        vertical-align: middle;\n",
              "    }\n",
              "\n",
              "    .dataframe tbody tr th {\n",
              "        vertical-align: top;\n",
              "    }\n",
              "\n",
              "    .dataframe thead th {\n",
              "        text-align: right;\n",
              "    }\n",
              "</style>\n",
              "<table border=\"1\" class=\"dataframe\">\n",
              "  <thead>\n",
              "    <tr style=\"text-align: right;\">\n",
              "      <th></th>\n",
              "      <th>RM</th>\n",
              "      <th>Year</th>\n",
              "      <th>Canola</th>\n",
              "      <th>Price</th>\n",
              "    </tr>\n",
              "  </thead>\n",
              "  <tbody>\n",
              "    <tr>\n",
              "      <th>0</th>\n",
              "      <td>ALEXANDER</td>\n",
              "      <td>2010</td>\n",
              "      <td>14.440130</td>\n",
              "      <td>11.584916</td>\n",
              "    </tr>\n",
              "    <tr>\n",
              "      <th>1</th>\n",
              "      <td>ALONSA</td>\n",
              "      <td>2010</td>\n",
              "      <td>17.989536</td>\n",
              "      <td>11.584916</td>\n",
              "    </tr>\n",
              "    <tr>\n",
              "      <th>2</th>\n",
              "      <td>ARGYLE</td>\n",
              "      <td>2010</td>\n",
              "      <td>42.970803</td>\n",
              "      <td>11.584916</td>\n",
              "    </tr>\n",
              "    <tr>\n",
              "      <th>3</th>\n",
              "      <td>ARMSTRONG</td>\n",
              "      <td>2010</td>\n",
              "      <td>11.419828</td>\n",
              "      <td>11.584916</td>\n",
              "    </tr>\n",
              "    <tr>\n",
              "      <th>4</th>\n",
              "      <td>BIFROST-RIVERTON</td>\n",
              "      <td>2010</td>\n",
              "      <td>9.523872</td>\n",
              "      <td>11.584916</td>\n",
              "    </tr>\n",
              "    <tr>\n",
              "      <th>...</th>\n",
              "      <td>...</td>\n",
              "      <td>...</td>\n",
              "      <td>...</td>\n",
              "      <td>...</td>\n",
              "    </tr>\n",
              "    <tr>\n",
              "      <th>5055</th>\n",
              "      <td>520</td>\n",
              "      <td>2022</td>\n",
              "      <td>47.900000</td>\n",
              "      <td>19.521513</td>\n",
              "    </tr>\n",
              "    <tr>\n",
              "      <th>5056</th>\n",
              "      <td>555</td>\n",
              "      <td>2022</td>\n",
              "      <td>39.900000</td>\n",
              "      <td>19.521513</td>\n",
              "    </tr>\n",
              "    <tr>\n",
              "      <th>5057</th>\n",
              "      <td>561</td>\n",
              "      <td>2022</td>\n",
              "      <td>28.200000</td>\n",
              "      <td>19.521513</td>\n",
              "    </tr>\n",
              "    <tr>\n",
              "      <th>5058</th>\n",
              "      <td>588</td>\n",
              "      <td>2022</td>\n",
              "      <td>35.900000</td>\n",
              "      <td>19.521513</td>\n",
              "    </tr>\n",
              "    <tr>\n",
              "      <th>5059</th>\n",
              "      <td>622</td>\n",
              "      <td>2022</td>\n",
              "      <td>44.400000</td>\n",
              "      <td>19.521513</td>\n",
              "    </tr>\n",
              "  </tbody>\n",
              "</table>\n",
              "<p>5060 rows × 4 columns</p>\n",
              "</div>"
            ],
            "text/plain": [
              "                    RM  Year     Canola      Price\n",
              "0            ALEXANDER  2010  14.440130  11.584916\n",
              "1               ALONSA  2010  17.989536  11.584916\n",
              "2               ARGYLE  2010  42.970803  11.584916\n",
              "3            ARMSTRONG  2010  11.419828  11.584916\n",
              "4     BIFROST-RIVERTON  2010   9.523872  11.584916\n",
              "...                ...   ...        ...        ...\n",
              "5055               520  2022  47.900000  19.521513\n",
              "5056               555  2022  39.900000  19.521513\n",
              "5057               561  2022  28.200000  19.521513\n",
              "5058               588  2022  35.900000  19.521513\n",
              "5059               622  2022  44.400000  19.521513\n",
              "\n",
              "[5060 rows x 4 columns]"
            ]
          },
          "execution_count": 82,
          "metadata": {},
          "output_type": "execute_result"
        }
      ],
      "source": [
        "# Merge df_data_merged our crop data and df_price_by_year based on the 'Year' column\n",
        "df_price_merged = df_data_merged.merge(df_price_by_year, on='Year', how='inner')\n",
        "df_price_merged"
      ]
    },
    {
      "cell_type": "markdown",
      "metadata": {
        "id": "4VdjE3Q896cF"
      },
      "source": [
        "#### Let's add a column 'Value' which is basically the yield x stock price for that year to show valuation for each RM."
      ]
    },
    {
      "cell_type": "code",
      "execution_count": 83,
      "metadata": {},
      "outputs": [
        {
          "data": {
            "text/html": [
              "<div>\n",
              "<style scoped>\n",
              "    .dataframe tbody tr th:only-of-type {\n",
              "        vertical-align: middle;\n",
              "    }\n",
              "\n",
              "    .dataframe tbody tr th {\n",
              "        vertical-align: top;\n",
              "    }\n",
              "\n",
              "    .dataframe thead th {\n",
              "        text-align: right;\n",
              "    }\n",
              "</style>\n",
              "<table border=\"1\" class=\"dataframe\">\n",
              "  <thead>\n",
              "    <tr style=\"text-align: right;\">\n",
              "      <th></th>\n",
              "      <th>RM</th>\n",
              "      <th>Year</th>\n",
              "      <th>Canola</th>\n",
              "      <th>Price</th>\n",
              "      <th>Value</th>\n",
              "    </tr>\n",
              "  </thead>\n",
              "  <tbody>\n",
              "    <tr>\n",
              "      <th>0</th>\n",
              "      <td>ALEXANDER</td>\n",
              "      <td>2010</td>\n",
              "      <td>14.440130</td>\n",
              "      <td>11.584916</td>\n",
              "      <td>167.287689</td>\n",
              "    </tr>\n",
              "    <tr>\n",
              "      <th>1</th>\n",
              "      <td>ALONSA</td>\n",
              "      <td>2010</td>\n",
              "      <td>17.989536</td>\n",
              "      <td>11.584916</td>\n",
              "      <td>208.407259</td>\n",
              "    </tr>\n",
              "    <tr>\n",
              "      <th>2</th>\n",
              "      <td>ARGYLE</td>\n",
              "      <td>2010</td>\n",
              "      <td>42.970803</td>\n",
              "      <td>11.584916</td>\n",
              "      <td>497.813137</td>\n",
              "    </tr>\n",
              "    <tr>\n",
              "      <th>3</th>\n",
              "      <td>ARMSTRONG</td>\n",
              "      <td>2010</td>\n",
              "      <td>11.419828</td>\n",
              "      <td>11.584916</td>\n",
              "      <td>132.297745</td>\n",
              "    </tr>\n",
              "    <tr>\n",
              "      <th>4</th>\n",
              "      <td>BIFROST-RIVERTON</td>\n",
              "      <td>2010</td>\n",
              "      <td>9.523872</td>\n",
              "      <td>11.584916</td>\n",
              "      <td>110.333255</td>\n",
              "    </tr>\n",
              "    <tr>\n",
              "      <th>...</th>\n",
              "      <td>...</td>\n",
              "      <td>...</td>\n",
              "      <td>...</td>\n",
              "      <td>...</td>\n",
              "      <td>...</td>\n",
              "    </tr>\n",
              "    <tr>\n",
              "      <th>5055</th>\n",
              "      <td>520</td>\n",
              "      <td>2022</td>\n",
              "      <td>47.900000</td>\n",
              "      <td>19.521513</td>\n",
              "      <td>935.080458</td>\n",
              "    </tr>\n",
              "    <tr>\n",
              "      <th>5056</th>\n",
              "      <td>555</td>\n",
              "      <td>2022</td>\n",
              "      <td>39.900000</td>\n",
              "      <td>19.521513</td>\n",
              "      <td>778.908356</td>\n",
              "    </tr>\n",
              "    <tr>\n",
              "      <th>5057</th>\n",
              "      <td>561</td>\n",
              "      <td>2022</td>\n",
              "      <td>28.200000</td>\n",
              "      <td>19.521513</td>\n",
              "      <td>550.506658</td>\n",
              "    </tr>\n",
              "    <tr>\n",
              "      <th>5058</th>\n",
              "      <td>588</td>\n",
              "      <td>2022</td>\n",
              "      <td>35.900000</td>\n",
              "      <td>19.521513</td>\n",
              "      <td>700.822305</td>\n",
              "    </tr>\n",
              "    <tr>\n",
              "      <th>5059</th>\n",
              "      <td>622</td>\n",
              "      <td>2022</td>\n",
              "      <td>44.400000</td>\n",
              "      <td>19.521513</td>\n",
              "      <td>866.755163</td>\n",
              "    </tr>\n",
              "  </tbody>\n",
              "</table>\n",
              "<p>5060 rows × 5 columns</p>\n",
              "</div>"
            ],
            "text/plain": [
              "                    RM  Year     Canola      Price       Value\n",
              "0            ALEXANDER  2010  14.440130  11.584916  167.287689\n",
              "1               ALONSA  2010  17.989536  11.584916  208.407259\n",
              "2               ARGYLE  2010  42.970803  11.584916  497.813137\n",
              "3            ARMSTRONG  2010  11.419828  11.584916  132.297745\n",
              "4     BIFROST-RIVERTON  2010   9.523872  11.584916  110.333255\n",
              "...                ...   ...        ...        ...         ...\n",
              "5055               520  2022  47.900000  19.521513  935.080458\n",
              "5056               555  2022  39.900000  19.521513  778.908356\n",
              "5057               561  2022  28.200000  19.521513  550.506658\n",
              "5058               588  2022  35.900000  19.521513  700.822305\n",
              "5059               622  2022  44.400000  19.521513  866.755163\n",
              "\n",
              "[5060 rows x 5 columns]"
            ]
          },
          "execution_count": 83,
          "metadata": {},
          "output_type": "execute_result"
        }
      ],
      "source": [
        "# Calculate the 'Value' column by multiplying 'Price' with 'Canola' yield for each RM and year\n",
        "df_price_merged['Value'] = df_price_merged['Price'] * df_price_merged['Canola']\n",
        "df_price_merged"
      ]
    },
    {
      "cell_type": "code",
      "execution_count": 84,
      "metadata": {},
      "outputs": [
        {
          "data": {
            "text/html": [
              "<div>\n",
              "<style scoped>\n",
              "    .dataframe tbody tr th:only-of-type {\n",
              "        vertical-align: middle;\n",
              "    }\n",
              "\n",
              "    .dataframe tbody tr th {\n",
              "        vertical-align: top;\n",
              "    }\n",
              "\n",
              "    .dataframe thead th {\n",
              "        text-align: right;\n",
              "    }\n",
              "</style>\n",
              "<table border=\"1\" class=\"dataframe\">\n",
              "  <thead>\n",
              "    <tr style=\"text-align: right;\">\n",
              "      <th></th>\n",
              "      <th>RM</th>\n",
              "      <th>Year</th>\n",
              "      <th>Canola</th>\n",
              "      <th>Price</th>\n",
              "      <th>Value</th>\n",
              "    </tr>\n",
              "  </thead>\n",
              "  <tbody>\n",
              "    <tr>\n",
              "      <th>80</th>\n",
              "      <td>STUARTBURN</td>\n",
              "      <td>2010</td>\n",
              "      <td>NaN</td>\n",
              "      <td>11.584916</td>\n",
              "      <td>NaN</td>\n",
              "    </tr>\n",
              "    <tr>\n",
              "      <th>88</th>\n",
              "      <td>WEST INTERLAKE</td>\n",
              "      <td>2010</td>\n",
              "      <td>NaN</td>\n",
              "      <td>11.584916</td>\n",
              "      <td>NaN</td>\n",
              "    </tr>\n",
              "    <tr>\n",
              "      <th>89</th>\n",
              "      <td>WEST ST. PAUL</td>\n",
              "      <td>2010</td>\n",
              "      <td>NaN</td>\n",
              "      <td>11.584916</td>\n",
              "      <td>NaN</td>\n",
              "    </tr>\n",
              "    <tr>\n",
              "      <th>125</th>\n",
              "      <td>46</td>\n",
              "      <td>2010</td>\n",
              "      <td>NaN</td>\n",
              "      <td>11.584916</td>\n",
              "      <td>NaN</td>\n",
              "    </tr>\n",
              "    <tr>\n",
              "      <th>142</th>\n",
              "      <td>76</td>\n",
              "      <td>2010</td>\n",
              "      <td>NaN</td>\n",
              "      <td>11.584916</td>\n",
              "      <td>NaN</td>\n",
              "    </tr>\n",
              "    <tr>\n",
              "      <th>...</th>\n",
              "      <td>...</td>\n",
              "      <td>...</td>\n",
              "      <td>...</td>\n",
              "      <td>...</td>\n",
              "      <td>...</td>\n",
              "    </tr>\n",
              "    <tr>\n",
              "      <th>4757</th>\n",
              "      <td>WEST INTERLAKE</td>\n",
              "      <td>2022</td>\n",
              "      <td>NaN</td>\n",
              "      <td>19.521513</td>\n",
              "      <td>NaN</td>\n",
              "    </tr>\n",
              "    <tr>\n",
              "      <th>4796</th>\n",
              "      <td>51</td>\n",
              "      <td>2022</td>\n",
              "      <td>NaN</td>\n",
              "      <td>19.521513</td>\n",
              "      <td>NaN</td>\n",
              "    </tr>\n",
              "    <tr>\n",
              "      <th>4834</th>\n",
              "      <td>110</td>\n",
              "      <td>2022</td>\n",
              "      <td>NaN</td>\n",
              "      <td>19.521513</td>\n",
              "      <td>NaN</td>\n",
              "    </tr>\n",
              "    <tr>\n",
              "      <th>4932</th>\n",
              "      <td>279</td>\n",
              "      <td>2022</td>\n",
              "      <td>NaN</td>\n",
              "      <td>19.521513</td>\n",
              "      <td>NaN</td>\n",
              "    </tr>\n",
              "    <tr>\n",
              "      <th>5039</th>\n",
              "      <td>470</td>\n",
              "      <td>2022</td>\n",
              "      <td>NaN</td>\n",
              "      <td>19.521513</td>\n",
              "      <td>NaN</td>\n",
              "    </tr>\n",
              "  </tbody>\n",
              "</table>\n",
              "<p>77 rows × 5 columns</p>\n",
              "</div>"
            ],
            "text/plain": [
              "                  RM  Year  Canola      Price  Value\n",
              "80        STUARTBURN  2010     NaN  11.584916    NaN\n",
              "88    WEST INTERLAKE  2010     NaN  11.584916    NaN\n",
              "89     WEST ST. PAUL  2010     NaN  11.584916    NaN\n",
              "125               46  2010     NaN  11.584916    NaN\n",
              "142               76  2010     NaN  11.584916    NaN\n",
              "...              ...   ...     ...        ...    ...\n",
              "4757  WEST INTERLAKE  2022     NaN  19.521513    NaN\n",
              "4796              51  2022     NaN  19.521513    NaN\n",
              "4834             110  2022     NaN  19.521513    NaN\n",
              "4932             279  2022     NaN  19.521513    NaN\n",
              "5039             470  2022     NaN  19.521513    NaN\n",
              "\n",
              "[77 rows x 5 columns]"
            ]
          },
          "execution_count": 84,
          "metadata": {},
          "output_type": "execute_result"
        }
      ],
      "source": [
        "df_price_merged[df_price_merged.isnull().any(axis=1)]\n"
      ]
    },
    {
      "cell_type": "code",
      "execution_count": 85,
      "metadata": {},
      "outputs": [
        {
          "data": {
            "text/html": [
              "<div>\n",
              "<style scoped>\n",
              "    .dataframe tbody tr th:only-of-type {\n",
              "        vertical-align: middle;\n",
              "    }\n",
              "\n",
              "    .dataframe tbody tr th {\n",
              "        vertical-align: top;\n",
              "    }\n",
              "\n",
              "    .dataframe thead th {\n",
              "        text-align: right;\n",
              "    }\n",
              "</style>\n",
              "<table border=\"1\" class=\"dataframe\">\n",
              "  <thead>\n",
              "    <tr style=\"text-align: right;\">\n",
              "      <th></th>\n",
              "      <th>RM</th>\n",
              "      <th>Year</th>\n",
              "      <th>Canola</th>\n",
              "      <th>Price</th>\n",
              "      <th>Value</th>\n",
              "    </tr>\n",
              "  </thead>\n",
              "  <tbody>\n",
              "    <tr>\n",
              "      <th>0</th>\n",
              "      <td>ALEXANDER</td>\n",
              "      <td>2010</td>\n",
              "      <td>14.440130</td>\n",
              "      <td>11.584916</td>\n",
              "      <td>167.287689</td>\n",
              "    </tr>\n",
              "    <tr>\n",
              "      <th>1</th>\n",
              "      <td>ALONSA</td>\n",
              "      <td>2010</td>\n",
              "      <td>17.989536</td>\n",
              "      <td>11.584916</td>\n",
              "      <td>208.407259</td>\n",
              "    </tr>\n",
              "    <tr>\n",
              "      <th>2</th>\n",
              "      <td>ARGYLE</td>\n",
              "      <td>2010</td>\n",
              "      <td>42.970803</td>\n",
              "      <td>11.584916</td>\n",
              "      <td>497.813137</td>\n",
              "    </tr>\n",
              "    <tr>\n",
              "      <th>3</th>\n",
              "      <td>ARMSTRONG</td>\n",
              "      <td>2010</td>\n",
              "      <td>11.419828</td>\n",
              "      <td>11.584916</td>\n",
              "      <td>132.297745</td>\n",
              "    </tr>\n",
              "    <tr>\n",
              "      <th>4</th>\n",
              "      <td>BIFROST-RIVERTON</td>\n",
              "      <td>2010</td>\n",
              "      <td>9.523872</td>\n",
              "      <td>11.584916</td>\n",
              "      <td>110.333255</td>\n",
              "    </tr>\n",
              "    <tr>\n",
              "      <th>...</th>\n",
              "      <td>...</td>\n",
              "      <td>...</td>\n",
              "      <td>...</td>\n",
              "      <td>...</td>\n",
              "      <td>...</td>\n",
              "    </tr>\n",
              "    <tr>\n",
              "      <th>5055</th>\n",
              "      <td>520</td>\n",
              "      <td>2022</td>\n",
              "      <td>47.900000</td>\n",
              "      <td>19.521513</td>\n",
              "      <td>935.080458</td>\n",
              "    </tr>\n",
              "    <tr>\n",
              "      <th>5056</th>\n",
              "      <td>555</td>\n",
              "      <td>2022</td>\n",
              "      <td>39.900000</td>\n",
              "      <td>19.521513</td>\n",
              "      <td>778.908356</td>\n",
              "    </tr>\n",
              "    <tr>\n",
              "      <th>5057</th>\n",
              "      <td>561</td>\n",
              "      <td>2022</td>\n",
              "      <td>28.200000</td>\n",
              "      <td>19.521513</td>\n",
              "      <td>550.506658</td>\n",
              "    </tr>\n",
              "    <tr>\n",
              "      <th>5058</th>\n",
              "      <td>588</td>\n",
              "      <td>2022</td>\n",
              "      <td>35.900000</td>\n",
              "      <td>19.521513</td>\n",
              "      <td>700.822305</td>\n",
              "    </tr>\n",
              "    <tr>\n",
              "      <th>5059</th>\n",
              "      <td>622</td>\n",
              "      <td>2022</td>\n",
              "      <td>44.400000</td>\n",
              "      <td>19.521513</td>\n",
              "      <td>866.755163</td>\n",
              "    </tr>\n",
              "  </tbody>\n",
              "</table>\n",
              "<p>4983 rows × 5 columns</p>\n",
              "</div>"
            ],
            "text/plain": [
              "                    RM  Year     Canola      Price       Value\n",
              "0            ALEXANDER  2010  14.440130  11.584916  167.287689\n",
              "1               ALONSA  2010  17.989536  11.584916  208.407259\n",
              "2               ARGYLE  2010  42.970803  11.584916  497.813137\n",
              "3            ARMSTRONG  2010  11.419828  11.584916  132.297745\n",
              "4     BIFROST-RIVERTON  2010   9.523872  11.584916  110.333255\n",
              "...                ...   ...        ...        ...         ...\n",
              "5055               520  2022  47.900000  19.521513  935.080458\n",
              "5056               555  2022  39.900000  19.521513  778.908356\n",
              "5057               561  2022  28.200000  19.521513  550.506658\n",
              "5058               588  2022  35.900000  19.521513  700.822305\n",
              "5059               622  2022  44.400000  19.521513  866.755163\n",
              "\n",
              "[4983 rows x 5 columns]"
            ]
          },
          "execution_count": 85,
          "metadata": {},
          "output_type": "execute_result"
        }
      ],
      "source": [
        "# doesn't affect mean, but does affect std and median, need to remove\n",
        "df_price_merged.dropna()"
      ]
    },
    {
      "cell_type": "code",
      "execution_count": 86,
      "metadata": {},
      "outputs": [],
      "source": [
        "# slightly out of order, but now that we have a new value column, let's add that to df_gdf so we can visualize it\n",
        "\n",
        "# Calculate the mean of 'Value' based on groupby 'Year' and 'RM' in df_price_merged\n",
        "mean_value_by_year_rm = df_price_merged.groupby(['Year', 'RM'])['Value'].mean().reset_index()\n",
        "\n",
        "# Merge df_gdf with df_price_merged on the 'RM' and 'Year' columns\n",
        "df_gdf = df_gdf.merge(mean_value_by_year_rm, on=['RM', 'Year'], how='left')\n",
        "\n",
        "# Merge df_data_merged with df_price_merged on the 'RM' and 'Year' columns\n",
        "df_data_merged = df_data_merged.merge(mean_value_by_year_rm, on=['RM', 'Year'], how='left')"
      ]
    },
    {
      "cell_type": "code",
      "execution_count": 87,
      "metadata": {},
      "outputs": [
        {
          "data": {
            "text/html": [
              "<div>\n",
              "<style scoped>\n",
              "    .dataframe tbody tr th:only-of-type {\n",
              "        vertical-align: middle;\n",
              "    }\n",
              "\n",
              "    .dataframe tbody tr th {\n",
              "        vertical-align: top;\n",
              "    }\n",
              "\n",
              "    .dataframe thead th {\n",
              "        text-align: right;\n",
              "    }\n",
              "</style>\n",
              "<table border=\"1\" class=\"dataframe\">\n",
              "  <thead>\n",
              "    <tr style=\"text-align: right;\">\n",
              "      <th></th>\n",
              "      <th>Year</th>\n",
              "      <th>Canola_mean</th>\n",
              "      <th>Canola_std</th>\n",
              "      <th>Canola_median</th>\n",
              "      <th>Price_mean</th>\n",
              "      <th>Price_std</th>\n",
              "      <th>Price_median</th>\n",
              "      <th>Value_mean</th>\n",
              "      <th>Value_std</th>\n",
              "      <th>Value_median</th>\n",
              "    </tr>\n",
              "  </thead>\n",
              "  <tbody>\n",
              "    <tr>\n",
              "      <th>0</th>\n",
              "      <td>2010</td>\n",
              "      <td>29.442351</td>\n",
              "      <td>7.642709</td>\n",
              "      <td>29.700000</td>\n",
              "      <td>11.584916</td>\n",
              "      <td>0.0</td>\n",
              "      <td>11.584916</td>\n",
              "      <td>341.087150</td>\n",
              "      <td>88.540138</td>\n",
              "      <td>344.071998</td>\n",
              "    </tr>\n",
              "    <tr>\n",
              "      <th>1</th>\n",
              "      <td>2011</td>\n",
              "      <td>29.105822</td>\n",
              "      <td>7.178546</td>\n",
              "      <td>30.300000</td>\n",
              "      <td>12.697583</td>\n",
              "      <td>0.0</td>\n",
              "      <td>12.697583</td>\n",
              "      <td>369.573598</td>\n",
              "      <td>91.150185</td>\n",
              "      <td>384.736777</td>\n",
              "    </tr>\n",
              "    <tr>\n",
              "      <th>2</th>\n",
              "      <td>2012</td>\n",
              "      <td>25.137916</td>\n",
              "      <td>4.460788</td>\n",
              "      <td>25.215823</td>\n",
              "      <td>13.619305</td>\n",
              "      <td>0.0</td>\n",
              "      <td>13.619305</td>\n",
              "      <td>342.360942</td>\n",
              "      <td>60.752838</td>\n",
              "      <td>343.421993</td>\n",
              "    </tr>\n",
              "    <tr>\n",
              "      <th>3</th>\n",
              "      <td>2013</td>\n",
              "      <td>39.099908</td>\n",
              "      <td>5.771026</td>\n",
              "      <td>39.268184</td>\n",
              "      <td>12.712374</td>\n",
              "      <td>0.0</td>\n",
              "      <td>12.712374</td>\n",
              "      <td>497.052653</td>\n",
              "      <td>73.363438</td>\n",
              "      <td>499.191849</td>\n",
              "    </tr>\n",
              "    <tr>\n",
              "      <th>4</th>\n",
              "      <td>2014</td>\n",
              "      <td>32.935778</td>\n",
              "      <td>6.667671</td>\n",
              "      <td>32.520000</td>\n",
              "      <td>10.011530</td>\n",
              "      <td>0.0</td>\n",
              "      <td>10.011530</td>\n",
              "      <td>329.737542</td>\n",
              "      <td>66.753591</td>\n",
              "      <td>325.574970</td>\n",
              "    </tr>\n",
              "    <tr>\n",
              "      <th>5</th>\n",
              "      <td>2015</td>\n",
              "      <td>37.157303</td>\n",
              "      <td>6.333025</td>\n",
              "      <td>37.745000</td>\n",
              "      <td>10.752499</td>\n",
              "      <td>0.0</td>\n",
              "      <td>10.752499</td>\n",
              "      <td>399.533874</td>\n",
              "      <td>68.095842</td>\n",
              "      <td>405.853087</td>\n",
              "    </tr>\n",
              "    <tr>\n",
              "      <th>6</th>\n",
              "      <td>2016</td>\n",
              "      <td>41.255478</td>\n",
              "      <td>5.544293</td>\n",
              "      <td>41.200000</td>\n",
              "      <td>10.991028</td>\n",
              "      <td>0.0</td>\n",
              "      <td>10.991028</td>\n",
              "      <td>453.440110</td>\n",
              "      <td>60.937476</td>\n",
              "      <td>452.830347</td>\n",
              "    </tr>\n",
              "    <tr>\n",
              "      <th>7</th>\n",
              "      <td>2017</td>\n",
              "      <td>36.723974</td>\n",
              "      <td>10.350115</td>\n",
              "      <td>37.590000</td>\n",
              "      <td>11.557160</td>\n",
              "      <td>0.0</td>\n",
              "      <td>11.557160</td>\n",
              "      <td>424.424853</td>\n",
              "      <td>119.617939</td>\n",
              "      <td>434.433657</td>\n",
              "    </tr>\n",
              "    <tr>\n",
              "      <th>8</th>\n",
              "      <td>2018</td>\n",
              "      <td>38.347932</td>\n",
              "      <td>8.206828</td>\n",
              "      <td>39.100000</td>\n",
              "      <td>11.419069</td>\n",
              "      <td>0.0</td>\n",
              "      <td>11.419069</td>\n",
              "      <td>437.897685</td>\n",
              "      <td>93.714342</td>\n",
              "      <td>446.485606</td>\n",
              "    </tr>\n",
              "    <tr>\n",
              "      <th>9</th>\n",
              "      <td>2019</td>\n",
              "      <td>40.914674</td>\n",
              "      <td>7.980801</td>\n",
              "      <td>42.100000</td>\n",
              "      <td>10.354831</td>\n",
              "      <td>0.0</td>\n",
              "      <td>10.354831</td>\n",
              "      <td>423.664531</td>\n",
              "      <td>82.639841</td>\n",
              "      <td>435.938377</td>\n",
              "    </tr>\n",
              "    <tr>\n",
              "      <th>10</th>\n",
              "      <td>2020</td>\n",
              "      <td>38.806571</td>\n",
              "      <td>6.837613</td>\n",
              "      <td>40.100000</td>\n",
              "      <td>11.275979</td>\n",
              "      <td>0.0</td>\n",
              "      <td>11.275979</td>\n",
              "      <td>437.582087</td>\n",
              "      <td>77.100786</td>\n",
              "      <td>452.166769</td>\n",
              "    </tr>\n",
              "    <tr>\n",
              "      <th>11</th>\n",
              "      <td>2021</td>\n",
              "      <td>23.167984</td>\n",
              "      <td>8.477416</td>\n",
              "      <td>24.000000</td>\n",
              "      <td>19.061270</td>\n",
              "      <td>0.0</td>\n",
              "      <td>19.061270</td>\n",
              "      <td>441.611208</td>\n",
              "      <td>161.590316</td>\n",
              "      <td>457.470481</td>\n",
              "    </tr>\n",
              "    <tr>\n",
              "      <th>12</th>\n",
              "      <td>2022</td>\n",
              "      <td>36.204807</td>\n",
              "      <td>11.465001</td>\n",
              "      <td>38.800480</td>\n",
              "      <td>19.521513</td>\n",
              "      <td>0.0</td>\n",
              "      <td>19.521513</td>\n",
              "      <td>706.772594</td>\n",
              "      <td>223.814165</td>\n",
              "      <td>757.444063</td>\n",
              "    </tr>\n",
              "  </tbody>\n",
              "</table>\n",
              "</div>"
            ],
            "text/plain": [
              "    Year  Canola_mean  Canola_std  Canola_median  Price_mean  Price_std  \\\n",
              "0   2010    29.442351    7.642709      29.700000   11.584916        0.0   \n",
              "1   2011    29.105822    7.178546      30.300000   12.697583        0.0   \n",
              "2   2012    25.137916    4.460788      25.215823   13.619305        0.0   \n",
              "3   2013    39.099908    5.771026      39.268184   12.712374        0.0   \n",
              "4   2014    32.935778    6.667671      32.520000   10.011530        0.0   \n",
              "5   2015    37.157303    6.333025      37.745000   10.752499        0.0   \n",
              "6   2016    41.255478    5.544293      41.200000   10.991028        0.0   \n",
              "7   2017    36.723974   10.350115      37.590000   11.557160        0.0   \n",
              "8   2018    38.347932    8.206828      39.100000   11.419069        0.0   \n",
              "9   2019    40.914674    7.980801      42.100000   10.354831        0.0   \n",
              "10  2020    38.806571    6.837613      40.100000   11.275979        0.0   \n",
              "11  2021    23.167984    8.477416      24.000000   19.061270        0.0   \n",
              "12  2022    36.204807   11.465001      38.800480   19.521513        0.0   \n",
              "\n",
              "    Price_median  Value_mean   Value_std  Value_median  \n",
              "0      11.584916  341.087150   88.540138    344.071998  \n",
              "1      12.697583  369.573598   91.150185    384.736777  \n",
              "2      13.619305  342.360942   60.752838    343.421993  \n",
              "3      12.712374  497.052653   73.363438    499.191849  \n",
              "4      10.011530  329.737542   66.753591    325.574970  \n",
              "5      10.752499  399.533874   68.095842    405.853087  \n",
              "6      10.991028  453.440110   60.937476    452.830347  \n",
              "7      11.557160  424.424853  119.617939    434.433657  \n",
              "8      11.419069  437.897685   93.714342    446.485606  \n",
              "9      10.354831  423.664531   82.639841    435.938377  \n",
              "10     11.275979  437.582087   77.100786    452.166769  \n",
              "11     19.061270  441.611208  161.590316    457.470481  \n",
              "12     19.521513  706.772594  223.814165    757.444063  "
            ]
          },
          "execution_count": 87,
          "metadata": {},
          "output_type": "execute_result"
        }
      ],
      "source": [
        "# Assuming df_price_merged contains your data\n",
        "# Group by 'Year' and calculate the desired statistics for each column\n",
        "grouped = df_price_merged.groupby('Year').agg({\n",
        "    'Canola': ['mean', 'std', 'median'],\n",
        "    'Price': ['mean', 'std', 'median'],\n",
        "    'Value': ['mean', 'std', 'median']\n",
        "})\n",
        "\n",
        "# Flatten the multi-level column index\n",
        "grouped.columns = ['_'.join(col).strip() for col in grouped.columns.values]\n",
        "\n",
        "# Reset the index to make 'Year' a regular column\n",
        "df_value_agg_by_year = grouped.reset_index()\n",
        "\n",
        "# Display the resulting DataFrame\n",
        "df_value_agg_by_year"
      ]
    },
    {
      "cell_type": "code",
      "execution_count": 88,
      "metadata": {},
      "outputs": [
        {
          "data": {
            "image/png": "[encoded data removed]",
            "text/plain": [
              "<Figure size 1200x800 with 2 Axes>"
            ]
          },
          "metadata": {},
          "output_type": "display_data"
        }
      ],
      "source": [
        "# Create the figure and the line plot for yield and price\n",
        "fig, ax1 = plt.subplots()\n",
        "\n",
        "color = 'tab:red'\n",
        "ax1.set_xlabel('Year')\n",
        "ax1.set_ylabel('Canola Yield', color=color)\n",
        "ax1.plot(df_value_agg_by_year['Year'], df_value_agg_by_year['Canola_mean'], color=color, marker='o')\n",
        "ax1.tick_params(axis='y', labelcolor=color)\n",
        "\n",
        "ax2 = ax1.twinx()\n",
        "color = 'tab:blue'\n",
        "ax2.set_ylabel('Price_mean', color=color)\n",
        "ax2.plot(df_value_agg_by_year['Year'], df_value_agg_by_year['Price_mean'], color=color, marker='x')\n",
        "ax2.tick_params(axis='y', labelcolor=color)\n",
        "\n",
        "# Set y-axis limits to start at zero for both axes\n",
        "ax1.set_ylim(0, df_value_agg_by_year['Canola_mean'].max() + 10)  # Adjust the upper limit as needed\n",
        "ax2.set_ylim(0, df_value_agg_by_year['Price_mean'].max() + 10)  # Adjust the upper limit as needed\n",
        "\n",
        "\n",
        "# Show the plot\n",
        "plt.title('Average Canola Yield (over all RMs) vs Average Price per Bushel Over Years')\n",
        "plt.show()"
      ]
    },
    {
      "cell_type": "markdown",
      "metadata": {
        "id": "v2pN5E4m96bg"
      },
      "source": [
        "# EDA (Exploratory Data Analysis)"
      ]
    },
    {
      "cell_type": "code",
      "execution_count": 89,
      "metadata": {},
      "outputs": [
        {
          "name": "stdout",
          "output_type": "stream",
          "text": [
            "Number of unique RMs values: 397\n"
          ]
        }
      ],
      "source": [
        "print(f\"Number of unique RMs values:\", df_data_merged['RM'].nunique())"
      ]
    },
    {
      "cell_type": "code",
      "execution_count": 90,
      "metadata": {},
      "outputs": [
        {
          "name": "stdout",
          "output_type": "stream",
          "text": [
            "The minimum year is 1938 and the maximum year is 2022.\n"
          ]
        }
      ],
      "source": [
        "print(f\"The minimum year is {df_data_merged['Year'].min()} and the maximum year is {df_data_merged['Year'].max()}.\")"
      ]
    },
    {
      "cell_type": "markdown",
      "metadata": {
        "id": "_vklmpRl96bg"
      },
      "source": [
        "## Missing Values"
      ]
    },
    {
      "cell_type": "code",
      "execution_count": 91,
      "metadata": {
        "id": "X1WXdHFG96bg",
        "outputId": "6d000a0e-8069-48e4-bb46-bdc7abba4ecc"
      },
      "outputs": [
        {
          "data": {
            "text/plain": [
              "RM            0\n",
              "Year          0\n",
              "Canola    11116\n",
              "Value     23134\n",
              "dtype: int64"
            ]
          },
          "execution_count": 91,
          "metadata": {},
          "output_type": "execute_result"
        }
      ],
      "source": [
        "# Check for missing values in crop dataset\n",
        "missing_values_count = df_data_merged.isnull().sum()\n",
        "missing_values_count"
      ]
    },
    {
      "cell_type": "code",
      "execution_count": 92,
      "metadata": {},
      "outputs": [
        {
          "data": {
            "text/plain": [
              "RM         0\n",
              "Year       0\n",
              "Canola    77\n",
              "Price      0\n",
              "Value     77\n",
              "dtype: int64"
            ]
          },
          "execution_count": 92,
          "metadata": {},
          "output_type": "execute_result"
        }
      ],
      "source": [
        "# Check for missing values in stock price dataset\n",
        "missing_values_count = df_price_merged.isnull().sum()\n",
        "missing_values_count"
      ]
    },
    {
      "cell_type": "code",
      "execution_count": 93,
      "metadata": {
        "id": "QlBtuTUT96bg",
        "outputId": "59ca62c0-e85c-4fd6-fa42-968fea8ff09b"
      },
      "outputs": [
        {
          "data": {
            "text/plain": [
              "RM        0.0\n",
              "Year      0.0\n",
              "Canola    0.0\n",
              "Price     0.0\n",
              "Value     0.0\n",
              "dtype: float64"
            ]
          },
          "execution_count": 93,
          "metadata": {},
          "output_type": "execute_result"
        }
      ],
      "source": [
        "# Calculate the percentage of missing values for each column\n",
        "missing_values_percentage = round((missing_values_count / len(df_data_merged)) * 100,0)\n",
        "missing_values_percentage"
      ]
    },
    {
      "cell_type": "code",
      "execution_count": 94,
      "metadata": {
        "id": "WSqlMZWh96bh",
        "outputId": "47d031e8-04df-4410-f694-c3d29f0e073b"
      },
      "outputs": [
        {
          "data": {
            "image/png": "[encoded data removed]",
            "text/plain": [
              "<Figure size 1200x800 with 1 Axes>"
            ]
          },
          "metadata": {},
          "output_type": "display_data"
        }
      ],
      "source": [
        "df_data_merged.isna().sum().sort_values().plot(kind='bar', color='green')\n",
        "plt.title('Missing Values- 1938 to 2022')\n",
        "plt.xlabel('Crops')\n",
        "plt.ylabel('# of Missing values')\n",
        "plt.axhline(len(df_data_merged)/2, linestyle='--', color='red') # 50% of values\n",
        "plt.axhline(len(df_data_merged)/4, linestyle='--', color='red') # 25% of values\n",
        "plt.axhline(len(df_data_merged)/10, linestyle='--', color='red') # 10% of values\n",
        "plt.show()"
      ]
    },
    {
      "cell_type": "code",
      "execution_count": 95,
      "metadata": {},
      "outputs": [
        {
          "data": {
            "image/png": "[encoded data removed]",
            "text/plain": [
              "<Figure size 1200x800 with 1 Axes>"
            ]
          },
          "metadata": {},
          "output_type": "display_data"
        }
      ],
      "source": [
        "# Filter the DataFrame for 'Year' > 2001 and calculate missing values counts\n",
        "missing_values_count_filtered = df_data_merged[df_data_merged['Year'] > 2001].isna().sum().sort_values()\n",
        "\n",
        "# Get the minimum and maximum values of the missing values counts\n",
        "y_min = missing_values_count_filtered.min()\n",
        "y_max = missing_values_count_filtered.max()\n",
        "\n",
        "# Plot the data with dynamic y-axis limits\n",
        "ax = missing_values_count_filtered.plot(kind='bar', color='green')\n",
        "ax.set_title('Missing Crop Values - 2002 to 2022')\n",
        "ax.set_xlabel('Crops')\n",
        "ax.set_ylabel('# of Missing values')\n",
        "ax.axhline(len(df_data_merged)/2, linestyle='--', color='red')  # 50% of values\n",
        "ax.axhline(len(df_data_merged)/4, linestyle='--', color='red')  # 25% of values\n",
        "ax.axhline(len(df_data_merged)/10, linestyle='--', color='red')  # 10% of values\n",
        "ax.set_ylim(y_min, y_max)  # Set y-axis limits based on data\n",
        "\n",
        "plt.show()\n"
      ]
    },
    {
      "cell_type": "code",
      "execution_count": 96,
      "metadata": {
        "id": "ucW5BPgl96bh",
        "outputId": "37bbf709-e77e-4a3f-e094-d7887b3ac9f3"
      },
      "outputs": [
        {
          "data": {
            "image/png": "[encoded data removed]",
            "text/plain": [
              "<Figure size 1200x800 with 1 Axes>"
            ]
          },
          "metadata": {},
          "output_type": "display_data"
        }
      ],
      "source": [
        "df_data_merged.loc[df_data_merged['Year']>2001].isna().sum().sort_values().plot(kind='bar', color='green')\n",
        "plt.title('Missing Crop Values - 2002 to 2022')\n",
        "plt.xlabel('Crops')\n",
        "plt.ylabel('# of Missing values')\n",
        "plt.axhline(len(df_data_merged)/2, linestyle='--', color='red') # 50% of values\n",
        "plt.axhline(len(df_data_merged)/4, linestyle='--', color='red') # 25% of values\n",
        "plt.axhline(len(df_data_merged)/10, linestyle='--', color='red') # 10% of values\n",
        "plt.show()"
      ]
    },
    {
      "cell_type": "code",
      "execution_count": 97,
      "metadata": {},
      "outputs": [
        {
          "data": {
            "text/plain": [
              "RM           0\n",
              "Year         0\n",
              "Canola     294\n",
              "Value     3186\n",
              "dtype: int64"
            ]
          },
          "execution_count": 97,
          "metadata": {},
          "output_type": "execute_result"
        }
      ],
      "source": [
        "# Select rows where 'Year' is greater than 2001 and then calculate missing values counts\n",
        "missing_values_count = df_data_merged[df_data_merged['Year'] > 2001].isnull().sum()\n",
        "\n",
        "# Display the missing values counts\n",
        "missing_values_count\n"
      ]
    },
    {
      "cell_type": "markdown",
      "metadata": {
        "id": "7jOUh8KE96bh"
      },
      "source": [
        "#### This helps illustrate if we utilize only the last 20 years (since 2002) there is a marked decrease is missig values."
      ]
    },
    {
      "cell_type": "markdown",
      "metadata": {
        "id": "43AYWYvt96bh"
      },
      "source": [
        "## Outlier Detection"
      ]
    },
    {
      "cell_type": "code",
      "execution_count": 98,
      "metadata": {
        "id": "CpOWycF496bh",
        "outputId": "900cb7bf-3551-40f5-b143-98236f479440"
      },
      "outputs": [
        {
          "data": {
            "image/png": "[encoded data removed]",
            "text/plain": [
              "<Figure size 1200x800 with 2 Axes>"
            ]
          },
          "metadata": {},
          "output_type": "display_data"
        }
      ],
      "source": [
        "numerical_columns = df_data_merged.select_dtypes(include='number').drop(columns=['Year']).columns\n",
        "# view distributions\n",
        "df_data_merged[numerical_columns].hist(bins=30)\n",
        "plt.show()"
      ]
    },
    {
      "cell_type": "markdown",
      "metadata": {
        "id": "VGfl81oa96bi"
      },
      "source": [
        "### Boxplots"
      ]
    },
    {
      "cell_type": "code",
      "execution_count": 99,
      "metadata": {
        "id": "H3rzwBvH96bi",
        "outputId": "363d38d1-60d3-4172-ba6e-cf70dc0ed283"
      },
      "outputs": [
        {
          "data": {
            "text/plain": [
              "<AxesSubplot:>"
            ]
          },
          "execution_count": 99,
          "metadata": {},
          "output_type": "execute_result"
        },
        {
          "data": {
            "image/png": "[encoded data removed]",
            "text/plain": [
              "<Figure size 1200x800 with 1 Axes>"
            ]
          },
          "metadata": {},
          "output_type": "display_data"
        }
      ],
      "source": [
        "df_data_merged[target_crop].boxplot()"
      ]
    },
    {
      "cell_type": "code",
      "execution_count": 100,
      "metadata": {
        "id": "us7gWkGG96bi",
        "outputId": "9cbe3fae-1271-423b-cd53-71ffd1f446d3"
      },
      "outputs": [
        {
          "data": {
            "text/html": [
              "<div>\n",
              "<style scoped>\n",
              "    .dataframe tbody tr th:only-of-type {\n",
              "        vertical-align: middle;\n",
              "    }\n",
              "\n",
              "    .dataframe tbody tr th {\n",
              "        vertical-align: top;\n",
              "    }\n",
              "\n",
              "    .dataframe thead th {\n",
              "        text-align: right;\n",
              "    }\n",
              "</style>\n",
              "<table border=\"1\" class=\"dataframe\">\n",
              "  <thead>\n",
              "    <tr style=\"text-align: right;\">\n",
              "      <th></th>\n",
              "      <th>RM</th>\n",
              "      <th>Year</th>\n",
              "      <th>Canola</th>\n",
              "      <th>Value</th>\n",
              "    </tr>\n",
              "  </thead>\n",
              "  <tbody>\n",
              "    <tr>\n",
              "      <th>0</th>\n",
              "      <td>ALEXANDER</td>\n",
              "      <td>1993</td>\n",
              "      <td>11.067092</td>\n",
              "      <td>NaN</td>\n",
              "    </tr>\n",
              "    <tr>\n",
              "      <th>1</th>\n",
              "      <td>ALEXANDER</td>\n",
              "      <td>1994</td>\n",
              "      <td>12.742588</td>\n",
              "      <td>NaN</td>\n",
              "    </tr>\n",
              "    <tr>\n",
              "      <th>2</th>\n",
              "      <td>ALEXANDER</td>\n",
              "      <td>1995</td>\n",
              "      <td>27.337040</td>\n",
              "      <td>NaN</td>\n",
              "    </tr>\n",
              "    <tr>\n",
              "      <th>3</th>\n",
              "      <td>ALEXANDER</td>\n",
              "      <td>1996</td>\n",
              "      <td>33.304157</td>\n",
              "      <td>NaN</td>\n",
              "    </tr>\n",
              "    <tr>\n",
              "      <th>4</th>\n",
              "      <td>ALEXANDER</td>\n",
              "      <td>1997</td>\n",
              "      <td>28.718589</td>\n",
              "      <td>NaN</td>\n",
              "    </tr>\n",
              "  </tbody>\n",
              "</table>\n",
              "</div>"
            ],
            "text/plain": [
              "          RM  Year     Canola  Value\n",
              "0  ALEXANDER  1993  11.067092    NaN\n",
              "1  ALEXANDER  1994  12.742588    NaN\n",
              "2  ALEXANDER  1995  27.337040    NaN\n",
              "3  ALEXANDER  1996  33.304157    NaN\n",
              "4  ALEXANDER  1997  28.718589    NaN"
            ]
          },
          "execution_count": 100,
          "metadata": {},
          "output_type": "execute_result"
        }
      ],
      "source": [
        "df_data_merged.head()"
      ]
    },
    {
      "cell_type": "code",
      "execution_count": 101,
      "metadata": {
        "id": "QBwf6_IF96bj",
        "outputId": "5021f579-3a5a-4d20-94e7-69880bb995cf"
      },
      "outputs": [
        {
          "data": {
            "application/vnd.plotly.v1+json": {
              "config": {
                "plotlyServerURL": "https://plot.ly"
              },
              "data": [
                {
                  "coloraxis": "coloraxis",
                  "hovertemplate": "x: %{x}<br>y: %{y}<br>color: %{z}<extra></extra>",
                  "name": "0",
                  "texttemplate": "%{z}",
                  "type": "heatmap",
                  "x": [
                    "Year",
                    "Canola",
                    "Price",
                    "Value"
                  ],
                  "xaxis": "x",
                  "y": [
                    "Canola",
                    "Price",
                    "Value"
                  ],
                  "yaxis": "y",
                  "z": [
                    [
                      0.2,
                      null,
                      null,
                      null
                    ],
                    [
                      0.5,
                      -0.3,
                      null,
                      null
                    ],
                    [
                      0.4,
                      0.7,
                      0.4,
                      null
                    ]
                  ]
                }
              ],
              "layout": {
                "coloraxis": {
                  "colorscale": [
                    [
                      0,
                      "black"
                    ],
                    [
                      0.33,
                      "black"
                    ],
                    [
                      0.33,
                      "white"
                    ],
                    [
                      0.66,
                      "white"
                    ],
                    [
                      0.66,
                      "blue"
                    ],
                    [
                      1,
                      "blue"
                    ]
                  ]
                },
                "margin": {
                  "t": 60
                },
                "template": {
                  "data": {
                    "bar": [
                      {
                        "error_x": {
                          "color": "#2a3f5f"
                        },
                        "error_y": {
                          "color": "#2a3f5f"
                        },
                        "marker": {
                          "line": {
                            "color": "#E5ECF6",
                            "width": 0.5
                          },
                          "pattern": {
                            "fillmode": "overlay",
                            "size": 10,
                            "solidity": 0.2
                          }
                        },
                        "type": "bar"
                      }
                    ],
                    "barpolar": [
                      {
                        "marker": {
                          "line": {
                            "color": "#E5ECF6",
                            "width": 0.5
                          },
                          "pattern": {
                            "fillmode": "overlay",
                            "size": 10,
                            "solidity": 0.2
                          }
                        },
                        "type": "barpolar"
                      }
                    ],
                    "carpet": [
                      {
                        "aaxis": {
                          "endlinecolor": "#2a3f5f",
                          "gridcolor": "white",
                          "linecolor": "white",
                          "minorgridcolor": "white",
                          "startlinecolor": "#2a3f5f"
                        },
                        "baxis": {
                          "endlinecolor": "#2a3f5f",
                          "gridcolor": "white",
                          "linecolor": "white",
                          "minorgridcolor": "white",
                          "startlinecolor": "#2a3f5f"
                        },
                        "type": "carpet"
                      }
                    ],
                    "choropleth": [
                      {
                        "colorbar": {
                          "outlinewidth": 0,
                          "ticks": ""
                        },
                        "type": "choropleth"
                      }
                    ],
                    "contour": [
                      {
                        "colorbar": {
                          "outlinewidth": 0,
                          "ticks": ""
                        },
                        "colorscale": [
                          [
                            0,
                            "#0d0887"
                          ],
                          [
                            0.1111111111111111,
                            "#46039f"
                          ],
                          [
                            0.2222222222222222,
                            "#7201a8"
                          ],
                          [
                            0.3333333333333333,
                            "#9c179e"
                          ],
                          [
                            0.4444444444444444,
                            "#bd3786"
                          ],
                          [
                            0.5555555555555556,
                            "#d8576b"
                          ],
                          [
                            0.6666666666666666,
                            "#ed7953"
                          ],
                          [
                            0.7777777777777778,
                            "#fb9f3a"
                          ],
                          [
                            0.8888888888888888,
                            "#fdca26"
                          ],
                          [
                            1,
                            "#f0f921"
                          ]
                        ],
                        "type": "contour"
                      }
                    ],
                    "contourcarpet": [
                      {
                        "colorbar": {
                          "outlinewidth": 0,
                          "ticks": ""
                        },
                        "type": "contourcarpet"
                      }
                    ],
                    "heatmap": [
                      {
                        "colorbar": {
                          "outlinewidth": 0,
                          "ticks": ""
                        },
                        "colorscale": [
                          [
                            0,
                            "#0d0887"
                          ],
                          [
                            0.1111111111111111,
                            "#46039f"
                          ],
                          [
                            0.2222222222222222,
                            "#7201a8"
                          ],
                          [
                            0.3333333333333333,
                            "#9c179e"
                          ],
                          [
                            0.4444444444444444,
                            "#bd3786"
                          ],
                          [
                            0.5555555555555556,
                            "#d8576b"
                          ],
                          [
                            0.6666666666666666,
                            "#ed7953"
                          ],
                          [
                            0.7777777777777778,
                            "#fb9f3a"
                          ],
                          [
                            0.8888888888888888,
                            "#fdca26"
                          ],
                          [
                            1,
                            "#f0f921"
                          ]
                        ],
                        "type": "heatmap"
                      }
                    ],
                    "heatmapgl": [
                      {
                        "colorbar": {
                          "outlinewidth": 0,
                          "ticks": ""
                        },
                        "colorscale": [
                          [
                            0,
                            "#0d0887"
                          ],
                          [
                            0.1111111111111111,
                            "#46039f"
                          ],
                          [
                            0.2222222222222222,
                            "#7201a8"
                          ],
                          [
                            0.3333333333333333,
                            "#9c179e"
                          ],
                          [
                            0.4444444444444444,
                            "#bd3786"
                          ],
                          [
                            0.5555555555555556,
                            "#d8576b"
                          ],
                          [
                            0.6666666666666666,
                            "#ed7953"
                          ],
                          [
                            0.7777777777777778,
                            "#fb9f3a"
                          ],
                          [
                            0.8888888888888888,
                            "#fdca26"
                          ],
                          [
                            1,
                            "#f0f921"
                          ]
                        ],
                        "type": "heatmapgl"
                      }
                    ],
                    "histogram": [
                      {
                        "marker": {
                          "pattern": {
                            "fillmode": "overlay",
                            "size": 10,
                            "solidity": 0.2
                          }
                        },
                        "type": "histogram"
                      }
                    ],
                    "histogram2d": [
                      {
                        "colorbar": {
                          "outlinewidth": 0,
                          "ticks": ""
                        },
                        "colorscale": [
                          [
                            0,
                            "#0d0887"
                          ],
                          [
                            0.1111111111111111,
                            "#46039f"
                          ],
                          [
                            0.2222222222222222,
                            "#7201a8"
                          ],
                          [
                            0.3333333333333333,
                            "#9c179e"
                          ],
                          [
                            0.4444444444444444,
                            "#bd3786"
                          ],
                          [
                            0.5555555555555556,
                            "#d8576b"
                          ],
                          [
                            0.6666666666666666,
                            "#ed7953"
                          ],
                          [
                            0.7777777777777778,
                            "#fb9f3a"
                          ],
                          [
                            0.8888888888888888,
                            "#fdca26"
                          ],
                          [
                            1,
                            "#f0f921"
                          ]
                        ],
                        "type": "histogram2d"
                      }
                    ],
                    "histogram2dcontour": [
                      {
                        "colorbar": {
                          "outlinewidth": 0,
                          "ticks": ""
                        },
                        "colorscale": [
                          [
                            0,
                            "#0d0887"
                          ],
                          [
                            0.1111111111111111,
                            "#46039f"
                          ],
                          [
                            0.2222222222222222,
                            "#7201a8"
                          ],
                          [
                            0.3333333333333333,
                            "#9c179e"
                          ],
                          [
                            0.4444444444444444,
                            "#bd3786"
                          ],
                          [
                            0.5555555555555556,
                            "#d8576b"
                          ],
                          [
                            0.6666666666666666,
                            "#ed7953"
                          ],
                          [
                            0.7777777777777778,
                            "#fb9f3a"
                          ],
                          [
                            0.8888888888888888,
                            "#fdca26"
                          ],
                          [
                            1,
                            "#f0f921"
                          ]
                        ],
                        "type": "histogram2dcontour"
                      }
                    ],
                    "mesh3d": [
                      {
                        "colorbar": {
                          "outlinewidth": 0,
                          "ticks": ""
                        },
                        "type": "mesh3d"
                      }
                    ],
                    "parcoords": [
                      {
                        "line": {
                          "colorbar": {
                            "outlinewidth": 0,
                            "ticks": ""
                          }
                        },
                        "type": "parcoords"
                      }
                    ],
                    "pie": [
                      {
                        "automargin": true,
                        "type": "pie"
                      }
                    ],
                    "scatter": [
                      {
                        "fillpattern": {
                          "fillmode": "overlay",
                          "size": 10,
                          "solidity": 0.2
                        },
                        "type": "scatter"
                      }
                    ],
                    "scatter3d": [
                      {
                        "line": {
                          "colorbar": {
                            "outlinewidth": 0,
                            "ticks": ""
                          }
                        },
                        "marker": {
                          "colorbar": {
                            "outlinewidth": 0,
                            "ticks": ""
                          }
                        },
                        "type": "scatter3d"
                      }
                    ],
                    "scattercarpet": [
                      {
                        "marker": {
                          "colorbar": {
                            "outlinewidth": 0,
                            "ticks": ""
                          }
                        },
                        "type": "scattercarpet"
                      }
                    ],
                    "scattergeo": [
                      {
                        "marker": {
                          "colorbar": {
                            "outlinewidth": 0,
                            "ticks": ""
                          }
                        },
                        "type": "scattergeo"
                      }
                    ],
                    "scattergl": [
                      {
                        "marker": {
                          "colorbar": {
                            "outlinewidth": 0,
                            "ticks": ""
                          }
                        },
                        "type": "scattergl"
                      }
                    ],
                    "scattermapbox": [
                      {
                        "marker": {
                          "colorbar": {
                            "outlinewidth": 0,
                            "ticks": ""
                          }
                        },
                        "type": "scattermapbox"
                      }
                    ],
                    "scatterpolar": [
                      {
                        "marker": {
                          "colorbar": {
                            "outlinewidth": 0,
                            "ticks": ""
                          }
                        },
                        "type": "scatterpolar"
                      }
                    ],
                    "scatterpolargl": [
                      {
                        "marker": {
                          "colorbar": {
                            "outlinewidth": 0,
                            "ticks": ""
                          }
                        },
                        "type": "scatterpolargl"
                      }
                    ],
                    "scatterternary": [
                      {
                        "marker": {
                          "colorbar": {
                            "outlinewidth": 0,
                            "ticks": ""
                          }
                        },
                        "type": "scatterternary"
                      }
                    ],
                    "surface": [
                      {
                        "colorbar": {
                          "outlinewidth": 0,
                          "ticks": ""
                        },
                        "colorscale": [
                          [
                            0,
                            "#0d0887"
                          ],
                          [
                            0.1111111111111111,
                            "#46039f"
                          ],
                          [
                            0.2222222222222222,
                            "#7201a8"
                          ],
                          [
                            0.3333333333333333,
                            "#9c179e"
                          ],
                          [
                            0.4444444444444444,
                            "#bd3786"
                          ],
                          [
                            0.5555555555555556,
                            "#d8576b"
                          ],
                          [
                            0.6666666666666666,
                            "#ed7953"
                          ],
                          [
                            0.7777777777777778,
                            "#fb9f3a"
                          ],
                          [
                            0.8888888888888888,
                            "#fdca26"
                          ],
                          [
                            1,
                            "#f0f921"
                          ]
                        ],
                        "type": "surface"
                      }
                    ],
                    "table": [
                      {
                        "cells": {
                          "fill": {
                            "color": "#EBF0F8"
                          },
                          "line": {
                            "color": "white"
                          }
                        },
                        "header": {
                          "fill": {
                            "color": "#C8D4E3"
                          },
                          "line": {
                            "color": "white"
                          }
                        },
                        "type": "table"
                      }
                    ]
                  },
                  "layout": {
                    "annotationdefaults": {
                      "arrowcolor": "#2a3f5f",
                      "arrowhead": 0,
                      "arrowwidth": 1
                    },
                    "autotypenumbers": "strict",
                    "coloraxis": {
                      "colorbar": {
                        "outlinewidth": 0,
                        "ticks": ""
                      }
                    },
                    "colorscale": {
                      "diverging": [
                        [
                          0,
                          "#8e0152"
                        ],
                        [
                          0.1,
                          "#c51b7d"
                        ],
                        [
                          0.2,
                          "#de77ae"
                        ],
                        [
                          0.3,
                          "#f1b6da"
                        ],
                        [
                          0.4,
                          "#fde0ef"
                        ],
                        [
                          0.5,
                          "#f7f7f7"
                        ],
                        [
                          0.6,
                          "#e6f5d0"
                        ],
                        [
                          0.7,
                          "#b8e186"
                        ],
                        [
                          0.8,
                          "#7fbc41"
                        ],
                        [
                          0.9,
                          "#4d9221"
                        ],
                        [
                          1,
                          "#276419"
                        ]
                      ],
                      "sequential": [
                        [
                          0,
                          "#0d0887"
                        ],
                        [
                          0.1111111111111111,
                          "#46039f"
                        ],
                        [
                          0.2222222222222222,
                          "#7201a8"
                        ],
                        [
                          0.3333333333333333,
                          "#9c179e"
                        ],
                        [
                          0.4444444444444444,
                          "#bd3786"
                        ],
                        [
                          0.5555555555555556,
                          "#d8576b"
                        ],
                        [
                          0.6666666666666666,
                          "#ed7953"
                        ],
                        [
                          0.7777777777777778,
                          "#fb9f3a"
                        ],
                        [
                          0.8888888888888888,
                          "#fdca26"
                        ],
                        [
                          1,
                          "#f0f921"
                        ]
                      ],
                      "sequentialminus": [
                        [
                          0,
                          "#0d0887"
                        ],
                        [
                          0.1111111111111111,
                          "#46039f"
                        ],
                        [
                          0.2222222222222222,
                          "#7201a8"
                        ],
                        [
                          0.3333333333333333,
                          "#9c179e"
                        ],
                        [
                          0.4444444444444444,
                          "#bd3786"
                        ],
                        [
                          0.5555555555555556,
                          "#d8576b"
                        ],
                        [
                          0.6666666666666666,
                          "#ed7953"
                        ],
                        [
                          0.7777777777777778,
                          "#fb9f3a"
                        ],
                        [
                          0.8888888888888888,
                          "#fdca26"
                        ],
                        [
                          1,
                          "#f0f921"
                        ]
                      ]
                    },
                    "colorway": [
                      "#636efa",
                      "#EF553B",
                      "#00cc96",
                      "#ab63fa",
                      "#FFA15A",
                      "#19d3f3",
                      "#FF6692",
                      "#B6E880",
                      "#FF97FF",
                      "#FECB52"
                    ],
                    "font": {
                      "color": "#2a3f5f"
                    },
                    "geo": {
                      "bgcolor": "white",
                      "lakecolor": "white",
                      "landcolor": "#E5ECF6",
                      "showlakes": true,
                      "showland": true,
                      "subunitcolor": "white"
                    },
                    "hoverlabel": {
                      "align": "left"
                    },
                    "hovermode": "closest",
                    "mapbox": {
                      "style": "light"
                    },
                    "paper_bgcolor": "white",
                    "plot_bgcolor": "#E5ECF6",
                    "polar": {
                      "angularaxis": {
                        "gridcolor": "white",
                        "linecolor": "white",
                        "ticks": ""
                      },
                      "bgcolor": "#E5ECF6",
                      "radialaxis": {
                        "gridcolor": "white",
                        "linecolor": "white",
                        "ticks": ""
                      }
                    },
                    "scene": {
                      "xaxis": {
                        "backgroundcolor": "#E5ECF6",
                        "gridcolor": "white",
                        "gridwidth": 2,
                        "linecolor": "white",
                        "showbackground": true,
                        "ticks": "",
                        "zerolinecolor": "white"
                      },
                      "yaxis": {
                        "backgroundcolor": "#E5ECF6",
                        "gridcolor": "white",
                        "gridwidth": 2,
                        "linecolor": "white",
                        "showbackground": true,
                        "ticks": "",
                        "zerolinecolor": "white"
                      },
                      "zaxis": {
                        "backgroundcolor": "#E5ECF6",
                        "gridcolor": "white",
                        "gridwidth": 2,
                        "linecolor": "white",
                        "showbackground": true,
                        "ticks": "",
                        "zerolinecolor": "white"
                      }
                    },
                    "shapedefaults": {
                      "line": {
                        "color": "#2a3f5f"
                      }
                    },
                    "ternary": {
                      "aaxis": {
                        "gridcolor": "white",
                        "linecolor": "white",
                        "ticks": ""
                      },
                      "baxis": {
                        "gridcolor": "white",
                        "linecolor": "white",
                        "ticks": ""
                      },
                      "bgcolor": "#E5ECF6",
                      "caxis": {
                        "gridcolor": "white",
                        "linecolor": "white",
                        "ticks": ""
                      }
                    },
                    "title": {
                      "x": 0.05
                    },
                    "xaxis": {
                      "automargin": true,
                      "gridcolor": "white",
                      "linecolor": "white",
                      "ticks": "",
                      "title": {
                        "standoff": 15
                      },
                      "zerolinecolor": "white",
                      "zerolinewidth": 2
                    },
                    "yaxis": {
                      "automargin": true,
                      "gridcolor": "white",
                      "linecolor": "white",
                      "ticks": "",
                      "title": {
                        "standoff": 15
                      },
                      "zerolinecolor": "white",
                      "zerolinewidth": 2
                    }
                  }
                },
                "xaxis": {
                  "anchor": "y",
                  "constrain": "domain",
                  "domain": [
                    0,
                    1
                  ],
                  "scaleanchor": "y"
                },
                "yaxis": {
                  "anchor": "x",
                  "autorange": "reversed",
                  "constrain": "domain",
                  "domain": [
                    0,
                    1
                  ]
                }
              }
            }
          },
          "metadata": {},
          "output_type": "display_data"
        }
      ],
      "source": [
        "# another correlation visualization with more specific focus\n",
        "numerical_columns = df_price_merged.select_dtypes(include='number').columns  # Use square brackets [] to access columns\n",
        "# Show all correlation values\n",
        "df_corr = df_price_merged[numerical_columns].corr().round(1)\n",
        "\n",
        "#df_corr = corr_df.round(1)\n",
        "# Mask to matrix\n",
        "mask = np.zeros_like(df_corr, dtype=bool)\n",
        "mask[np.triu_indices_from(mask)] = True\n",
        "# Viz\n",
        "df_corr_viz = df_corr.mask(mask).dropna(how='all').dropna(how='all')\n",
        "# colour variable https://plotly.com/python/colorscales/\n",
        "fig = px.imshow(df_corr_viz, text_auto=True, color_continuous_scale=[(0.00, \"black\"),   (0.33, \"black\"),\n",
        "                                                     (0.33, \"white\"), (0.66, \"white\"),\n",
        "                                                     (0.66, \"blue\"),  (1.00, \"blue\")])\n",
        "# unable to write to image, simply take screenshot\n",
        "fig.show()"
      ]
    },
    {
      "cell_type": "markdown",
      "metadata": {
        "id": "6nPox_rN_Rws"
      },
      "source": [
        "# Visualizations"
      ]
    },
    {
      "cell_type": "markdown",
      "metadata": {
        "id": "ltNW9CKM96bt"
      },
      "source": [
        "## GIS Visualization"
      ]
    },
    {
      "cell_type": "code",
      "execution_count": 102,
      "metadata": {
        "id": "FBHGlI7P96bt",
        "outputId": "c6bdbedc-d7c8-4cff-b7d3-ba09f82053d6"
      },
      "outputs": [
        {
          "data": {
            "text/plain": [
              "(27909, 5)"
            ]
          },
          "execution_count": 102,
          "metadata": {},
          "output_type": "execute_result"
        }
      ],
      "source": [
        "df_gdf.shape # should be 27909,12 with SK and MB"
      ]
    },
    {
      "cell_type": "code",
      "execution_count": 103,
      "metadata": {
        "id": "ieYyfWkrtgyU",
        "outputId": "7a11c1e9-224a-42d0-b3b2-55b3355adc0d"
      },
      "outputs": [],
      "source": [
        "if show_maps:\n",
        "    # show all RM shapefiles\n",
        "    # Create a Folium Map centered on the data\n",
        "    m = folium.Map(location=[gdf.centroid.y.mean(), gdf.centroid.x.mean()], zoom_start=8)\n",
        "\n",
        "    # Add GeoJSON data (your GeoDataFrame) with only borders and no color\n",
        "    for idx, row in gdf.iterrows():\n",
        "        folium.GeoJson(row.geometry.__geo_interface__,\n",
        "                    style_function=lambda x: {'color': 'blue', 'weight': 1},\n",
        "                    ).add_to(m)\n",
        "\n",
        "    # Display the map\n",
        "    m"
      ]
    },
    {
      "cell_type": "markdown",
      "metadata": {
        "id": "vjIvtIuK96bt"
      },
      "source": [
        "### Explore GIS Data"
      ]
    },
    {
      "cell_type": "code",
      "execution_count": 104,
      "metadata": {
        "id": "CiZF-R8r96bt",
        "outputId": "77d8e039-c006-41a2-befc-1b4ae914c4ee"
      },
      "outputs": [
        {
          "name": "stdout",
          "output_type": "stream",
          "text": [
            "(391, 5)\n"
          ]
        }
      ],
      "source": [
        "print(df_gdf.loc[df_gdf['Year'] == 2020].shape) # should be 391,12"
      ]
    },
    {
      "cell_type": "code",
      "execution_count": 105,
      "metadata": {
        "id": "8Ii2r6kltgyQ",
        "outputId": "b2609bbc-7d92-46c4-d77e-2d03399dc5c6"
      },
      "outputs": [
        {
          "data": {
            "text/plain": [
              "Year\n",
              "2020    391\n",
              "2000    391\n",
              "2003    390\n",
              "2010    390\n",
              "1996    390\n",
              "       ... \n",
              "1964    296\n",
              "1963    296\n",
              "1962    296\n",
              "1992    295\n",
              "1991    295\n",
              "Name: RM, Length: 85, dtype: int64"
            ]
          },
          "execution_count": 105,
          "metadata": {},
          "output_type": "execute_result"
        }
      ],
      "source": [
        "# what year has the most RM's ?\n",
        "df_gdf.groupby('Year')['RM'].nunique().sort_values(ascending=False)"
      ]
    },
    {
      "cell_type": "code",
      "execution_count": 106,
      "metadata": {
        "id": "VAnqSpny96bu"
      },
      "outputs": [],
      "source": [
        "# # quick test plot\n",
        "# subset = df_gdf.loc[df_gdf['Year'] == 2020]\n",
        "# subset.plot()"
      ]
    },
    {
      "cell_type": "code",
      "execution_count": 107,
      "metadata": {
        "id": "8Aym3FcS96bu"
      },
      "outputs": [],
      "source": [
        "# quick and simple plot with legend but only 1 year\n",
        "# df_gdf.loc[df_gdf['Year']==2020].plot(column='Canola',\n",
        "#                                  legend=True,\n",
        "#                                  cmap='Greens')"
      ]
    },
    {
      "cell_type": "code",
      "execution_count": 108,
      "metadata": {
        "id": "C2Vto4Ao96bu"
      },
      "outputs": [],
      "source": [
        "# export graph to html for interactivity for 1 year of Canola\n",
        "# m=df_gdf.loc[df_gdf['Year']==2021].explore(column='Canola',\n",
        "#                                  legend=True,\n",
        "#                                  cmap='Greens',\n",
        "#                                  tooltip= ['Canola', 'RM'],\n",
        "#                                  tiles='Stamen Toner') # Plot() is good for showing up in GitHub, Explore() is good for interactive map and saving as HTML\n",
        "\n",
        "# # Adding a title with dark orange color to the folium map\n",
        "# title_html = '''\n",
        "#                  <h3 align=\"center\" style=\"font-size:30px; color:Blue;\"><b> Canola Yield in 2021 </b></h3>\n",
        "#              '''\n",
        "# m.get_root().html.add_child(folium.Element(title_html))\n",
        "# m.save(file_path + 'Visuals/Canola_2021.html')"
      ]
    },
    {
      "cell_type": "markdown",
      "metadata": {
        "id": "XZ93ciZq96bv"
      },
      "source": [
        "#### Output for last 20 years - Canola Yields"
      ]
    },
    {
      "cell_type": "code",
      "execution_count": 109,
      "metadata": {
        "id": "_fg_AreM96bv"
      },
      "outputs": [],
      "source": [
        "# Convert the DataFrame to GeoJSON format\n",
        "# geo_json_data = json.loads(ds.to_json()) # takes 5 minutes"
      ]
    },
    {
      "cell_type": "code",
      "execution_count": 110,
      "metadata": {},
      "outputs": [],
      "source": [
        "if show_maps:\n",
        "    # Get unique years\n",
        "    unique_years = sorted(df_gdf['Year'].dropna().unique())\n",
        "    # Get the last years from the sorted unique_years list\n",
        "    unique_years = unique_years[-21:]\n",
        "\n",
        "    # Get global min and max values for 'Canola' for the last years, ensures all charts have the same scale\n",
        "    global_min = df_gdf[df_gdf['Year'].isin(unique_years)]['Canola'].min()\n",
        "    global_max = df_gdf[df_gdf['Year'].isin(unique_years)]['Canola'].max()\n",
        "\n",
        "    # Create subplots\n",
        "    n_years = len(unique_years)\n",
        "    n_cols = 3  # Number of columns for subplots\n",
        "    n_rows = int(n_years / n_cols) + (n_years % n_cols > 0)\n",
        "\n",
        "    fig, axes = plt.subplots(nrows=n_rows, ncols=n_cols, figsize=(15, 10))\n",
        "\n",
        "    # Flatten the axes array and remove extra subplots\n",
        "    axes = axes.flatten()\n",
        "    for ax in axes[n_years:]:\n",
        "        ax.remove()\n",
        "\n",
        "    # Plot data for each year\n",
        "    for year, ax in zip(unique_years, axes):\n",
        "        df_gdf[df_gdf['Year'] == year].plot(column='Canola',\n",
        "                                    legend=False,\n",
        "                                    cmap='Greens',\n",
        "                                    ax=ax,\n",
        "                                    vmin=global_min,  # Set min value for the colormap\n",
        "                                    vmax=global_max)  # Set max value for the colormap\n",
        "        ax.set_title(f'Canola Yield in {year}')\n",
        "\n",
        "        # Hide x and y-axis labels\n",
        "        ax.set_xticklabels([])\n",
        "        ax.set_yticklabels([])\n",
        "        ax.set_xticks([])\n",
        "        ax.set_yticks([])\n",
        "\n",
        "    # Create a common legend for all subplots\n",
        "    fig.subplots_adjust(right=0.8, hspace=0.4, wspace=0.4)\n",
        "    cax = fig.add_axes([0.85, 0.2, 0.03, 0.6])\n",
        "    sm = plt.cm.ScalarMappable(cmap='Greens', norm=plt.Normalize(vmin=global_min, vmax=global_max))\n",
        "    sm.set_array([])\n",
        "    fig.colorbar(sm, cax=cax)\n",
        "\n",
        "    # Adjust the layout manually\n",
        "    plt.subplots_adjust(top=0.9, bottom=0.1, left=0.1, right=0.8, hspace=0.4, wspace=0.4)\n",
        "\n",
        "    plt.show()\n"
      ]
    },
    {
      "cell_type": "markdown",
      "metadata": {},
      "source": [
        "#### Output Since 2010 - Canola Values"
      ]
    },
    {
      "cell_type": "code",
      "execution_count": 111,
      "metadata": {},
      "outputs": [],
      "source": [
        "if show_maps:\n",
        "    # Get unique years\n",
        "    unique_years = sorted(df_gdf['Year'].dropna().unique())\n",
        "    # Get the last years from the sorted unique_years list\n",
        "    unique_years = unique_years[-12:]\n",
        "\n",
        "    # Get global min and max values for 'Canola' for the last years, ensures all charts have the same scale\n",
        "    global_min = df_gdf[df_gdf['Year'].isin(unique_years)]['Value'].min()\n",
        "    global_max = df_gdf[df_gdf['Year'].isin(unique_years)]['Value'].max()\n",
        "\n",
        "    # Create subplots\n",
        "    n_years = len(unique_years)\n",
        "    n_cols = 3  # Number of columns for subplots\n",
        "    n_rows = int(n_years / n_cols) + (n_years % n_cols > 0)\n",
        "\n",
        "    fig, axes = plt.subplots(nrows=n_rows, ncols=n_cols, figsize=(15, 10))\n",
        "\n",
        "    # Flatten the axes array and remove extra subplots\n",
        "    axes = axes.flatten()\n",
        "    for ax in axes[n_years:]:\n",
        "        ax.remove()\n",
        "\n",
        "    # Plot data for each year\n",
        "    for year, ax in zip(unique_years, axes):\n",
        "        df_gdf[df_gdf['Year'] == year].plot(column='Value',\n",
        "                                    legend=False,\n",
        "                                    cmap='Greens',\n",
        "                                    ax=ax,\n",
        "                                    vmin=global_min,  # Set min value for the colormap\n",
        "                                    vmax=global_max)  # Set max value for the colormap\n",
        "        ax.set_title(f'Canola Valuation in {year}')\n",
        "\n",
        "        # Hide x and y-axis labels\n",
        "        ax.set_xticklabels([])\n",
        "        ax.set_yticklabels([])\n",
        "        ax.set_xticks([])\n",
        "        ax.set_yticks([])\n",
        "\n",
        "    # Create a common legend for all subplots\n",
        "    fig.subplots_adjust(right=0.8, hspace=0.4, wspace=0.4)\n",
        "    cax = fig.add_axes([0.85, 0.2, 0.03, 0.6])\n",
        "    sm = plt.cm.ScalarMappable(cmap='Greens', norm=plt.Normalize(vmin=global_min, vmax=global_max))\n",
        "    sm.set_array([])\n",
        "    fig.colorbar(sm, cax=cax)\n",
        "\n",
        "    # Adjust the layout manually\n",
        "    plt.subplots_adjust(top=0.9, bottom=0.1, left=0.1, right=0.8, hspace=0.4, wspace=0.4)\n",
        "\n",
        "    plt.show()"
      ]
    },
    {
      "cell_type": "markdown",
      "metadata": {
        "id": "rOqXptlj96bx"
      },
      "source": [
        "## Aggregations"
      ]
    },
    {
      "cell_type": "code",
      "execution_count": 112,
      "metadata": {
        "id": "ST7GRu2p96bx"
      },
      "outputs": [
        {
          "data": {
            "text/html": [
              "<div>\n",
              "<style scoped>\n",
              "    .dataframe tbody tr th:only-of-type {\n",
              "        vertical-align: middle;\n",
              "    }\n",
              "\n",
              "    .dataframe tbody tr th {\n",
              "        vertical-align: top;\n",
              "    }\n",
              "\n",
              "    .dataframe thead th {\n",
              "        text-align: right;\n",
              "    }\n",
              "</style>\n",
              "<table border=\"1\" class=\"dataframe\">\n",
              "  <thead>\n",
              "    <tr style=\"text-align: right;\">\n",
              "      <th></th>\n",
              "      <th>Canola</th>\n",
              "      <th>Value</th>\n",
              "    </tr>\n",
              "    <tr>\n",
              "      <th>RM</th>\n",
              "      <th></th>\n",
              "      <th></th>\n",
              "    </tr>\n",
              "  </thead>\n",
              "  <tbody>\n",
              "    <tr>\n",
              "      <th>1</th>\n",
              "      <td>28.857500</td>\n",
              "      <td>401.699430</td>\n",
              "    </tr>\n",
              "    <tr>\n",
              "      <th>10</th>\n",
              "      <td>21.931500</td>\n",
              "      <td>333.428196</td>\n",
              "    </tr>\n",
              "    <tr>\n",
              "      <th>100</th>\n",
              "      <td>30.436842</td>\n",
              "      <td>445.459645</td>\n",
              "    </tr>\n",
              "    <tr>\n",
              "      <th>101</th>\n",
              "      <td>26.350526</td>\n",
              "      <td>368.376844</td>\n",
              "    </tr>\n",
              "    <tr>\n",
              "      <th>102</th>\n",
              "      <td>31.061500</td>\n",
              "      <td>441.849929</td>\n",
              "    </tr>\n",
              "    <tr>\n",
              "      <th>...</th>\n",
              "      <td>...</td>\n",
              "      <td>...</td>\n",
              "    </tr>\n",
              "    <tr>\n",
              "      <th>WHITEHEAD</th>\n",
              "      <td>33.041511</td>\n",
              "      <td>441.705000</td>\n",
              "    </tr>\n",
              "    <tr>\n",
              "      <th>WHITEMOUTH</th>\n",
              "      <td>32.618159</td>\n",
              "      <td>455.102235</td>\n",
              "    </tr>\n",
              "    <tr>\n",
              "      <th>WINNIPEG</th>\n",
              "      <td>31.971341</td>\n",
              "      <td>413.186982</td>\n",
              "    </tr>\n",
              "    <tr>\n",
              "      <th>WOODLANDS</th>\n",
              "      <td>32.875363</td>\n",
              "      <td>400.361921</td>\n",
              "    </tr>\n",
              "    <tr>\n",
              "      <th>YELLOWHEAD</th>\n",
              "      <td>38.497644</td>\n",
              "      <td>520.007674</td>\n",
              "    </tr>\n",
              "  </tbody>\n",
              "</table>\n",
              "<p>394 rows × 2 columns</p>\n",
              "</div>"
            ],
            "text/plain": [
              "               Canola       Value\n",
              "RM                               \n",
              "1           28.857500  401.699430\n",
              "10          21.931500  333.428196\n",
              "100         30.436842  445.459645\n",
              "101         26.350526  368.376844\n",
              "102         31.061500  441.849929\n",
              "...               ...         ...\n",
              "WHITEHEAD   33.041511  441.705000\n",
              "WHITEMOUTH  32.618159  455.102235\n",
              "WINNIPEG    31.971341  413.186982\n",
              "WOODLANDS   32.875363  400.361921\n",
              "YELLOWHEAD  38.497644  520.007674\n",
              "\n",
              "[394 rows x 2 columns]"
            ]
          },
          "execution_count": 112,
          "metadata": {},
          "output_type": "execute_result"
        }
      ],
      "source": [
        "# Let's only use the Canola Data from past 20 years to minimize missing values\n",
        "df_yield_20yrs = df_data_merged.loc[df_data_merged['Year'] > 2002].sort_values(['RM', 'Year'])\n",
        "df_yield_20yrs.drop(columns=['Year']).groupby('RM').mean(numeric_only=True)"
      ]
    },
    {
      "cell_type": "markdown",
      "metadata": {},
      "source": [
        "# Canola RMs"
      ]
    },
    {
      "cell_type": "markdown",
      "metadata": {},
      "source": [
        "## Canola RM's by Average Yield"
      ]
    },
    {
      "cell_type": "code",
      "execution_count": 113,
      "metadata": {
        "id": "Z4_vyDEotgyT",
        "outputId": "d1ed6c23-09a7-4bba-c12a-41b6e17c29ac"
      },
      "outputs": [],
      "source": [
        "if show_maps:\n",
        "    # display average canola yield \n",
        "    pd.merge(\n",
        "        gdf,\n",
        "        df_yield_20yrs.drop(columns=['Year']).groupby('RM').mean(numeric_only=True),\n",
        "        on='RM').explore(\n",
        "            column='Canola',\n",
        "            cmap='RdYlGn')"
      ]
    },
    {
      "cell_type": "code",
      "execution_count": 114,
      "metadata": {},
      "outputs": [],
      "source": [
        "if show_maps:\n",
        "    # display average canola yield std\n",
        "    pd.merge(\n",
        "        gdf,\n",
        "        df_yield_20yrs.drop(columns=['Year']).groupby('RM').std(numeric_only=True),\n",
        "        on='RM').explore(\n",
        "            column='Canola',\n",
        "            cmap='RdYlGn_r')"
      ]
    },
    {
      "cell_type": "code",
      "execution_count": 115,
      "metadata": {},
      "outputs": [],
      "source": [
        "# # Create a GeoDataFrame with the 'geometry' column\n",
        "# gdf_yield = gpd.GeoDataFrame(\n",
        "#     df_yield_20yrs.drop(columns=['Year']).groupby('RM').std(numeric_only=True),\n",
        "#     geometry=df_yield['geometry'].apply(Polygon),  # Assuming 'geometry' column contains Polygon geometries\n",
        "#     crs='EPSG:4326'  # Replace with the appropriate CRS for your data\n",
        "# )"
      ]
    },
    {
      "cell_type": "code",
      "execution_count": 116,
      "metadata": {},
      "outputs": [
        {
          "data": {
            "text/html": [
              "<div>\n",
              "<style scoped>\n",
              "    .dataframe tbody tr th:only-of-type {\n",
              "        vertical-align: middle;\n",
              "    }\n",
              "\n",
              "    .dataframe tbody tr th {\n",
              "        vertical-align: top;\n",
              "    }\n",
              "\n",
              "    .dataframe thead th {\n",
              "        text-align: right;\n",
              "    }\n",
              "</style>\n",
              "<table border=\"1\" class=\"dataframe\">\n",
              "  <thead>\n",
              "    <tr style=\"text-align: right;\">\n",
              "      <th></th>\n",
              "      <th>Canola</th>\n",
              "      <th>Value</th>\n",
              "    </tr>\n",
              "    <tr>\n",
              "      <th>RM</th>\n",
              "      <th></th>\n",
              "      <th></th>\n",
              "    </tr>\n",
              "  </thead>\n",
              "  <tbody>\n",
              "    <tr>\n",
              "      <th>1</th>\n",
              "      <td>28.857500</td>\n",
              "      <td>401.699430</td>\n",
              "    </tr>\n",
              "    <tr>\n",
              "      <th>10</th>\n",
              "      <td>21.931500</td>\n",
              "      <td>333.428196</td>\n",
              "    </tr>\n",
              "    <tr>\n",
              "      <th>100</th>\n",
              "      <td>30.436842</td>\n",
              "      <td>445.459645</td>\n",
              "    </tr>\n",
              "    <tr>\n",
              "      <th>101</th>\n",
              "      <td>26.350526</td>\n",
              "      <td>368.376844</td>\n",
              "    </tr>\n",
              "    <tr>\n",
              "      <th>102</th>\n",
              "      <td>31.061500</td>\n",
              "      <td>441.849929</td>\n",
              "    </tr>\n",
              "    <tr>\n",
              "      <th>...</th>\n",
              "      <td>...</td>\n",
              "      <td>...</td>\n",
              "    </tr>\n",
              "    <tr>\n",
              "      <th>WHITEHEAD</th>\n",
              "      <td>33.041511</td>\n",
              "      <td>441.705000</td>\n",
              "    </tr>\n",
              "    <tr>\n",
              "      <th>WHITEMOUTH</th>\n",
              "      <td>32.618159</td>\n",
              "      <td>455.102235</td>\n",
              "    </tr>\n",
              "    <tr>\n",
              "      <th>WINNIPEG</th>\n",
              "      <td>31.971341</td>\n",
              "      <td>413.186982</td>\n",
              "    </tr>\n",
              "    <tr>\n",
              "      <th>WOODLANDS</th>\n",
              "      <td>32.875363</td>\n",
              "      <td>400.361921</td>\n",
              "    </tr>\n",
              "    <tr>\n",
              "      <th>YELLOWHEAD</th>\n",
              "      <td>38.497644</td>\n",
              "      <td>520.007674</td>\n",
              "    </tr>\n",
              "  </tbody>\n",
              "</table>\n",
              "<p>394 rows × 2 columns</p>\n",
              "</div>"
            ],
            "text/plain": [
              "               Canola       Value\n",
              "RM                               \n",
              "1           28.857500  401.699430\n",
              "10          21.931500  333.428196\n",
              "100         30.436842  445.459645\n",
              "101         26.350526  368.376844\n",
              "102         31.061500  441.849929\n",
              "...               ...         ...\n",
              "WHITEHEAD   33.041511  441.705000\n",
              "WHITEMOUTH  32.618159  455.102235\n",
              "WINNIPEG    31.971341  413.186982\n",
              "WOODLANDS   32.875363  400.361921\n",
              "YELLOWHEAD  38.497644  520.007674\n",
              "\n",
              "[394 rows x 2 columns]"
            ]
          },
          "execution_count": 116,
          "metadata": {},
          "output_type": "execute_result"
        }
      ],
      "source": [
        "df_yield_20yrs.drop(columns=['Year']).groupby('RM').mean(numeric_only=True).sort_values(by='RM')"
      ]
    },
    {
      "cell_type": "code",
      "execution_count": 117,
      "metadata": {},
      "outputs": [],
      "source": [
        "# Merge df_yield_20yrs with gdf to get the geometry\n",
        "gdf_yield = gdf.merge(df_yield_20yrs.drop(columns=['Year']).groupby('RM').mean(numeric_only=True), left_on='RM', right_index=True)"
      ]
    },
    {
      "cell_type": "code",
      "execution_count": 118,
      "metadata": {},
      "outputs": [
        {
          "data": {
            "text/html": [
              "<div>\n",
              "<style scoped>\n",
              "    .dataframe tbody tr th:only-of-type {\n",
              "        vertical-align: middle;\n",
              "    }\n",
              "\n",
              "    .dataframe tbody tr th {\n",
              "        vertical-align: top;\n",
              "    }\n",
              "\n",
              "    .dataframe thead th {\n",
              "        text-align: right;\n",
              "    }\n",
              "</style>\n",
              "<table border=\"1\" class=\"dataframe\">\n",
              "  <thead>\n",
              "    <tr style=\"text-align: right;\">\n",
              "      <th></th>\n",
              "      <th>RM</th>\n",
              "      <th>geometry</th>\n",
              "      <th>Canola</th>\n",
              "      <th>Value</th>\n",
              "    </tr>\n",
              "  </thead>\n",
              "  <tbody>\n",
              "    <tr>\n",
              "      <th>34</th>\n",
              "      <td>1</td>\n",
              "      <td>POLYGON ((-101.39218 49.18548, -101.39223 49.1...</td>\n",
              "      <td>28.857500</td>\n",
              "      <td>401.699430</td>\n",
              "    </tr>\n",
              "    <tr>\n",
              "      <th>12</th>\n",
              "      <td>10</td>\n",
              "      <td>POLYGON ((-104.81097 49.06477, -104.81097 49.0...</td>\n",
              "      <td>21.931500</td>\n",
              "      <td>333.428196</td>\n",
              "    </tr>\n",
              "    <tr>\n",
              "      <th>94</th>\n",
              "      <td>100</td>\n",
              "      <td>POLYGON ((-105.25475 50.04683, -105.25470 50.0...</td>\n",
              "      <td>30.436842</td>\n",
              "      <td>445.459645</td>\n",
              "    </tr>\n",
              "    <tr>\n",
              "      <th>59</th>\n",
              "      <td>101</td>\n",
              "      <td>POLYGON ((-105.61946 50.04680, -105.61823 50.0...</td>\n",
              "      <td>26.350526</td>\n",
              "      <td>368.376844</td>\n",
              "    </tr>\n",
              "    <tr>\n",
              "      <th>119</th>\n",
              "      <td>102</td>\n",
              "      <td>POLYGON ((-105.69176 49.94815, -105.69177 49.9...</td>\n",
              "      <td>31.061500</td>\n",
              "      <td>441.849929</td>\n",
              "    </tr>\n",
              "    <tr>\n",
              "      <th>...</th>\n",
              "      <td>...</td>\n",
              "      <td>...</td>\n",
              "      <td>...</td>\n",
              "      <td>...</td>\n",
              "    </tr>\n",
              "    <tr>\n",
              "      <th>112</th>\n",
              "      <td>WHITEHEAD</td>\n",
              "      <td>POLYGON ((-100.46277 49.88662, -100.46235 49.8...</td>\n",
              "      <td>33.041511</td>\n",
              "      <td>441.705000</td>\n",
              "    </tr>\n",
              "    <tr>\n",
              "      <th>98</th>\n",
              "      <td>WHITEMOUTH</td>\n",
              "      <td>POLYGON ((-96.02118 50.11898, -96.02070 50.118...</td>\n",
              "      <td>32.618159</td>\n",
              "      <td>455.102235</td>\n",
              "    </tr>\n",
              "    <tr>\n",
              "      <th>119</th>\n",
              "      <td>WINNIPEG</td>\n",
              "      <td>POLYGON ((-97.18411 49.97560, -97.18369 49.975...</td>\n",
              "      <td>31.971341</td>\n",
              "      <td>413.186982</td>\n",
              "    </tr>\n",
              "    <tr>\n",
              "      <th>143</th>\n",
              "      <td>WOODLANDS</td>\n",
              "      <td>POLYGON ((-97.45990 50.41850, -97.45980 50.411...</td>\n",
              "      <td>32.875363</td>\n",
              "      <td>400.361921</td>\n",
              "    </tr>\n",
              "    <tr>\n",
              "      <th>66</th>\n",
              "      <td>YELLOWHEAD</td>\n",
              "      <td>POLYGON ((-100.77336 50.59426, -100.76224 50.5...</td>\n",
              "      <td>38.497644</td>\n",
              "      <td>520.007674</td>\n",
              "    </tr>\n",
              "  </tbody>\n",
              "</table>\n",
              "<p>392 rows × 4 columns</p>\n",
              "</div>"
            ],
            "text/plain": [
              "             RM                                           geometry     Canola  \\\n",
              "34            1  POLYGON ((-101.39218 49.18548, -101.39223 49.1...  28.857500   \n",
              "12           10  POLYGON ((-104.81097 49.06477, -104.81097 49.0...  21.931500   \n",
              "94          100  POLYGON ((-105.25475 50.04683, -105.25470 50.0...  30.436842   \n",
              "59          101  POLYGON ((-105.61946 50.04680, -105.61823 50.0...  26.350526   \n",
              "119         102  POLYGON ((-105.69176 49.94815, -105.69177 49.9...  31.061500   \n",
              "..          ...                                                ...        ...   \n",
              "112   WHITEHEAD  POLYGON ((-100.46277 49.88662, -100.46235 49.8...  33.041511   \n",
              "98   WHITEMOUTH  POLYGON ((-96.02118 50.11898, -96.02070 50.118...  32.618159   \n",
              "119    WINNIPEG  POLYGON ((-97.18411 49.97560, -97.18369 49.975...  31.971341   \n",
              "143   WOODLANDS  POLYGON ((-97.45990 50.41850, -97.45980 50.411...  32.875363   \n",
              "66   YELLOWHEAD  POLYGON ((-100.77336 50.59426, -100.76224 50.5...  38.497644   \n",
              "\n",
              "          Value  \n",
              "34   401.699430  \n",
              "12   333.428196  \n",
              "94   445.459645  \n",
              "59   368.376844  \n",
              "119  441.849929  \n",
              "..          ...  \n",
              "112  441.705000  \n",
              "98   455.102235  \n",
              "119  413.186982  \n",
              "143  400.361921  \n",
              "66   520.007674  \n",
              "\n",
              "[392 rows x 4 columns]"
            ]
          },
          "execution_count": 118,
          "metadata": {},
          "output_type": "execute_result"
        }
      ],
      "source": [
        "gdf_yield.sort_values(by='RM')"
      ]
    },
    {
      "cell_type": "code",
      "execution_count": 119,
      "metadata": {},
      "outputs": [],
      "source": [
        "# export graph to html for interactivity\n",
        "m=gdf_yield.explore(column='Canola',\n",
        "                                 legend=True,\n",
        "                                 cmap='Greens',\n",
        "                                 tooltip= ['Canola', 'RM'],\n",
        "                                 tiles='Stamen Toner') # Plot() is good for showing up in GitHub, Explore() is good for interactive map and saving as HTML\n",
        "\n",
        "# Adding a title with dark orange color to the folium map\n",
        "title_html = '''\n",
        "                 <h3 align=\"center\" style=\"font-size:30px; color:Blue;\"><b> All Canola Mean Yield from 2002-2022 </b></h3>\n",
        "             '''\n",
        "m.get_root().html.add_child(folium.Element(title_html))\n",
        "m.save(file_path + 'Visuals/Canola_AllYields.html')"
      ]
    },
    {
      "cell_type": "markdown",
      "metadata": {},
      "source": [
        "## Top 10 Canola Average Yield"
      ]
    },
    {
      "cell_type": "code",
      "execution_count": 120,
      "metadata": {},
      "outputs": [
        {
          "data": {
            "text/html": [
              "<div>\n",
              "<style scoped>\n",
              "    .dataframe tbody tr th:only-of-type {\n",
              "        vertical-align: middle;\n",
              "    }\n",
              "\n",
              "    .dataframe tbody tr th {\n",
              "        vertical-align: top;\n",
              "    }\n",
              "\n",
              "    .dataframe thead th {\n",
              "        text-align: right;\n",
              "    }\n",
              "</style>\n",
              "<table border=\"1\" class=\"dataframe\">\n",
              "  <thead>\n",
              "    <tr style=\"text-align: right;\">\n",
              "      <th></th>\n",
              "      <th>Canola</th>\n",
              "      <th>Value</th>\n",
              "    </tr>\n",
              "    <tr>\n",
              "      <th>RM</th>\n",
              "      <th></th>\n",
              "      <th></th>\n",
              "    </tr>\n",
              "  </thead>\n",
              "  <tbody>\n",
              "    <tr>\n",
              "      <th>SWAN VALLEY WEST</th>\n",
              "      <td>42.681213</td>\n",
              "      <td>553.333615</td>\n",
              "    </tr>\n",
              "    <tr>\n",
              "      <th>LOUISE</th>\n",
              "      <td>42.033234</td>\n",
              "      <td>554.761563</td>\n",
              "    </tr>\n",
              "    <tr>\n",
              "      <th>HILLSBURG-ROBLIN-SHELL RIVER</th>\n",
              "      <td>41.558253</td>\n",
              "      <td>561.917317</td>\n",
              "    </tr>\n",
              "    <tr>\n",
              "      <th>VICTORIA</th>\n",
              "      <td>41.360553</td>\n",
              "      <td>522.671936</td>\n",
              "    </tr>\n",
              "    <tr>\n",
              "      <th>RHINELAND</th>\n",
              "      <td>41.025401</td>\n",
              "      <td>564.825765</td>\n",
              "    </tr>\n",
              "    <tr>\n",
              "      <th>ROLAND</th>\n",
              "      <td>40.834704</td>\n",
              "      <td>542.052420</td>\n",
              "    </tr>\n",
              "    <tr>\n",
              "      <th>LORNE</th>\n",
              "      <td>40.664508</td>\n",
              "      <td>522.697827</td>\n",
              "    </tr>\n",
              "    <tr>\n",
              "      <th>STANLEY</th>\n",
              "      <td>40.549979</td>\n",
              "      <td>532.789336</td>\n",
              "    </tr>\n",
              "    <tr>\n",
              "      <th>DUFFERIN</th>\n",
              "      <td>40.118366</td>\n",
              "      <td>535.204543</td>\n",
              "    </tr>\n",
              "    <tr>\n",
              "      <th>THOMPSON</th>\n",
              "      <td>40.036638</td>\n",
              "      <td>521.681823</td>\n",
              "    </tr>\n",
              "  </tbody>\n",
              "</table>\n",
              "</div>"
            ],
            "text/plain": [
              "                                 Canola       Value\n",
              "RM                                                 \n",
              "SWAN VALLEY WEST              42.681213  553.333615\n",
              "LOUISE                        42.033234  554.761563\n",
              "HILLSBURG-ROBLIN-SHELL RIVER  41.558253  561.917317\n",
              "VICTORIA                      41.360553  522.671936\n",
              "RHINELAND                     41.025401  564.825765\n",
              "ROLAND                        40.834704  542.052420\n",
              "LORNE                         40.664508  522.697827\n",
              "STANLEY                       40.549979  532.789336\n",
              "DUFFERIN                      40.118366  535.204543\n",
              "THOMPSON                      40.036638  521.681823"
            ]
          },
          "execution_count": 120,
          "metadata": {},
          "output_type": "execute_result"
        }
      ],
      "source": [
        "# Best Canola Average Yield\n",
        "df_top10_yield = df_yield_20yrs.drop(columns='Year').groupby('RM').mean(numeric_only=True).sort_values('Canola', ascending=False).head(10)\n",
        "df_top10_yield"
      ]
    },
    {
      "cell_type": "code",
      "execution_count": 121,
      "metadata": {},
      "outputs": [],
      "source": [
        "if show_maps:\n",
        "    pd.merge(\n",
        "        gdf,\n",
        "        df_top10_yield,\n",
        "        on='RM').explore(column='Canola', legend='True', scheme='quantiles', cmap='cool')"
      ]
    },
    {
      "cell_type": "code",
      "execution_count": 122,
      "metadata": {},
      "outputs": [
        {
          "data": {
            "text/html": [
              "<div>\n",
              "<style scoped>\n",
              "    .dataframe tbody tr th:only-of-type {\n",
              "        vertical-align: middle;\n",
              "    }\n",
              "\n",
              "    .dataframe tbody tr th {\n",
              "        vertical-align: top;\n",
              "    }\n",
              "\n",
              "    .dataframe thead th {\n",
              "        text-align: right;\n",
              "    }\n",
              "</style>\n",
              "<table border=\"1\" class=\"dataframe\">\n",
              "  <thead>\n",
              "    <tr style=\"text-align: right;\">\n",
              "      <th></th>\n",
              "      <th>RM</th>\n",
              "      <th>Canola_mean</th>\n",
              "      <th>Canola_std</th>\n",
              "      <th>geometry</th>\n",
              "    </tr>\n",
              "  </thead>\n",
              "  <tbody>\n",
              "    <tr>\n",
              "      <th>378</th>\n",
              "      <td>SWAN VALLEY WEST</td>\n",
              "      <td>42.681213</td>\n",
              "      <td>9.009248</td>\n",
              "      <td>POLYGON ((-101.31150 52.31802, -101.29991 52.3...</td>\n",
              "    </tr>\n",
              "    <tr>\n",
              "      <th>337</th>\n",
              "      <td>LOUISE</td>\n",
              "      <td>42.033234</td>\n",
              "      <td>7.566462</td>\n",
              "      <td>POLYGON ((-98.81757 49.33984, -98.81757 49.339...</td>\n",
              "    </tr>\n",
              "    <tr>\n",
              "      <th>330</th>\n",
              "      <td>HILLSBURG-ROBLIN-SHELL RIVER</td>\n",
              "      <td>41.558253</td>\n",
              "      <td>10.466401</td>\n",
              "      <td>POLYGON ((-101.38880 51.62136, -101.37722 51.6...</td>\n",
              "    </tr>\n",
              "    <tr>\n",
              "      <th>382</th>\n",
              "      <td>VICTORIA</td>\n",
              "      <td>41.360553</td>\n",
              "      <td>6.738479</td>\n",
              "      <td>POLYGON ((-98.77953 49.79823, -98.77946 49.790...</td>\n",
              "    </tr>\n",
              "    <tr>\n",
              "      <th>358</th>\n",
              "      <td>RHINELAND</td>\n",
              "      <td>41.025401</td>\n",
              "      <td>10.210209</td>\n",
              "      <td>POLYGON ((-97.45988 49.17636, -97.45988 49.170...</td>\n",
              "    </tr>\n",
              "    <tr>\n",
              "      <th>363</th>\n",
              "      <td>ROLAND</td>\n",
              "      <td>40.834704</td>\n",
              "      <td>10.856313</td>\n",
              "      <td>POLYGON ((-97.73078 49.44359, -97.73076 49.436...</td>\n",
              "    </tr>\n",
              "    <tr>\n",
              "      <th>336</th>\n",
              "      <td>LORNE</td>\n",
              "      <td>40.664508</td>\n",
              "      <td>5.862026</td>\n",
              "      <td>POLYGON ((-98.54471 49.53285, -98.54470 49.532...</td>\n",
              "    </tr>\n",
              "    <tr>\n",
              "      <th>374</th>\n",
              "      <td>STANLEY</td>\n",
              "      <td>40.549979</td>\n",
              "      <td>8.804886</td>\n",
              "      <td>POLYGON ((-97.88824 49.26615, -97.87717 49.266...</td>\n",
              "    </tr>\n",
              "    <tr>\n",
              "      <th>311</th>\n",
              "      <td>DUFFERIN</td>\n",
              "      <td>40.118366</td>\n",
              "      <td>9.542822</td>\n",
              "      <td>POLYGON ((-97.73260 49.62086, -97.73259 49.613...</td>\n",
              "    </tr>\n",
              "    <tr>\n",
              "      <th>380</th>\n",
              "      <td>THOMPSON</td>\n",
              "      <td>40.036638</td>\n",
              "      <td>7.544904</td>\n",
              "      <td>POLYGON ((-97.82322 55.75650, -97.82778 55.753...</td>\n",
              "    </tr>\n",
              "  </tbody>\n",
              "</table>\n",
              "</div>"
            ],
            "text/plain": [
              "                               RM  Canola_mean  Canola_std  \\\n",
              "378              SWAN VALLEY WEST    42.681213    9.009248   \n",
              "337                        LOUISE    42.033234    7.566462   \n",
              "330  HILLSBURG-ROBLIN-SHELL RIVER    41.558253   10.466401   \n",
              "382                      VICTORIA    41.360553    6.738479   \n",
              "358                     RHINELAND    41.025401   10.210209   \n",
              "363                        ROLAND    40.834704   10.856313   \n",
              "336                         LORNE    40.664508    5.862026   \n",
              "374                       STANLEY    40.549979    8.804886   \n",
              "311                      DUFFERIN    40.118366    9.542822   \n",
              "380                      THOMPSON    40.036638    7.544904   \n",
              "\n",
              "                                              geometry  \n",
              "378  POLYGON ((-101.31150 52.31802, -101.29991 52.3...  \n",
              "337  POLYGON ((-98.81757 49.33984, -98.81757 49.339...  \n",
              "330  POLYGON ((-101.38880 51.62136, -101.37722 51.6...  \n",
              "382  POLYGON ((-98.77953 49.79823, -98.77946 49.790...  \n",
              "358  POLYGON ((-97.45988 49.17636, -97.45988 49.170...  \n",
              "363  POLYGON ((-97.73078 49.44359, -97.73076 49.436...  \n",
              "336  POLYGON ((-98.54471 49.53285, -98.54470 49.532...  \n",
              "374  POLYGON ((-97.88824 49.26615, -97.87717 49.266...  \n",
              "311  POLYGON ((-97.73260 49.62086, -97.73259 49.613...  \n",
              "380  POLYGON ((-97.82322 55.75650, -97.82778 55.753...  "
            ]
          },
          "execution_count": 122,
          "metadata": {},
          "output_type": "execute_result"
        }
      ],
      "source": [
        "# Verified df_gdf and df_data_merged give same result\n",
        "#df_yield = df_gdf[df_gdf['Year'] > 2002][['RM', 'geometry', 'Canola']].groupby('RM').agg({'Canola': 'mean', 'geometry': 'first'}).reset_index().nlargest(10, 'Canola')\n",
        "#df_yield.rename(columns={'Canola': 'Canola_mean'}, inplace=True)\n",
        "df_yield = df_gdf[df_gdf['Year'] > 2002].groupby('RM').agg({'Canola': ['mean', 'std'], 'geometry': 'first'}).reset_index()\n",
        "df_yield.columns = ['RM', 'Canola_mean', 'Canola_std', 'geometry']\n",
        "df_yield = df_yield.sort_values(by='Canola_mean', ascending=False).head(10)\n",
        "df_yield"
      ]
    },
    {
      "cell_type": "code",
      "execution_count": 123,
      "metadata": {},
      "outputs": [],
      "source": [
        "# Create a GeoDataFrame with the 'geometry' column\n",
        "gdf_yield = gpd.GeoDataFrame(\n",
        "    df_yield,\n",
        "    geometry=df_yield['geometry'].apply(Polygon),  # Assuming 'geometry' column contains Polygon geometries\n",
        "    crs='EPSG:4326'  # Replace with the appropriate CRS for your data\n",
        ")"
      ]
    },
    {
      "cell_type": "code",
      "execution_count": 124,
      "metadata": {},
      "outputs": [],
      "source": [
        "# export graph to html for interactivity\n",
        "m=gdf_yield.explore(column='Canola_mean',\n",
        "                                 legend=True,\n",
        "                                 scheme='quantiles', cmap='cool',\n",
        "                                 tooltip= ['Canola_mean', 'Canola_std', 'RM'],\n",
        "                                 tiles='Stamen Toner') # Plot() is good for showing up in GitHub, Explore() is good for interactive map and saving as HTML\n",
        "\n",
        "# Adding a title with dark orange color to the folium map\n",
        "title_html = '''\n",
        "                 <h3 align=\"center\" style=\"font-size:30px; color:Blue;\"><b> Top Canola Mean Yield from 2002-2022 </b></h3>\n",
        "             '''\n",
        "m.get_root().html.add_child(folium.Element(title_html))\n",
        "m.save(file_path + 'Visuals/Canola_TopYields.html')"
      ]
    },
    {
      "cell_type": "markdown",
      "metadata": {},
      "source": [
        "## Canola RM's by Average Value"
      ]
    },
    {
      "cell_type": "code",
      "execution_count": 125,
      "metadata": {},
      "outputs": [
        {
          "data": {
            "text/html": [
              "<div>\n",
              "<style scoped>\n",
              "    .dataframe tbody tr th:only-of-type {\n",
              "        vertical-align: middle;\n",
              "    }\n",
              "\n",
              "    .dataframe tbody tr th {\n",
              "        vertical-align: top;\n",
              "    }\n",
              "\n",
              "    .dataframe thead th {\n",
              "        text-align: right;\n",
              "    }\n",
              "</style>\n",
              "<table border=\"1\" class=\"dataframe\">\n",
              "  <thead>\n",
              "    <tr style=\"text-align: right;\">\n",
              "      <th></th>\n",
              "      <th>Value_mean</th>\n",
              "      <th>Value_std</th>\n",
              "      <th>Value_median</th>\n",
              "    </tr>\n",
              "    <tr>\n",
              "      <th>RM</th>\n",
              "      <th></th>\n",
              "      <th></th>\n",
              "      <th></th>\n",
              "    </tr>\n",
              "  </thead>\n",
              "  <tbody>\n",
              "    <tr>\n",
              "      <th>1</th>\n",
              "      <td>401.699430</td>\n",
              "      <td>145.268282</td>\n",
              "      <td>352.811994</td>\n",
              "    </tr>\n",
              "    <tr>\n",
              "      <th>10</th>\n",
              "      <td>333.428196</td>\n",
              "      <td>118.326225</td>\n",
              "      <td>304.851102</td>\n",
              "    </tr>\n",
              "    <tr>\n",
              "      <th>100</th>\n",
              "      <td>445.459645</td>\n",
              "      <td>161.421993</td>\n",
              "      <td>435.817763</td>\n",
              "    </tr>\n",
              "    <tr>\n",
              "      <th>101</th>\n",
              "      <td>368.376844</td>\n",
              "      <td>114.468603</td>\n",
              "      <td>325.443473</td>\n",
              "    </tr>\n",
              "    <tr>\n",
              "      <th>102</th>\n",
              "      <td>441.849929</td>\n",
              "      <td>94.377674</td>\n",
              "      <td>423.325898</td>\n",
              "    </tr>\n",
              "    <tr>\n",
              "      <th>...</th>\n",
              "      <td>...</td>\n",
              "      <td>...</td>\n",
              "      <td>...</td>\n",
              "    </tr>\n",
              "    <tr>\n",
              "      <th>WHITEHEAD</th>\n",
              "      <td>441.705000</td>\n",
              "      <td>115.008026</td>\n",
              "      <td>433.112356</td>\n",
              "    </tr>\n",
              "    <tr>\n",
              "      <th>WHITEMOUTH</th>\n",
              "      <td>455.102235</td>\n",
              "      <td>179.707626</td>\n",
              "      <td>442.966686</td>\n",
              "    </tr>\n",
              "    <tr>\n",
              "      <th>WINNIPEG</th>\n",
              "      <td>413.186982</td>\n",
              "      <td>162.218974</td>\n",
              "      <td>398.354681</td>\n",
              "    </tr>\n",
              "    <tr>\n",
              "      <th>WOODLANDS</th>\n",
              "      <td>400.361921</td>\n",
              "      <td>153.324310</td>\n",
              "      <td>376.034804</td>\n",
              "    </tr>\n",
              "    <tr>\n",
              "      <th>YELLOWHEAD</th>\n",
              "      <td>520.007674</td>\n",
              "      <td>142.686148</td>\n",
              "      <td>472.676902</td>\n",
              "    </tr>\n",
              "  </tbody>\n",
              "</table>\n",
              "<p>393 rows × 3 columns</p>\n",
              "</div>"
            ],
            "text/plain": [
              "            Value_mean   Value_std  Value_median\n",
              "RM                                              \n",
              "1           401.699430  145.268282    352.811994\n",
              "10          333.428196  118.326225    304.851102\n",
              "100         445.459645  161.421993    435.817763\n",
              "101         368.376844  114.468603    325.443473\n",
              "102         441.849929   94.377674    423.325898\n",
              "...                ...         ...           ...\n",
              "WHITEHEAD   441.705000  115.008026    433.112356\n",
              "WHITEMOUTH  455.102235  179.707626    442.966686\n",
              "WINNIPEG    413.186982  162.218974    398.354681\n",
              "WOODLANDS   400.361921  153.324310    376.034804\n",
              "YELLOWHEAD  520.007674  142.686148    472.676902\n",
              "\n",
              "[393 rows x 3 columns]"
            ]
          },
          "execution_count": 125,
          "metadata": {},
          "output_type": "execute_result"
        }
      ],
      "source": [
        "numerical_features=['Value']\n",
        "\n",
        "agg_funcs = {\n",
        "    column: ['mean', 'std', 'median'] for column in numerical_features\n",
        "}\n",
        "\n",
        "df_value_agg = df_price_merged.set_index('RM')[numerical_features].groupby('RM').agg(agg_funcs)\n",
        "\n",
        "# Optionally, to flatten the multi-level columns:\n",
        "df_value_agg.columns = ['_'.join(col).strip() for col in df_value_agg.columns.values]\n",
        "\n",
        "df_value_agg"
      ]
    },
    {
      "cell_type": "code",
      "execution_count": 126,
      "metadata": {},
      "outputs": [
        {
          "data": {
            "text/html": [
              "<div>\n",
              "<style scoped>\n",
              "    .dataframe tbody tr th:only-of-type {\n",
              "        vertical-align: middle;\n",
              "    }\n",
              "\n",
              "    .dataframe tbody tr th {\n",
              "        vertical-align: top;\n",
              "    }\n",
              "\n",
              "    .dataframe thead th {\n",
              "        text-align: right;\n",
              "    }\n",
              "</style>\n",
              "<table border=\"1\" class=\"dataframe\">\n",
              "  <thead>\n",
              "    <tr style=\"text-align: right;\">\n",
              "      <th></th>\n",
              "      <th>Value_mean</th>\n",
              "      <th>Value_std</th>\n",
              "      <th>Value_median</th>\n",
              "    </tr>\n",
              "    <tr>\n",
              "      <th>RM</th>\n",
              "      <th></th>\n",
              "      <th></th>\n",
              "      <th></th>\n",
              "    </tr>\n",
              "  </thead>\n",
              "  <tbody>\n",
              "    <tr>\n",
              "      <th>COLDWELL</th>\n",
              "      <td>NaN</td>\n",
              "      <td>NaN</td>\n",
              "      <td>NaN</td>\n",
              "    </tr>\n",
              "    <tr>\n",
              "      <th>EAST ST. PAUL</th>\n",
              "      <td>NaN</td>\n",
              "      <td>NaN</td>\n",
              "      <td>NaN</td>\n",
              "    </tr>\n",
              "  </tbody>\n",
              "</table>\n",
              "</div>"
            ],
            "text/plain": [
              "               Value_mean  Value_std  Value_median\n",
              "RM                                                \n",
              "COLDWELL              NaN        NaN           NaN\n",
              "EAST ST. PAUL         NaN        NaN           NaN"
            ]
          },
          "execution_count": 126,
          "metadata": {},
          "output_type": "execute_result"
        }
      ],
      "source": [
        "df_value_agg[df_value_agg.isna().any(axis=1)]"
      ]
    },
    {
      "cell_type": "code",
      "execution_count": 127,
      "metadata": {},
      "outputs": [],
      "source": [
        "df_value_agg = df_value_agg.dropna()"
      ]
    },
    {
      "cell_type": "code",
      "execution_count": 128,
      "metadata": {},
      "outputs": [],
      "source": [
        "if show_maps:\n",
        "    # display canola value\n",
        "    pd.merge(\n",
        "        gdf,\n",
        "        df_value_agg,\n",
        "        on='RM').explore(\n",
        "            column='Value_mean',\n",
        "            cmap='RdYlGn')"
      ]
    },
    {
      "cell_type": "code",
      "execution_count": 129,
      "metadata": {},
      "outputs": [],
      "source": [
        "# Merge the GeoDataFrame gdf with df_value_agg based on the 'RM' column\n",
        "#merged_gdf = gdf.merge(df_value_agg, left_on='RM', right_index=True)\n",
        "\n",
        "# Create a Folium map from the merged GeoDataFrame\n",
        "m = gdf.merge(df_value_agg, left_on='RM', right_index=True).explore(column='Value_mean', legend=True, cmap='Greens')\n",
        "\n",
        "# Adding a title with dark orange color to the Folium map\n",
        "title_html = '''\n",
        "                 <h3 align=\"center\" style=\"font-size:30px; color:Blue;\"><b> Top Canola Mean Values from 2010-2022 </b></h3>\n",
        "             '''\n",
        "m.get_root().html.add_child(folium.Element(title_html))\n",
        "\n",
        "# Save the Folium map as an HTML file\n",
        "m.save(file_path + 'Visuals/Canola_AllValues.html')"
      ]
    },
    {
      "cell_type": "markdown",
      "metadata": {},
      "source": [
        "## Top 10 Canola Value RM's "
      ]
    },
    {
      "cell_type": "code",
      "execution_count": 130,
      "metadata": {
        "id": "iwEHhRwe96cZ",
        "outputId": "1304127a-b1df-434f-a782-787154f4ad91"
      },
      "outputs": [
        {
          "data": {
            "text/html": [
              "<div>\n",
              "<style scoped>\n",
              "    .dataframe tbody tr th:only-of-type {\n",
              "        vertical-align: middle;\n",
              "    }\n",
              "\n",
              "    .dataframe tbody tr th {\n",
              "        vertical-align: top;\n",
              "    }\n",
              "\n",
              "    .dataframe thead th {\n",
              "        text-align: right;\n",
              "    }\n",
              "</style>\n",
              "<table border=\"1\" class=\"dataframe\">\n",
              "  <thead>\n",
              "    <tr style=\"text-align: right;\">\n",
              "      <th></th>\n",
              "      <th>Value_mean</th>\n",
              "      <th>Value_std</th>\n",
              "    </tr>\n",
              "    <tr>\n",
              "      <th>RM</th>\n",
              "      <th></th>\n",
              "      <th></th>\n",
              "    </tr>\n",
              "  </thead>\n",
              "  <tbody>\n",
              "    <tr>\n",
              "      <th>REYNOLDS</th>\n",
              "      <td>629.82</td>\n",
              "      <td>313.03</td>\n",
              "    </tr>\n",
              "    <tr>\n",
              "      <th>271</th>\n",
              "      <td>566.43</td>\n",
              "      <td>191.95</td>\n",
              "    </tr>\n",
              "    <tr>\n",
              "      <th>RHINELAND</th>\n",
              "      <td>564.83</td>\n",
              "      <td>148.40</td>\n",
              "    </tr>\n",
              "    <tr>\n",
              "      <th>HILLSBURG-ROBLIN-SHELL RIVER</th>\n",
              "      <td>561.92</td>\n",
              "      <td>171.38</td>\n",
              "    </tr>\n",
              "    <tr>\n",
              "      <th>LOUISE</th>\n",
              "      <td>554.76</td>\n",
              "      <td>111.71</td>\n",
              "    </tr>\n",
              "    <tr>\n",
              "      <th>SWAN VALLEY WEST</th>\n",
              "      <td>553.33</td>\n",
              "      <td>170.97</td>\n",
              "    </tr>\n",
              "    <tr>\n",
              "      <th>303</th>\n",
              "      <td>550.63</td>\n",
              "      <td>177.42</td>\n",
              "    </tr>\n",
              "    <tr>\n",
              "      <th>MONTCALM</th>\n",
              "      <td>544.91</td>\n",
              "      <td>141.36</td>\n",
              "    </tr>\n",
              "    <tr>\n",
              "      <th>ROLAND</th>\n",
              "      <td>542.05</td>\n",
              "      <td>155.55</td>\n",
              "    </tr>\n",
              "    <tr>\n",
              "      <th>493</th>\n",
              "      <td>540.99</td>\n",
              "      <td>179.66</td>\n",
              "    </tr>\n",
              "  </tbody>\n",
              "</table>\n",
              "</div>"
            ],
            "text/plain": [
              "                              Value_mean  Value_std\n",
              "RM                                                 \n",
              "REYNOLDS                          629.82     313.03\n",
              "271                               566.43     191.95\n",
              "RHINELAND                         564.83     148.40\n",
              "HILLSBURG-ROBLIN-SHELL RIVER      561.92     171.38\n",
              "LOUISE                            554.76     111.71\n",
              "SWAN VALLEY WEST                  553.33     170.97\n",
              "303                               550.63     177.42\n",
              "MONTCALM                          544.91     141.36\n",
              "ROLAND                            542.05     155.55\n",
              "493                               540.99     179.66"
            ]
          },
          "execution_count": 130,
          "metadata": {},
          "output_type": "execute_result"
        }
      ],
      "source": [
        "top_10_value_rms = df_value_agg.drop(columns=['Value_median']).sort_values(by='Value_mean', ascending=False).head(10)\n",
        "\n",
        "# Round the 'Value_mean' column to 2 decimals\n",
        "top_10_value_rms['Value_mean'] = top_10_value_rms['Value_mean'].round(2)\n",
        "top_10_value_rms['Value_std'] = top_10_value_rms['Value_std'].round(2)\n",
        "\n",
        "# Print the top 10 RM values by Value_mean\n",
        "top_10_value_rms\n",
        "\n",
        "# Expect:\n",
        "# RM                             Value_mean\tValue_std\n",
        "# REYNOLDS\t                        629.82\t313.03\n",
        "# 271\t                            566.43\t191.95\n",
        "# RHINELAND\t                        564.83\t148.40\n",
        "# HILLSBURG-ROBLIN-SHELL RIVER\t    561.92\t171.38\n",
        "# LOUISE\t                        554.76\t111.71\n",
        "# SWAN VALLEY WEST\t                553.33\t170.97\n",
        "# 303\t                            550.63\t177.42\n",
        "# MONTCALM\t                        544.91\t141.36\n",
        "# ROLAND\t                        542.05\t155.55\n",
        "# 493\t                            540.99\t179.66\n"
      ]
    },
    {
      "cell_type": "code",
      "execution_count": 131,
      "metadata": {},
      "outputs": [],
      "source": [
        "if show_maps:\n",
        "    # display top 10 canola value\n",
        "    pd.merge(\n",
        "        gdf,\n",
        "        top_10_value_rms,\n",
        "        on='RM').explore(column='Value_mean', legend='True', scheme='quantiles', cmap='cool')"
      ]
    },
    {
      "cell_type": "code",
      "execution_count": 132,
      "metadata": {},
      "outputs": [],
      "source": [
        "# Merge gdf with top_10_value_rms to get the geometry\n",
        "gdf_yield = gdf.merge(top_10_value_rms, on='RM')"
      ]
    },
    {
      "cell_type": "code",
      "execution_count": 133,
      "metadata": {},
      "outputs": [
        {
          "data": {
            "text/html": [
              "<div>\n",
              "<style scoped>\n",
              "    .dataframe tbody tr th:only-of-type {\n",
              "        vertical-align: middle;\n",
              "    }\n",
              "\n",
              "    .dataframe tbody tr th {\n",
              "        vertical-align: top;\n",
              "    }\n",
              "\n",
              "    .dataframe thead th {\n",
              "        text-align: right;\n",
              "    }\n",
              "</style>\n",
              "<table border=\"1\" class=\"dataframe\">\n",
              "  <thead>\n",
              "    <tr style=\"text-align: right;\">\n",
              "      <th></th>\n",
              "      <th>RM</th>\n",
              "      <th>geometry</th>\n",
              "      <th>Value_mean</th>\n",
              "      <th>Value_std</th>\n",
              "    </tr>\n",
              "  </thead>\n",
              "  <tbody>\n",
              "    <tr>\n",
              "      <th>0</th>\n",
              "      <td>303</td>\n",
              "      <td>POLYGON ((-102.00665 51.88183, -102.00664 51.8...</td>\n",
              "      <td>550.63</td>\n",
              "      <td>177.42</td>\n",
              "    </tr>\n",
              "    <tr>\n",
              "      <th>1</th>\n",
              "      <td>493</td>\n",
              "      <td>POLYGON ((-106.02867 53.56164, -106.02867 53.5...</td>\n",
              "      <td>540.99</td>\n",
              "      <td>179.66</td>\n",
              "    </tr>\n",
              "    <tr>\n",
              "      <th>2</th>\n",
              "      <td>271</td>\n",
              "      <td>MULTIPOLYGON (((-101.57052 51.65479, -101.5705...</td>\n",
              "      <td>566.43</td>\n",
              "      <td>191.95</td>\n",
              "    </tr>\n",
              "    <tr>\n",
              "      <th>3</th>\n",
              "      <td>HILLSBURG-ROBLIN-SHELL RIVER</td>\n",
              "      <td>POLYGON ((-101.38880 51.62136, -101.37722 51.6...</td>\n",
              "      <td>561.92</td>\n",
              "      <td>171.38</td>\n",
              "    </tr>\n",
              "    <tr>\n",
              "      <th>4</th>\n",
              "      <td>LOUISE</td>\n",
              "      <td>POLYGON ((-98.81757 49.33984, -98.81757 49.339...</td>\n",
              "      <td>554.76</td>\n",
              "      <td>111.71</td>\n",
              "    </tr>\n",
              "    <tr>\n",
              "      <th>5</th>\n",
              "      <td>REYNOLDS</td>\n",
              "      <td>POLYGON ((-95.68570 49.92341, -95.68584 49.916...</td>\n",
              "      <td>629.82</td>\n",
              "      <td>313.03</td>\n",
              "    </tr>\n",
              "    <tr>\n",
              "      <th>6</th>\n",
              "      <td>SWAN VALLEY WEST</td>\n",
              "      <td>POLYGON ((-101.31150 52.31802, -101.29991 52.3...</td>\n",
              "      <td>553.33</td>\n",
              "      <td>170.97</td>\n",
              "    </tr>\n",
              "    <tr>\n",
              "      <th>7</th>\n",
              "      <td>ROLAND</td>\n",
              "      <td>POLYGON ((-97.73078 49.44359, -97.73076 49.436...</td>\n",
              "      <td>542.05</td>\n",
              "      <td>155.55</td>\n",
              "    </tr>\n",
              "    <tr>\n",
              "      <th>8</th>\n",
              "      <td>MONTCALM</td>\n",
              "      <td>POLYGON ((-97.35108 49.35453, -97.34909 49.354...</td>\n",
              "      <td>544.91</td>\n",
              "      <td>141.36</td>\n",
              "    </tr>\n",
              "    <tr>\n",
              "      <th>9</th>\n",
              "      <td>RHINELAND</td>\n",
              "      <td>POLYGON ((-97.45988 49.17636, -97.45988 49.170...</td>\n",
              "      <td>564.83</td>\n",
              "      <td>148.40</td>\n",
              "    </tr>\n",
              "  </tbody>\n",
              "</table>\n",
              "</div>"
            ],
            "text/plain": [
              "                             RM  \\\n",
              "0                           303   \n",
              "1                           493   \n",
              "2                           271   \n",
              "3  HILLSBURG-ROBLIN-SHELL RIVER   \n",
              "4                        LOUISE   \n",
              "5                      REYNOLDS   \n",
              "6              SWAN VALLEY WEST   \n",
              "7                        ROLAND   \n",
              "8                      MONTCALM   \n",
              "9                     RHINELAND   \n",
              "\n",
              "                                            geometry  Value_mean  Value_std  \n",
              "0  POLYGON ((-102.00665 51.88183, -102.00664 51.8...      550.63     177.42  \n",
              "1  POLYGON ((-106.02867 53.56164, -106.02867 53.5...      540.99     179.66  \n",
              "2  MULTIPOLYGON (((-101.57052 51.65479, -101.5705...      566.43     191.95  \n",
              "3  POLYGON ((-101.38880 51.62136, -101.37722 51.6...      561.92     171.38  \n",
              "4  POLYGON ((-98.81757 49.33984, -98.81757 49.339...      554.76     111.71  \n",
              "5  POLYGON ((-95.68570 49.92341, -95.68584 49.916...      629.82     313.03  \n",
              "6  POLYGON ((-101.31150 52.31802, -101.29991 52.3...      553.33     170.97  \n",
              "7  POLYGON ((-97.73078 49.44359, -97.73076 49.436...      542.05     155.55  \n",
              "8  POLYGON ((-97.35108 49.35453, -97.34909 49.354...      544.91     141.36  \n",
              "9  POLYGON ((-97.45988 49.17636, -97.45988 49.170...      564.83     148.40  "
            ]
          },
          "execution_count": 133,
          "metadata": {},
          "output_type": "execute_result"
        }
      ],
      "source": [
        "gdf_yield"
      ]
    },
    {
      "cell_type": "code",
      "execution_count": 134,
      "metadata": {},
      "outputs": [],
      "source": [
        "# export graph to html for interactivity\n",
        "m=gdf_yield.explore(column='Value_mean',\n",
        "                                 legend=True,\n",
        "                                 scheme='quantiles', cmap='cool',\n",
        "                                 tooltip= ['Value_mean', 'Value_std', 'RM'],\n",
        "                                 tiles='Stamen Toner') # Plot() is good for showing up in GitHub, Explore() is good for interactive map and saving as HTML\n",
        "\n",
        "# Adding a title with dark orange color to the folium map\n",
        "title_html = '''\n",
        "                 <h3 align=\"center\" style=\"font-size:30px; color:Blue;\"><b> Top Canola Mean Value from 2010-2022 </b></h3>\n",
        "             '''\n",
        "m.get_root().html.add_child(folium.Element(title_html))\n",
        "m.save(file_path + 'Visuals/Canola_TopValues.html')"
      ]
    },
    {
      "cell_type": "markdown",
      "metadata": {},
      "source": [
        "# Clustering Methods"
      ]
    }
  ],
  "metadata": {
    "colab": {
      "provenance": [],
      "toc_visible": true
    },
    "kernelspec": {
      "display_name": "Python 3 (ipykernel)",
      "language": "python",
      "name": "python3"
    },
    "language_info": {
      "codemirror_mode": {
        "name": "ipython",
        "version": 3
      },
      "file_extension": ".py",
      "mimetype": "text/x-python",
      "name": "python",
      "nbconvert_exporter": "python",
      "pygments_lexer": "ipython3",
      "version": "3.10.13"
    }
  },
  "nbformat": 4,
  "nbformat_minor": 0
}
