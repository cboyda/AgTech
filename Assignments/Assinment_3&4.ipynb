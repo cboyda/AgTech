{
 "cells": [
  {
   "attachments": {},
   "cell_type": "markdown",
   "metadata": {},
   "source": [
    "# Assignment 3"
   ]
  },
  {
   "attachments": {},
   "cell_type": "markdown",
   "metadata": {},
   "source": [
    "**Please follow the instructions. Do not add new cell! Write your code in designated areas.**"
   ]
  },
  {
   "cell_type": "code",
   "execution_count": 1,
   "metadata": {},
   "outputs": [
    {
     "name": "stdout",
     "output_type": "stream",
     "text": [
      "Assignment 1 & 2: Solutions by Clinton Boyda\n",
      "Local Time: 2023-09-22 14:57:50\n",
      "Computer ID: Fusion-Lacie-iMac2012.local\n"
     ]
    }
   ],
   "source": [
    "import datetime\n",
    "import socket\n",
    "\n",
    "# Get local time\n",
    "local_time = datetime.datetime.now().strftime(\"%Y-%m-%d %H:%M:%S\")\n",
    "\n",
    "# Get computer ID or hostname\n",
    "computer_id = socket.gethostname()\n",
    "\n",
    "# Print output with local time and computer ID\n",
    "print('Assignment 1 & 2: Solutions by Clinton Boyda') # Please change your name here\n",
    "print('Local Time:', local_time)\n",
    "print('Computer ID:', computer_id)"
   ]
  },
  {
   "attachments": {},
   "cell_type": "markdown",
   "metadata": {},
   "source": [
    "## NumPy"
   ]
  },
  {
   "attachments": {},
   "cell_type": "markdown",
   "metadata": {},
   "source": [
    "1. Create a 2D numpy array of size 4x5 with random integers between 1 and 10. Find the maximum value of the entire array. \n"
   ]
  },
  {
   "cell_type": "code",
   "execution_count": 22,
   "metadata": {},
   "outputs": [
    {
     "name": "stdout",
     "output_type": "stream",
     "text": [
      "[[ 7  5  1  2 10]\n",
      " [ 8  6  9  6  4]\n",
      " [ 2  8  4  8  4]\n",
      " [ 8  3  3  5  5]]\n",
      "Mean: 5.4\n",
      "Standard Deviation: 2.4979991993593593\n",
      "Minimum: 1\n",
      "Maximum: 10\n"
     ]
    }
   ],
   "source": [
    "## Your code here down\n",
    "import numpy as np\n",
    "\n",
    "# Create a 2D array with random integers between 1 and 10\n",
    "rnd_arr = np.random.randint(1, 11, size=(4, 5))\n",
    "print(rnd_arr)\n",
    "\n",
    "# print(mean)\n",
    "#print(std) and so on\n",
    "## Your code here up\n",
    "# Calculate the descriptive statistics of the array\n",
    "# default is axis=0, equivalent to each column\n",
    "mean_value = np.mean(rnd_arr)\n",
    "std_value = np.std(rnd_arr)\n",
    "max_value = np.max(rnd_arr)\n",
    "min_value = np.min(rnd_arr)\n",
    "\n",
    "# Print array descriptive statistics\n",
    "print(\"Mean:\", mean_value)\n",
    "print(\"Standard Deviation:\", std_value)\n",
    "print(\"Minimum:\", min_value)\n",
    "print(\"Maximum:\", max_value)\n"
   ]
  },
  {
   "attachments": {},
   "cell_type": "markdown",
   "metadata": {},
   "source": [
    "2. Create a 1D numpy array of size 20 with random floats between 0 and 1. Reshape the array into a 4x5 matrix. Compute the mean of each row."
   ]
  },
  {
   "cell_type": "code",
   "execution_count": 32,
   "metadata": {},
   "outputs": [
    {
     "name": "stdout",
     "output_type": "stream",
     "text": [
      "1D numpy array of 20 random floats:\n",
      " [0.9524744  0.09264694 0.39493476 0.84826871 0.5763271  0.34671614\n",
      " 0.0896728  0.14180759 0.48638124 0.83475422 0.53976858 0.68104252\n",
      " 0.29202268 0.91592222 0.40461685 0.15661537 0.23082396 0.91154099\n",
      " 0.64191408 0.23378543]\n",
      "Resize 1D into 4x5 matrix:\n",
      " [[0.9524744  0.09264694 0.39493476 0.84826871 0.5763271 ]\n",
      " [0.34671614 0.0896728  0.14180759 0.48638124 0.83475422]\n",
      " [0.53976858 0.68104252 0.29202268 0.91592222 0.40461685]\n",
      " [0.15661537 0.23082396 0.91154099 0.64191408 0.23378543]]\n",
      "Row Means:\n",
      "0.5729303832172997\n",
      "0.3798663973386346\n",
      "0.5666745695970332\n",
      "0.4349359658059255\n"
     ]
    }
   ],
   "source": [
    "## Your code here down\n",
    "# Create a 1D array with random integers between 0 and 1\n",
    "rnd_floats = np.random.rand(20)\n",
    "print(\"1D numpy array of 20 random floats:\\n\",rnd_floats)\n",
    "\n",
    "# Reshape the array into a 4x5 matrix\n",
    "matrix_4x5 = rnd_floats.reshape(4, 5)\n",
    "print (\"Resize 1D into 4x5 matrix:\\n\",matrix_4x5)\n",
    "\n",
    "## Your code here up\n",
    "row_means = np.mean(matrix_4x5, axis=1)\n",
    "\n",
    "# Print the row means on separate lines\n",
    "print(\"Row Means:\")\n",
    "for mean in row_means:\n",
    "    print(mean)"
   ]
  },
  {
   "attachments": {},
   "cell_type": "markdown",
   "metadata": {},
   "source": [
    "3. Create a 2D numpy array of size 5x5 with random integers between 1 and 100. Compute standard deviation of each column."
   ]
  },
  {
   "cell_type": "code",
   "execution_count": 38,
   "metadata": {},
   "outputs": [
    {
     "name": "stdout",
     "output_type": "stream",
     "text": [
      "[[ 70  65  82  57  94]\n",
      " [ 55  91  70  69 100]\n",
      " [ 19   6  63  15  98]\n",
      " [ 93  54  19   3  23]\n",
      " [ 37  58  84  17  94]]\n",
      "Descriptive Statistics for each Column:\n",
      "Mean: [54.8 54.8 63.6 32.2 81.8]\n",
      "Standard Deviation: [25.64683216 27.59275267 23.60169485 25.87972179 29.49169375]\n",
      "Minimum: [19  6 19  3 23]\n",
      "Maximum: [ 93  91  84  69 100]\n"
     ]
    }
   ],
   "source": [
    "## Your code here down\n",
    "# Create a 2D array with random integers between 1 and 100\n",
    "rnd_arr = np.random.randint(1, 101, size=(5, 5))\n",
    "print(rnd_arr)\n",
    "\n",
    "\n",
    "## Your code here up\n",
    "# Calculate the descriptive statistics of the array\n",
    "mean_value = np.mean(rnd_arr,axis=0)\n",
    "std_value = np.std(rnd_arr,axis=0)\n",
    "max_value = np.max(rnd_arr,axis=0)\n",
    "min_value = np.min(rnd_arr,axis=0)\n",
    "\n",
    "# Print array descriptive statistics of each column\n",
    "print(\"Descriptive Statistics for each Column:\")\n",
    "print(\"Mean:\", mean_value)\n",
    "print(\"Standard Deviation:\", std_value)\n",
    "print(\"Minimum:\", min_value)\n",
    "print(\"Maximum:\", max_value)"
   ]
  },
  {
   "attachments": {},
   "cell_type": "markdown",
   "metadata": {},
   "source": [
    "4. Create a 1D numpy array of size 15 with random floats between -10 and 10. Replace all negative values with their absolute values."
   ]
  },
  {
   "cell_type": "code",
   "execution_count": 41,
   "metadata": {},
   "outputs": [
    {
     "name": "stdout",
     "output_type": "stream",
     "text": [
      "1D numpy array of 15 random integers between -10 and 10:\n",
      " [ 1.5003491   0.73177666  3.80253819 -9.34275355  5.86769074 -5.74936651\n",
      "  8.37168376  0.63847826 -0.18163419 -6.33598541 -8.68743027 -8.24831746\n",
      " -2.55057166  3.32995915 -6.8142109 ]\n",
      "Negative values replaced with absolutes:\n",
      " [1.5003491  0.73177666 3.80253819 9.34275355 5.86769074 5.74936651\n",
      " 8.37168376 0.63847826 0.18163419 6.33598541 8.68743027 8.24831746\n",
      " 2.55057166 3.32995915 6.8142109 ]\n"
     ]
    }
   ],
   "source": [
    "## Your code here down\n",
    "# Create a 1D array with random floats between -10 and 10\n",
    "rnd_floats = np.random.uniform(-10,10, size=15)\n",
    "print(\"1D numpy array of 15 random floats between -10 and 10:\\n\",rnd_floats)\n",
    "\n",
    "## Your code here up\n",
    "abs_values = np.abs(rnd_floats)\n",
    "print(\"Negative values replaced with absolutes:\\n\", abs_values)"
   ]
  },
  {
   "attachments": {},
   "cell_type": "markdown",
   "metadata": {},
   "source": [
    "5. Create a 2D numpy array of size 3x4 with random integers between 1 and 100. Calculate the sum of all elements in the array."
   ]
  },
  {
   "cell_type": "code",
   "execution_count": 43,
   "metadata": {},
   "outputs": [
    {
     "name": "stdout",
     "output_type": "stream",
     "text": [
      "[[ 99  13  10  58]\n",
      " [ 29  78   8  89]\n",
      " [ 58 100  80   1]]\n",
      "Sum of all array elements: 623\n"
     ]
    }
   ],
   "source": [
    "## Your code here down\n",
    "# Create a 2D array with random integers between 1 and 100\n",
    "rnd_arr = np.random.randint(1, 101, size=(3, 4))\n",
    "print(rnd_arr)\n",
    "\n",
    "## Your code here up\n",
    "arr_sum = np.sum(rnd_arr)\n",
    "print(\"Sum of all array elements:\",arr_sum)"
   ]
  },
  {
   "attachments": {},
   "cell_type": "markdown",
   "metadata": {},
   "source": [
    "7. Create a 2D numpy array of size 4x6 with random floats between 0 and 1. Normalize each column by subtracting the column mean and dividing by the column standard deviation."
   ]
  },
  {
   "cell_type": "code",
   "execution_count": 51,
   "metadata": {},
   "outputs": [
    {
     "name": "stdout",
     "output_type": "stream",
     "text": [
      "Original 2D numpy array with random floats between 0 and 1:\n",
      " [[0.26041025 0.44807019 0.64209202 0.49929817 0.47520564 0.20081152]\n",
      " [0.15203843 0.48977184 0.93122436 0.70754291 0.97577836 0.40202707]\n",
      " [0.0170611  0.38342592 0.22395082 0.74214202 0.94235437 0.77131972]\n",
      " [0.90167031 0.56673234 0.48662537 0.8417249  0.34304865 0.51654626]]\n",
      "\n",
      "Normalized Array:\n",
      "[[-0.21316867 -0.35965415  0.27768428 -1.59112916 -0.74828067 -1.31868191]\n",
      " [-0.53231696  0.2671007   1.40660401  0.07913108  1.04484915 -0.342684  ]\n",
      " [-0.92981685 -1.33122519 -1.35495166  0.35663883  0.9251192   1.44857347]\n",
      " [ 1.67530248  1.42377864 -0.32933662  1.15535925 -1.22168768  0.21279243]]\n"
     ]
    }
   ],
   "source": [
    "## Your code here down\n",
    "# Create a 2D array with random integers between 1 and 100\n",
    "rnd_floats = np.random.uniform(0, 1, size=(4, 6))\n",
    "# or rnd_floats = np.random.rand(4, 6)\n",
    "print(\"Original 2D numpy array with random floats between 0 and 1:\\n\",rnd_floats)\n",
    "\n",
    "## Your code here up\n",
    "# Calculate column mean and standard deviation\n",
    "column_means = np.mean(rnd_floats, axis=0)\n",
    "column_std_devs = np.std(rnd_floats, axis=0)\n",
    "\n",
    "# Normalize each column\n",
    "normalized_array = (rnd_floats - column_means) / column_std_devs\n",
    "\n",
    "print(\"\\nNormalized Array:\")\n",
    "print(normalized_array)"
   ]
  },
  {
   "attachments": {},
   "cell_type": "markdown",
   "metadata": {},
   "source": [
    "8. Create a 2D numpy array of size 10x10 with random integers between 1 and 100. Replace all values greater than 50 with 1 and all other values with 0."
   ]
  },
  {
   "cell_type": "code",
   "execution_count": 58,
   "metadata": {},
   "outputs": [
    {
     "name": "stdout",
     "output_type": "stream",
     "text": [
      "[[ 39  34  71  20  96  68  17  65  99  54]\n",
      " [ 80  75  58  92  98  67   9  45  91  83]\n",
      " [ 13  83  62   3  60  66  39  99  34  17]\n",
      " [ 12  37   2  40  36  70  36  42  77  96]\n",
      " [ 67  72  79  70  64  42  38  10  89  40]\n",
      " [ 72  11  27  73  72  22  35  37  49  80]\n",
      " [ 51  60  36  54  75   2  27  46   9 100]\n",
      " [ 50  39  21  14  14  95  50  69 100  86]\n",
      " [ 69  86  15  30   4  33  75   2  23  89]\n",
      " [ 14  20  35  96  96  68  84  53  27  37]]\n",
      "Replaced Array:\n",
      "[[0 0 1 0 1 1 0 1 1 1]\n",
      " [1 1 1 1 1 1 0 0 1 1]\n",
      " [0 1 1 0 1 1 0 1 0 0]\n",
      " [0 0 0 0 0 1 0 0 1 1]\n",
      " [1 1 1 1 1 0 0 0 1 0]\n",
      " [1 0 0 1 1 0 0 0 0 1]\n",
      " [1 1 0 1 1 0 0 0 0 1]\n",
      " [0 0 0 0 0 1 0 1 1 1]\n",
      " [1 1 0 0 0 0 1 0 0 1]\n",
      " [0 0 0 1 1 1 1 1 0 0]]\n"
     ]
    }
   ],
   "source": [
    "## Your code here down\n",
    "# Create a 2D array with random integers between 1 and 100\n",
    "arr_rnd_ints = np.random.randint(1, 101, size=(10, 10))\n",
    "print(arr_rnd_ints)\n",
    "\n",
    "## Your code here up\n",
    "# Replace values greater than 50 with 1 and others with 0\n",
    "result_array = np.where(arr_rnd_ints > 50, 1, 0)\n",
    "\n",
    "print(\"Replaced Array:\")\n",
    "print(result_array)\n"
   ]
  },
  {
   "attachments": {},
   "cell_type": "markdown",
   "metadata": {},
   "source": [
    "9. Create a 1D numpy array of size 50 with random floats between 0 and 1. Find the number of elements greater than 0.5."
   ]
  },
  {
   "cell_type": "code",
   "execution_count": 60,
   "metadata": {},
   "outputs": [
    {
     "name": "stdout",
     "output_type": "stream",
     "text": [
      "1D numpy array of 50 random floats between 0 and 1:\n",
      " [0.59025508 0.09507839 0.74697823 0.95076224 0.92698808 0.54400171\n",
      " 0.78466343 0.78541403 0.22419283 0.89168545 0.22359349 0.44144409\n",
      " 0.51421701 0.56046699 0.07465241 0.22521972 0.28938379 0.30581287\n",
      " 0.13588405 0.12788334 0.51413112 0.84208216 0.09999239 0.71510872\n",
      " 0.2219658  0.94883211 0.02217793 0.5233106  0.45191444 0.76288655\n",
      " 0.32966762 0.89362701 0.87237944 0.89008074 0.95092856 0.52923201\n",
      " 0.28208888 0.34873713 0.75223411 0.59442781 0.84198208 0.42520334\n",
      " 0.28835246 0.65388564 0.7805543  0.39049889 0.95746963 0.20111056\n",
      " 0.67033053 0.36385678]\n",
      "Number of elements greater than 0.5: 28\n"
     ]
    }
   ],
   "source": [
    "## Your code here down\n",
    "# Create a 1D array with random floats between 0 and 1\n",
    "rnd_floats = np.random.uniform(0,1, size=50)\n",
    "print(\"1D numpy array of 50 random floats between 0 and 1:\\n\",rnd_floats)\n",
    "\n",
    "## Your code here up\n",
    "# Create a boolean mask for elements greater than 0.5\n",
    "mask = rnd_floats > 0.5\n",
    "\n",
    "# Count the number of True values in the mask\n",
    "count_greater_than_0_5 = np.sum(mask)\n",
    "\n",
    "# Print the count\n",
    "print(\"Number of elements greater than 0.5:\", count_greater_than_0_5)"
   ]
  },
  {
   "attachments": {},
   "cell_type": "markdown",
   "metadata": {},
   "source": [
    "10. Create a 2D numpy array of size 5x5 with random floats between -1 and 1. Find the absolute difference between the maximum and minimum values in each row."
   ]
  },
  {
   "cell_type": "code",
   "execution_count": 65,
   "metadata": {},
   "outputs": [
    {
     "name": "stdout",
     "output_type": "stream",
     "text": [
      "[[-0.11219195 -0.4647904   0.19342498 -0.13503051  0.00792105]\n",
      " [-0.35650433  0.14698274  0.31301171  0.39736338  0.14870444]\n",
      " [ 0.5527414   0.74331281 -0.21729422 -0.49095943 -0.74656814]\n",
      " [-0.20586494 -0.19257406  0.2429304   0.52087842 -0.5433549 ]\n",
      " [ 0.95898046 -0.18193265  0.50309633 -0.08291462 -0.4886965 ]]\n",
      "Minimum: [-0.4647904  -0.35650433 -0.74656814 -0.5433549  -0.4886965 ]\n",
      "Maximum: [0.19342498 0.39736338 0.74331281 0.52087842 0.95898046]\n",
      "Absolute row difference between min and max:\n",
      " [0.65821538 0.75386771 1.48988095 1.06423332 1.44767696]\n"
     ]
    }
   ],
   "source": [
    "## Your code here down\n",
    "# Create a 2D array with random floats between -1 and 1\n",
    "arr_rnd_floats = np.random.uniform(-1, 1, size=(5, 5))\n",
    "print(arr_rnd_floats)\n",
    "\n",
    "## Your code here up\n",
    "max_value = np.max(arr_rnd_floats, axis=1)\n",
    "min_value = np.min(arr_rnd_floats, axis=1)\n",
    "\n",
    "# Print array min/max for each row\n",
    "print(\"Minimum:\", min_value)\n",
    "print(\"Maximum:\", max_value)\n",
    "print(\"Absolute row difference between min and max:\\n\",np.abs(max_value-min_value))"
   ]
  },
  {
   "attachments": {},
   "cell_type": "markdown",
   "metadata": {},
   "source": [
    "## Pandas"
   ]
  },
  {
   "attachments": {},
   "cell_type": "markdown",
   "metadata": {},
   "source": [
    "Please refer the dataframe (farm data) we have created in the training. Please copy that cell and paste it below before starting this part. "
   ]
  },
  {
   "cell_type": "code",
   "execution_count": 11,
   "metadata": {},
   "outputs": [],
   "source": [
    "import random\n",
    "import pandas as pd\n",
    "\n",
    "# Define the range for longitude and latitude\n",
    "lon_range = (-105, -100)\n",
    "lat_range = (50, 52)\n",
    "\n",
    "# Define the list of soil types\n",
    "soil_types = ['black', 'gray', 'dark brown', 'brown', None]\n",
    "\n",
    "# Create an empty list to store the farms\n",
    "farms = []\n",
    "\n",
    "# Generate 40 farms\n",
    "for i in range(200):\n",
    "    farm = {\n",
    "        'farm_name': f'Farm {i+1}', # f is formated string\n",
    "        'farm_lon': round(random.uniform(lon_range[0], lon_range[1]), 2), # random lon with 2 decimal points\n",
    "        'farm_lat': round(random.uniform(lat_range[0], lat_range[1]), 2), # rantom lat with 2 decimal points\n",
    "        'temperature': round(random.uniform(18, 33), 1), #random temp with 1 decimal points\n",
    "        'precipitation': round(random.uniform(20, 90), 1), # random prec with 1 decimal points\n",
    "        'soil_type': random.choice(soil_types) # random soil types from above list\n",
    "    }\n",
    "    farms.append(farm)"
   ]
  },
  {
   "cell_type": "code",
   "execution_count": 12,
   "metadata": {},
   "outputs": [
    {
     "ename": "SyntaxError",
     "evalue": "invalid syntax (4060184953.py, line 1)",
     "output_type": "error",
     "traceback": [
      "\u001b[0;36m  Cell \u001b[0;32mIn[12], line 1\u001b[0;36m\u001b[0m\n\u001b[0;31m    df = # your code here\u001b[0m\n\u001b[0m         ^\u001b[0m\n\u001b[0;31mSyntaxError\u001b[0m\u001b[0;31m:\u001b[0m invalid syntax\n"
     ]
    }
   ],
   "source": [
    "df = # your code here"
   ]
  },
  {
   "attachments": {},
   "cell_type": "markdown",
   "metadata": {},
   "source": [
    "1. Select the rows where the temperature is above 20 degrees Celsius."
   ]
  },
  {
   "cell_type": "code",
   "execution_count": null,
   "metadata": {},
   "outputs": [],
   "source": [
    "## Your code here down\n",
    "\n",
    "\n",
    "## Your code here up"
   ]
  },
  {
   "attachments": {},
   "cell_type": "markdown",
   "metadata": {},
   "source": [
    "2. Sort the DataFrame by precipitation in descending order."
   ]
  },
  {
   "cell_type": "code",
   "execution_count": null,
   "metadata": {},
   "outputs": [],
   "source": [
    "## Your code here down\n",
    "\n",
    "\n",
    "## Your code here up"
   ]
  },
  {
   "attachments": {},
   "cell_type": "markdown",
   "metadata": {},
   "source": [
    "3. Filter the DataFrame to include only the farms located within latitude (51.15 & 51.00) range."
   ]
  },
  {
   "cell_type": "code",
   "execution_count": null,
   "metadata": {},
   "outputs": [],
   "source": [
    "## Your code here down\n",
    "\n",
    "\n",
    "## Your code here up"
   ]
  },
  {
   "attachments": {},
   "cell_type": "markdown",
   "metadata": {},
   "source": [
    " 4. Calculate the standard deviation of precipitation for each soil type."
   ]
  },
  {
   "cell_type": "code",
   "execution_count": null,
   "metadata": {},
   "outputs": [],
   "source": [
    "## Your code here down\n",
    "\n",
    "\n",
    "## Your code here up"
   ]
  },
  {
   "attachments": {},
   "cell_type": "markdown",
   "metadata": {},
   "source": [
    "5. Calculate the cumulative sum of precipitation for each soil type."
   ]
  },
  {
   "cell_type": "code",
   "execution_count": null,
   "metadata": {},
   "outputs": [],
   "source": [
    "## Your code here down\n",
    "\n",
    "\n",
    "## Your code here up"
   ]
  },
  {
   "attachments": {},
   "cell_type": "markdown",
   "metadata": {},
   "source": [
    "6. Determine the top 3 farms with the highest temperature."
   ]
  },
  {
   "cell_type": "code",
   "execution_count": null,
   "metadata": {},
   "outputs": [],
   "source": [
    "## Your code here down\n",
    "\n",
    "\n",
    "## Your code here up"
   ]
  },
  {
   "attachments": {},
   "cell_type": "markdown",
   "metadata": {},
   "source": [
    "7. Find famrs in each soil type that have the highest temperature."
   ]
  },
  {
   "cell_type": "code",
   "execution_count": null,
   "metadata": {},
   "outputs": [],
   "source": [
    "## Your code here down\n",
    "\n",
    "\n",
    "## Your code here up"
   ]
  },
  {
   "attachments": {},
   "cell_type": "markdown",
   "metadata": {},
   "source": [
    "8. Create new column 'percentage_tot_prec' and add the percentage contribution of each farm's precipitation (relative to total precipitation) to the column."
   ]
  },
  {
   "cell_type": "code",
   "execution_count": null,
   "metadata": {},
   "outputs": [],
   "source": [
    "## Your code here down\n",
    "\n",
    "\n",
    "## Your code here up"
   ]
  },
  {
   "attachments": {},
   "cell_type": "markdown",
   "metadata": {},
   "source": [
    "9. Create a new column called \"precipitation_rank\" that ranks the farms based on their precipitation in ascending order, with ties being assigned the same rank."
   ]
  },
  {
   "cell_type": "code",
   "execution_count": null,
   "metadata": {},
   "outputs": [],
   "source": [
    "## Your code here down\n",
    "\n",
    "\n",
    "## Your code here up"
   ]
  },
  {
   "attachments": {},
   "cell_type": "markdown",
   "metadata": {},
   "source": [
    "10. Normalize the temperature column to a range between 0 and 1 for each farm."
   ]
  },
  {
   "cell_type": "code",
   "execution_count": null,
   "metadata": {},
   "outputs": [],
   "source": [
    "## Your code here down\n",
    "\n",
    "\n",
    "## Your code here up"
   ]
  },
  {
   "cell_type": "markdown",
   "metadata": {},
   "source": [
    "# Assignment 4"
   ]
  },
  {
   "cell_type": "markdown",
   "metadata": {},
   "source": [
    "## ETL"
   ]
  },
  {
   "cell_type": "markdown",
   "metadata": {},
   "source": [
    "11. Change column types accordingly."
   ]
  },
  {
   "cell_type": "code",
   "execution_count": null,
   "metadata": {},
   "outputs": [],
   "source": [
    "## Your code here down\n",
    "\n",
    "\n",
    "## Your code here up"
   ]
  },
  {
   "cell_type": "markdown",
   "metadata": {},
   "source": [
    "## EDA"
   ]
  },
  {
   "cell_type": "markdown",
   "metadata": {},
   "source": [
    "12. Find missing values and give information how would you handle them"
   ]
  },
  {
   "cell_type": "code",
   "execution_count": null,
   "metadata": {},
   "outputs": [],
   "source": [
    "## Your code here down\n",
    "\n",
    "\n",
    "## Your code here up"
   ]
  },
  {
   "cell_type": "markdown",
   "metadata": {},
   "source": [
    "13. Find outliers if there is any how would you handle them"
   ]
  },
  {
   "cell_type": "code",
   "execution_count": null,
   "metadata": {},
   "outputs": [],
   "source": [
    "## Your code here down\n",
    "\n",
    "\n",
    "## Your code here up"
   ]
  },
  {
   "cell_type": "markdown",
   "metadata": {},
   "source": [
    "14. Find descriptive statistics for relavant columns and plot them by using bars."
   ]
  },
  {
   "cell_type": "code",
   "execution_count": null,
   "metadata": {},
   "outputs": [],
   "source": [
    "## Your code here down\n",
    "\n",
    "\n",
    "## Your code here up"
   ]
  },
  {
   "cell_type": "markdown",
   "metadata": {},
   "source": [
    "15. Plot the distribution of relevant columns."
   ]
  },
  {
   "cell_type": "code",
   "execution_count": null,
   "metadata": {},
   "outputs": [],
   "source": [
    "## Your code here down\n",
    "\n",
    "\n",
    "## Your code here up"
   ]
  }
 ],
 "metadata": {
  "kernelspec": {
   "display_name": "Python 3",
   "language": "python",
   "name": "python3"
  },
  "language_info": {
   "codemirror_mode": {
    "name": "ipython",
    "version": 3
   },
   "file_extension": ".py",
   "mimetype": "text/x-python",
   "name": "python",
   "nbconvert_exporter": "python",
   "pygments_lexer": "ipython3",
   "version": "3.10.11"
  },
  "orig_nbformat": 4
 },
 "nbformat": 4,
 "nbformat_minor": 2
}
