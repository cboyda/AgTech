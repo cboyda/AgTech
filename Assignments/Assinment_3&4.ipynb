{
 "cells": [
  {
   "attachments": {},
   "cell_type": "markdown",
   "metadata": {},
   "source": [
    "# Assignment 3"
   ]
  },
  {
   "attachments": {},
   "cell_type": "markdown",
   "metadata": {},
   "source": [
    "**Please follow the instructions. Do not add new cell! Write your code in designated areas.**"
   ]
  },
  {
   "cell_type": "code",
   "execution_count": 83,
   "metadata": {},
   "outputs": [
    {
     "name": "stdout",
     "output_type": "stream",
     "text": [
      "Assignment 1 & 2: Solutions by Clinton Boyda\n",
      "Local Time: 2023-09-22 22:29:05\n",
      "Computer ID: Fusion-Lacie-iMac2012.local\n"
     ]
    }
   ],
   "source": [
    "import datetime\n",
    "import socket\n",
    "\n",
    "# Get local time\n",
    "local_time = datetime.datetime.now().strftime(\"%Y-%m-%d %H:%M:%S\")\n",
    "\n",
    "# Get computer ID or hostname\n",
    "computer_id = socket.gethostname()\n",
    "\n",
    "# Print output with local time and computer ID\n",
    "print('Assignment 1 & 2: Solutions by Clinton Boyda') # Please change your name here\n",
    "print('Local Time:', local_time)\n",
    "print('Computer ID:', computer_id)"
   ]
  },
  {
   "attachments": {},
   "cell_type": "markdown",
   "metadata": {},
   "source": [
    "## NumPy"
   ]
  },
  {
   "attachments": {},
   "cell_type": "markdown",
   "metadata": {},
   "source": [
    "1. Create a 2D numpy array of size 4x5 with random integers between 1 and 10. Find the maximum value of the entire array. \n"
   ]
  },
  {
   "cell_type": "code",
   "execution_count": 84,
   "metadata": {},
   "outputs": [
    {
     "name": "stdout",
     "output_type": "stream",
     "text": [
      "[[ 3  4  2  2  2]\n",
      " [ 9  2  1  1  3]\n",
      " [ 4  6  2  1  2]\n",
      " [ 3  7 10  5  6]]\n",
      "Mean: 3.75\n",
      "Standard Deviation: 2.56661255354212\n",
      "Minimum: 1\n",
      "Maximum: 10\n"
     ]
    }
   ],
   "source": [
    "## Your code here down\n",
    "import numpy as np\n",
    "\n",
    "# Create a 2D array with random integers between 1 and 10\n",
    "rnd_arr = np.random.randint(1, 11, size=(4, 5))\n",
    "print(rnd_arr)\n",
    "\n",
    "# print(mean)\n",
    "#print(std) and so on\n",
    "## Your code here up\n",
    "# Calculate the descriptive statistics of the array\n",
    "# default is axis=0, equivalent to each column\n",
    "mean_value = np.mean(rnd_arr)\n",
    "std_value = np.std(rnd_arr)\n",
    "max_value = np.max(rnd_arr)\n",
    "min_value = np.min(rnd_arr)\n",
    "\n",
    "# Print array descriptive statistics\n",
    "print(\"Mean:\", mean_value)\n",
    "print(\"Standard Deviation:\", std_value)\n",
    "print(\"Minimum:\", min_value)\n",
    "print(\"Maximum:\", max_value)\n"
   ]
  },
  {
   "attachments": {},
   "cell_type": "markdown",
   "metadata": {},
   "source": [
    "2. Create a 1D numpy array of size 20 with random floats between 0 and 1. Reshape the array into a 4x5 matrix. Compute the mean of each row."
   ]
  },
  {
   "cell_type": "code",
   "execution_count": 85,
   "metadata": {},
   "outputs": [
    {
     "name": "stdout",
     "output_type": "stream",
     "text": [
      "1D numpy array of 20 random floats:\n",
      " [0.76273576 0.30558697 0.7090309  0.28808388 0.36323179 0.47845986\n",
      " 0.88559726 0.38917304 0.64371471 0.82719922 0.82466775 0.10388798\n",
      " 0.00949542 0.9659359  0.72972089 0.92634201 0.99100677 0.65104823\n",
      " 0.88581135 0.68294238]\n",
      "Resize 1D into 4x5 matrix:\n",
      " [[0.76273576 0.30558697 0.7090309  0.28808388 0.36323179]\n",
      " [0.47845986 0.88559726 0.38917304 0.64371471 0.82719922]\n",
      " [0.82466775 0.10388798 0.00949542 0.9659359  0.72972089]\n",
      " [0.92634201 0.99100677 0.65104823 0.88581135 0.68294238]]\n",
      "Row Means:\n",
      "0.48573386047699885\n",
      "0.6448288158454097\n",
      "0.5267415875083732\n",
      "0.8274301477187398\n"
     ]
    }
   ],
   "source": [
    "## Your code here down\n",
    "# Create a 1D array with random floats between 0 and 1\n",
    "rnd_floats = np.random.rand(20)\n",
    "print(\"1D numpy array of 20 random floats:\\n\",rnd_floats)\n",
    "\n",
    "# Reshape the array into a 4x5 matrix\n",
    "matrix_4x5 = rnd_floats.reshape(4, 5)\n",
    "print (\"Resize 1D into 4x5 matrix:\\n\",matrix_4x5)\n",
    "\n",
    "## Your code here up\n",
    "row_means = np.mean(matrix_4x5, axis=1)\n",
    "\n",
    "# Print the row means on separate lines\n",
    "print(\"Row Means:\")\n",
    "for mean in row_means:\n",
    "    print(mean)"
   ]
  },
  {
   "attachments": {},
   "cell_type": "markdown",
   "metadata": {},
   "source": [
    "3. Create a 2D numpy array of size 5x5 with random integers between 1 and 100. Compute standard deviation of each column."
   ]
  },
  {
   "cell_type": "code",
   "execution_count": 86,
   "metadata": {},
   "outputs": [
    {
     "name": "stdout",
     "output_type": "stream",
     "text": [
      "[[85 96 85  4 66]\n",
      " [62 80 94  9 67]\n",
      " [89 92  5  3 63]\n",
      " [ 8 74 63  7 73]\n",
      " [12 32 64 38 90]]\n",
      "Descriptive Statistics for each Column:\n",
      "Mean: [51.2 74.8 62.2 12.2 71.8]\n",
      "Standard Deviation: [34.90214893 22.82454819 31.00580591 13.0751673   9.66229786]\n",
      "Minimum: [ 8 32  5  3 63]\n",
      "Maximum: [89 96 94 38 90]\n"
     ]
    }
   ],
   "source": [
    "## Your code here down\n",
    "# Create a 2D array with random integers between 1 and 100\n",
    "rnd_arr = np.random.randint(1, 101, size=(5, 5))\n",
    "print(rnd_arr)\n",
    "\n",
    "\n",
    "## Your code here up\n",
    "# Calculate the descriptive statistics of the array\n",
    "mean_value = np.mean(rnd_arr,axis=0)\n",
    "std_value = np.std(rnd_arr,axis=0)\n",
    "max_value = np.max(rnd_arr,axis=0)\n",
    "min_value = np.min(rnd_arr,axis=0)\n",
    "\n",
    "# Print array descriptive statistics of each column\n",
    "print(\"Descriptive Statistics for each Column:\")\n",
    "print(\"Mean:\", mean_value)\n",
    "print(\"Standard Deviation:\", std_value)\n",
    "print(\"Minimum:\", min_value)\n",
    "print(\"Maximum:\", max_value)"
   ]
  },
  {
   "attachments": {},
   "cell_type": "markdown",
   "metadata": {},
   "source": [
    "4. Create a 1D numpy array of size 15 with random floats between -10 and 10. Replace all negative values with their absolute values."
   ]
  },
  {
   "cell_type": "code",
   "execution_count": 87,
   "metadata": {},
   "outputs": [
    {
     "name": "stdout",
     "output_type": "stream",
     "text": [
      "1D numpy array of 15 random floats between -10 and 10:\n",
      " [-3.57721067  0.25693334 -8.97902165 -4.3202442  -1.61516143 -6.81036958\n",
      " -8.98982029 -4.92357331  9.97517317 -1.59242633 -1.95488438 -5.41711502\n",
      " -4.28650593  6.01859207  1.29378683]\n",
      "Negative values replaced with absolutes:\n",
      " [3.57721067 0.25693334 8.97902165 4.3202442  1.61516143 6.81036958\n",
      " 8.98982029 4.92357331 9.97517317 1.59242633 1.95488438 5.41711502\n",
      " 4.28650593 6.01859207 1.29378683]\n"
     ]
    }
   ],
   "source": [
    "## Your code here down\n",
    "# Create a 1D array with random floats between -10 and 10\n",
    "rnd_floats = np.random.uniform(-10,10, size=15)\n",
    "print(\"1D numpy array of 15 random floats between -10 and 10:\\n\",rnd_floats)\n",
    "\n",
    "## Your code here up\n",
    "abs_values = np.abs(rnd_floats)\n",
    "print(\"Negative values replaced with absolutes:\\n\", abs_values)"
   ]
  },
  {
   "attachments": {},
   "cell_type": "markdown",
   "metadata": {},
   "source": [
    "5. Create a 2D numpy array of size 3x4 with random integers between 1 and 100. Calculate the sum of all elements in the array."
   ]
  },
  {
   "cell_type": "code",
   "execution_count": 88,
   "metadata": {},
   "outputs": [
    {
     "name": "stdout",
     "output_type": "stream",
     "text": [
      "[[ 75  23  18  23]\n",
      " [100  76  74   3]\n",
      " [ 47  87  35  52]]\n",
      "Sum of all array elements: 613\n"
     ]
    }
   ],
   "source": [
    "## Your code here down\n",
    "# Create a 2D array with random integers between 1 and 100\n",
    "rnd_arr = np.random.randint(1, 101, size=(3, 4))\n",
    "print(rnd_arr)\n",
    "\n",
    "## Your code here up\n",
    "arr_sum = np.sum(rnd_arr)\n",
    "print(\"Sum of all array elements:\",arr_sum)"
   ]
  },
  {
   "attachments": {},
   "cell_type": "markdown",
   "metadata": {},
   "source": [
    "7. Create a 2D numpy array of size 4x6 with random floats between 0 and 1. Normalize each column by subtracting the column mean and dividing by the column standard deviation."
   ]
  },
  {
   "cell_type": "code",
   "execution_count": 89,
   "metadata": {},
   "outputs": [
    {
     "name": "stdout",
     "output_type": "stream",
     "text": [
      "Original 2D numpy array with random floats between 0 and 1:\n",
      " [[0.83665211 0.96745979 0.27626212 0.1409396  0.26877039 0.66148191]\n",
      " [0.32153221 0.4897412  0.70217558 0.42110718 0.59494829 0.19651324]\n",
      " [0.26506515 0.13966737 0.5980118  0.35590521 0.7946623  0.69326331]\n",
      " [0.01521169 0.47247209 0.00915042 0.68323676 0.8031308  0.01170238]]\n",
      "\n",
      "Normalized Array:\n",
      "[[ 1.59775691  1.52602334 -0.4397518  -1.34054683 -1.59900181  0.9202634 ]\n",
      " [-0.12755305 -0.09354953  1.11925892  0.10756101 -0.09424796 -0.66018636]\n",
      " [-0.31668025 -1.28037812  0.73797851 -0.2294497   0.82709105  1.02828985]\n",
      " [-1.1535236  -0.15209569 -1.41748564  1.46243552  0.86615873 -1.28836689]]\n"
     ]
    }
   ],
   "source": [
    "## Your code here down\n",
    "# Create a 2D array with random floats between 0 and 4\n",
    "rnd_floats = np.random.uniform(0, 1, size=(4, 6))\n",
    "# or rnd_floats = np.random.rand(4, 6)\n",
    "print(\"Original 2D numpy array with random floats between 0 and 1:\\n\",rnd_floats)\n",
    "\n",
    "## Your code here up\n",
    "# Calculate column mean and standard deviation\n",
    "column_means = np.mean(rnd_floats, axis=0)\n",
    "column_std_devs = np.std(rnd_floats, axis=0)\n",
    "\n",
    "# Normalize each column\n",
    "normalized_array = (rnd_floats - column_means) / column_std_devs\n",
    "\n",
    "print(\"\\nNormalized Array:\")\n",
    "print(normalized_array)"
   ]
  },
  {
   "attachments": {},
   "cell_type": "markdown",
   "metadata": {},
   "source": [
    "8. Create a 2D numpy array of size 10x10 with random integers between 1 and 100. Replace all values greater than 50 with 1 and all other values with 0."
   ]
  },
  {
   "cell_type": "code",
   "execution_count": 90,
   "metadata": {},
   "outputs": [
    {
     "name": "stdout",
     "output_type": "stream",
     "text": [
      "[[ 58  70  28   2 100  59  85  16  16   6]\n",
      " [ 89  35   1  58   5  24   8  47  29  91]\n",
      " [ 16  68  92  50  73   6  67  91  35  98]\n",
      " [ 38  13  32  17   8  55  96  76  53  32]\n",
      " [ 86  19  70   7  50  26  43   9   7  66]\n",
      " [ 84  22  74   4  64  62  45  74  68  10]\n",
      " [ 18  86  18  44  84  11  84  49  92  41]\n",
      " [ 51  40  64  63  80  95  69  85  90  83]\n",
      " [ 65  61  79  24  42  60  88  19   9  55]\n",
      " [  9  24  36  43  59  12  64   6  48  53]]\n",
      "Replaced Array:\n",
      "[[1 1 0 0 1 1 1 0 0 0]\n",
      " [1 0 0 1 0 0 0 0 0 1]\n",
      " [0 1 1 0 1 0 1 1 0 1]\n",
      " [0 0 0 0 0 1 1 1 1 0]\n",
      " [1 0 1 0 0 0 0 0 0 1]\n",
      " [1 0 1 0 1 1 0 1 1 0]\n",
      " [0 1 0 0 1 0 1 0 1 0]\n",
      " [1 0 1 1 1 1 1 1 1 1]\n",
      " [1 1 1 0 0 1 1 0 0 1]\n",
      " [0 0 0 0 1 0 1 0 0 1]]\n"
     ]
    }
   ],
   "source": [
    "## Your code here down\n",
    "# Create a 2D array with random integers between 1 and 100\n",
    "arr_rnd_ints = np.random.randint(1, 101, size=(10, 10))\n",
    "print(arr_rnd_ints)\n",
    "\n",
    "## Your code here up\n",
    "# Replace values greater than 50 with 1 and others with 0\n",
    "result_array = np.where(arr_rnd_ints > 50, 1, 0)\n",
    "\n",
    "print(\"Replaced Array:\")\n",
    "print(result_array)\n"
   ]
  },
  {
   "attachments": {},
   "cell_type": "markdown",
   "metadata": {},
   "source": [
    "9. Create a 1D numpy array of size 50 with random floats between 0 and 1. Find the number of elements greater than 0.5."
   ]
  },
  {
   "cell_type": "code",
   "execution_count": 91,
   "metadata": {},
   "outputs": [
    {
     "name": "stdout",
     "output_type": "stream",
     "text": [
      "1D numpy array of 50 random floats between 0 and 1:\n",
      " [0.33790969 0.07855288 0.02454143 0.90743032 0.02182185 0.26019883\n",
      " 0.98646978 0.10292133 0.35158111 0.04778464 0.8859812  0.46499398\n",
      " 0.24885726 0.34162621 0.53087163 0.57266272 0.70672037 0.00322562\n",
      " 0.79462238 0.08800791 0.5665404  0.9215539  0.84326012 0.75662062\n",
      " 0.12359884 0.53041299 0.98631924 0.87299344 0.55413472 0.34923751\n",
      " 0.65430853 0.65096161 0.97433325 0.35035804 0.94840639 0.53915215\n",
      " 0.34371779 0.76668794 0.21666699 0.81263158 0.65370178 0.0333625\n",
      " 0.72794127 0.76164643 0.02284529 0.95149303 0.30692527 0.60075595\n",
      " 0.17528034 0.01561937]\n",
      "Number of elements greater than 0.5: 27\n"
     ]
    }
   ],
   "source": [
    "## Your code here down\n",
    "# Create a 1D array with random floats between 0 and 1\n",
    "rnd_floats = np.random.uniform(0,1, size=50)\n",
    "print(\"1D numpy array of 50 random floats between 0 and 1:\\n\",rnd_floats)\n",
    "\n",
    "## Your code here up\n",
    "# Create a boolean mask for elements greater than 0.5\n",
    "mask = rnd_floats > 0.5\n",
    "\n",
    "# Count the number of True values in the mask\n",
    "count_greater_than_0_5 = np.sum(mask)\n",
    "\n",
    "# Print the count\n",
    "print(\"Number of elements greater than 0.5:\", count_greater_than_0_5)"
   ]
  },
  {
   "attachments": {},
   "cell_type": "markdown",
   "metadata": {},
   "source": [
    "10. Create a 2D numpy array of size 5x5 with random floats between -1 and 1. Find the absolute difference between the maximum and minimum values in each row."
   ]
  },
  {
   "cell_type": "code",
   "execution_count": 92,
   "metadata": {},
   "outputs": [
    {
     "name": "stdout",
     "output_type": "stream",
     "text": [
      "[[-0.115205   -0.75642528  0.33275247  0.88929945  0.60919889]\n",
      " [ 0.83893731  0.44325657  0.49073603 -0.43915925  0.4156958 ]\n",
      " [-0.21820454 -0.37584543 -0.27554647  0.80224971  0.55678609]\n",
      " [ 0.66794818 -0.45358033  0.82464403  0.54553936  0.55316859]\n",
      " [ 0.68700111  0.96203842  0.08449347 -0.16278105  0.14012794]]\n",
      "Minimum: [-0.75642528 -0.43915925 -0.37584543 -0.45358033 -0.16278105]\n",
      "Maximum: [0.88929945 0.83893731 0.80224971 0.82464403 0.96203842]\n",
      "Absolute row difference between min and max:\n",
      " [1.64572474 1.27809656 1.17809514 1.27822436 1.12481947]\n"
     ]
    }
   ],
   "source": [
    "## Your code here down\n",
    "# Create a 2D array with random floats between -1 and 1\n",
    "arr_rnd_floats = np.random.uniform(-1, 1, size=(5, 5))\n",
    "print(arr_rnd_floats)\n",
    "\n",
    "## Your code here up\n",
    "max_value = np.max(arr_rnd_floats, axis=1)\n",
    "min_value = np.min(arr_rnd_floats, axis=1)\n",
    "\n",
    "# Print array min/max for each row\n",
    "print(\"Minimum:\", min_value)\n",
    "print(\"Maximum:\", max_value)\n",
    "print(\"Absolute row difference between min and max:\\n\",np.abs(max_value-min_value))"
   ]
  },
  {
   "attachments": {},
   "cell_type": "markdown",
   "metadata": {},
   "source": [
    "## Pandas"
   ]
  },
  {
   "attachments": {},
   "cell_type": "markdown",
   "metadata": {},
   "source": [
    "Please refer to the dataframe (farm data) we have created in this training. Please copy that cell and paste it below before starting this part. "
   ]
  },
  {
   "cell_type": "code",
   "execution_count": 93,
   "metadata": {},
   "outputs": [],
   "source": [
    "import random\n",
    "import pandas as pd\n",
    "\n",
    "# Define the range for longitude and latitude\n",
    "lon_range = (-105, -100)\n",
    "lat_range = (50, 52)\n",
    "\n",
    "# Define the list of soil types\n",
    "soil_types = ['black', 'gray', 'dark brown', 'brown', None]\n",
    "\n",
    "# Create an empty list to store the farms\n",
    "farms = []\n",
    "\n",
    "# Generate 40 farms\n",
    "for i in range(200):\n",
    "    farm = {\n",
    "        'farm_name': f'Farm {i+1}', # f is formated string\n",
    "        'farm_lon': round(random.uniform(lon_range[0], lon_range[1]), 2),   # random lon with 2 decimal points\n",
    "        'farm_lat': round(random.uniform(lat_range[0], lat_range[1]), 2),   # random lat with 2 decimal points\n",
    "        'temperature': round(random.uniform(18, 33), 1),                    # random temp with 1 decimal points\n",
    "        'precipitation': round(random.uniform(20, 90), 1),                  # random prec with 1 decimal points\n",
    "        'soil_type': random.choice(soil_types)                              # random soil types from above list\n",
    "    }\n",
    "    farms.append(farm)"
   ]
  },
  {
   "cell_type": "code",
   "execution_count": 94,
   "metadata": {},
   "outputs": [],
   "source": [
    "df = pd.DataFrame(farms) # note DataFrame is case sensitive"
   ]
  },
  {
   "cell_type": "code",
   "execution_count": 95,
   "metadata": {},
   "outputs": [
    {
     "data": {
      "text/html": [
       "<div>\n",
       "<style scoped>\n",
       "    .dataframe tbody tr th:only-of-type {\n",
       "        vertical-align: middle;\n",
       "    }\n",
       "\n",
       "    .dataframe tbody tr th {\n",
       "        vertical-align: top;\n",
       "    }\n",
       "\n",
       "    .dataframe thead th {\n",
       "        text-align: right;\n",
       "    }\n",
       "</style>\n",
       "<table border=\"1\" class=\"dataframe\">\n",
       "  <thead>\n",
       "    <tr style=\"text-align: right;\">\n",
       "      <th></th>\n",
       "      <th>farm_name</th>\n",
       "      <th>farm_lon</th>\n",
       "      <th>farm_lat</th>\n",
       "      <th>temperature</th>\n",
       "      <th>precipitation</th>\n",
       "      <th>soil_type</th>\n",
       "    </tr>\n",
       "  </thead>\n",
       "  <tbody>\n",
       "    <tr>\n",
       "      <th>0</th>\n",
       "      <td>Farm 1</td>\n",
       "      <td>-103.15</td>\n",
       "      <td>51.32</td>\n",
       "      <td>23.8</td>\n",
       "      <td>63.3</td>\n",
       "      <td>None</td>\n",
       "    </tr>\n",
       "    <tr>\n",
       "      <th>1</th>\n",
       "      <td>Farm 2</td>\n",
       "      <td>-102.98</td>\n",
       "      <td>51.95</td>\n",
       "      <td>24.0</td>\n",
       "      <td>35.7</td>\n",
       "      <td>None</td>\n",
       "    </tr>\n",
       "    <tr>\n",
       "      <th>2</th>\n",
       "      <td>Farm 3</td>\n",
       "      <td>-103.74</td>\n",
       "      <td>50.03</td>\n",
       "      <td>25.6</td>\n",
       "      <td>27.6</td>\n",
       "      <td>brown</td>\n",
       "    </tr>\n",
       "    <tr>\n",
       "      <th>3</th>\n",
       "      <td>Farm 4</td>\n",
       "      <td>-101.48</td>\n",
       "      <td>51.23</td>\n",
       "      <td>31.7</td>\n",
       "      <td>89.8</td>\n",
       "      <td>None</td>\n",
       "    </tr>\n",
       "    <tr>\n",
       "      <th>4</th>\n",
       "      <td>Farm 5</td>\n",
       "      <td>-103.86</td>\n",
       "      <td>51.50</td>\n",
       "      <td>29.0</td>\n",
       "      <td>21.5</td>\n",
       "      <td>None</td>\n",
       "    </tr>\n",
       "    <tr>\n",
       "      <th>...</th>\n",
       "      <td>...</td>\n",
       "      <td>...</td>\n",
       "      <td>...</td>\n",
       "      <td>...</td>\n",
       "      <td>...</td>\n",
       "      <td>...</td>\n",
       "    </tr>\n",
       "    <tr>\n",
       "      <th>195</th>\n",
       "      <td>Farm 196</td>\n",
       "      <td>-102.51</td>\n",
       "      <td>50.18</td>\n",
       "      <td>22.0</td>\n",
       "      <td>26.3</td>\n",
       "      <td>black</td>\n",
       "    </tr>\n",
       "    <tr>\n",
       "      <th>196</th>\n",
       "      <td>Farm 197</td>\n",
       "      <td>-102.20</td>\n",
       "      <td>50.02</td>\n",
       "      <td>20.1</td>\n",
       "      <td>73.5</td>\n",
       "      <td>None</td>\n",
       "    </tr>\n",
       "    <tr>\n",
       "      <th>197</th>\n",
       "      <td>Farm 198</td>\n",
       "      <td>-101.34</td>\n",
       "      <td>51.13</td>\n",
       "      <td>31.1</td>\n",
       "      <td>40.0</td>\n",
       "      <td>gray</td>\n",
       "    </tr>\n",
       "    <tr>\n",
       "      <th>198</th>\n",
       "      <td>Farm 199</td>\n",
       "      <td>-104.28</td>\n",
       "      <td>50.10</td>\n",
       "      <td>23.5</td>\n",
       "      <td>21.7</td>\n",
       "      <td>None</td>\n",
       "    </tr>\n",
       "    <tr>\n",
       "      <th>199</th>\n",
       "      <td>Farm 200</td>\n",
       "      <td>-100.09</td>\n",
       "      <td>51.98</td>\n",
       "      <td>31.9</td>\n",
       "      <td>27.6</td>\n",
       "      <td>gray</td>\n",
       "    </tr>\n",
       "  </tbody>\n",
       "</table>\n",
       "<p>200 rows × 6 columns</p>\n",
       "</div>"
      ],
      "text/plain": [
       "    farm_name  farm_lon  farm_lat  temperature  precipitation soil_type\n",
       "0      Farm 1   -103.15     51.32         23.8           63.3      None\n",
       "1      Farm 2   -102.98     51.95         24.0           35.7      None\n",
       "2      Farm 3   -103.74     50.03         25.6           27.6     brown\n",
       "3      Farm 4   -101.48     51.23         31.7           89.8      None\n",
       "4      Farm 5   -103.86     51.50         29.0           21.5      None\n",
       "..        ...       ...       ...          ...            ...       ...\n",
       "195  Farm 196   -102.51     50.18         22.0           26.3     black\n",
       "196  Farm 197   -102.20     50.02         20.1           73.5      None\n",
       "197  Farm 198   -101.34     51.13         31.1           40.0      gray\n",
       "198  Farm 199   -104.28     50.10         23.5           21.7      None\n",
       "199  Farm 200   -100.09     51.98         31.9           27.6      gray\n",
       "\n",
       "[200 rows x 6 columns]"
      ]
     },
     "execution_count": 95,
     "metadata": {},
     "output_type": "execute_result"
    }
   ],
   "source": [
    "df"
   ]
  },
  {
   "cell_type": "code",
   "execution_count": 96,
   "metadata": {},
   "outputs": [
    {
     "name": "stdout",
     "output_type": "stream",
     "text": [
      "<class 'pandas.core.frame.DataFrame'>\n",
      "RangeIndex: 200 entries, 0 to 199\n",
      "Data columns (total 6 columns):\n",
      " #   Column         Non-Null Count  Dtype  \n",
      "---  ------         --------------  -----  \n",
      " 0   farm_name      200 non-null    object \n",
      " 1   farm_lon       200 non-null    float64\n",
      " 2   farm_lat       200 non-null    float64\n",
      " 3   temperature    200 non-null    float64\n",
      " 4   precipitation  200 non-null    float64\n",
      " 5   soil_type      158 non-null    object \n",
      "dtypes: float64(4), object(2)\n",
      "memory usage: 9.5+ KB\n"
     ]
    }
   ],
   "source": [
    "df.info()"
   ]
  },
  {
   "cell_type": "code",
   "execution_count": 97,
   "metadata": {},
   "outputs": [
    {
     "data": {
      "text/html": [
       "<div>\n",
       "<style scoped>\n",
       "    .dataframe tbody tr th:only-of-type {\n",
       "        vertical-align: middle;\n",
       "    }\n",
       "\n",
       "    .dataframe tbody tr th {\n",
       "        vertical-align: top;\n",
       "    }\n",
       "\n",
       "    .dataframe thead th {\n",
       "        text-align: right;\n",
       "    }\n",
       "</style>\n",
       "<table border=\"1\" class=\"dataframe\">\n",
       "  <thead>\n",
       "    <tr style=\"text-align: right;\">\n",
       "      <th></th>\n",
       "      <th>farm_lon</th>\n",
       "      <th>farm_lat</th>\n",
       "      <th>temperature</th>\n",
       "      <th>precipitation</th>\n",
       "    </tr>\n",
       "  </thead>\n",
       "  <tbody>\n",
       "    <tr>\n",
       "      <th>count</th>\n",
       "      <td>200.00000</td>\n",
       "      <td>200.000000</td>\n",
       "      <td>200.000000</td>\n",
       "      <td>200.000000</td>\n",
       "    </tr>\n",
       "    <tr>\n",
       "      <th>mean</th>\n",
       "      <td>-102.63765</td>\n",
       "      <td>50.968650</td>\n",
       "      <td>25.518500</td>\n",
       "      <td>52.484500</td>\n",
       "    </tr>\n",
       "    <tr>\n",
       "      <th>std</th>\n",
       "      <td>1.41898</td>\n",
       "      <td>0.614442</td>\n",
       "      <td>4.165545</td>\n",
       "      <td>20.029448</td>\n",
       "    </tr>\n",
       "    <tr>\n",
       "      <th>min</th>\n",
       "      <td>-104.98000</td>\n",
       "      <td>50.010000</td>\n",
       "      <td>18.200000</td>\n",
       "      <td>20.300000</td>\n",
       "    </tr>\n",
       "    <tr>\n",
       "      <th>25%</th>\n",
       "      <td>-103.88250</td>\n",
       "      <td>50.425000</td>\n",
       "      <td>21.975000</td>\n",
       "      <td>35.575000</td>\n",
       "    </tr>\n",
       "    <tr>\n",
       "      <th>50%</th>\n",
       "      <td>-102.60000</td>\n",
       "      <td>50.925000</td>\n",
       "      <td>25.700000</td>\n",
       "      <td>51.600000</td>\n",
       "    </tr>\n",
       "    <tr>\n",
       "      <th>75%</th>\n",
       "      <td>-101.47500</td>\n",
       "      <td>51.552500</td>\n",
       "      <td>29.000000</td>\n",
       "      <td>69.825000</td>\n",
       "    </tr>\n",
       "    <tr>\n",
       "      <th>max</th>\n",
       "      <td>-100.03000</td>\n",
       "      <td>52.000000</td>\n",
       "      <td>33.000000</td>\n",
       "      <td>89.800000</td>\n",
       "    </tr>\n",
       "  </tbody>\n",
       "</table>\n",
       "</div>"
      ],
      "text/plain": [
       "        farm_lon    farm_lat  temperature  precipitation\n",
       "count  200.00000  200.000000   200.000000     200.000000\n",
       "mean  -102.63765   50.968650    25.518500      52.484500\n",
       "std      1.41898    0.614442     4.165545      20.029448\n",
       "min   -104.98000   50.010000    18.200000      20.300000\n",
       "25%   -103.88250   50.425000    21.975000      35.575000\n",
       "50%   -102.60000   50.925000    25.700000      51.600000\n",
       "75%   -101.47500   51.552500    29.000000      69.825000\n",
       "max   -100.03000   52.000000    33.000000      89.800000"
      ]
     },
     "execution_count": 97,
     "metadata": {},
     "output_type": "execute_result"
    }
   ],
   "source": [
    "df.describe()"
   ]
  },
  {
   "attachments": {},
   "cell_type": "markdown",
   "metadata": {},
   "source": [
    "1. Select the rows where the temperature is above 20 degrees Celsius."
   ]
  },
  {
   "cell_type": "code",
   "execution_count": 98,
   "metadata": {},
   "outputs": [
    {
     "data": {
      "text/html": [
       "<div>\n",
       "<style scoped>\n",
       "    .dataframe tbody tr th:only-of-type {\n",
       "        vertical-align: middle;\n",
       "    }\n",
       "\n",
       "    .dataframe tbody tr th {\n",
       "        vertical-align: top;\n",
       "    }\n",
       "\n",
       "    .dataframe thead th {\n",
       "        text-align: right;\n",
       "    }\n",
       "</style>\n",
       "<table border=\"1\" class=\"dataframe\">\n",
       "  <thead>\n",
       "    <tr style=\"text-align: right;\">\n",
       "      <th></th>\n",
       "      <th>farm_name</th>\n",
       "      <th>farm_lon</th>\n",
       "      <th>farm_lat</th>\n",
       "      <th>temperature</th>\n",
       "      <th>precipitation</th>\n",
       "      <th>soil_type</th>\n",
       "    </tr>\n",
       "  </thead>\n",
       "  <tbody>\n",
       "    <tr>\n",
       "      <th>0</th>\n",
       "      <td>Farm 1</td>\n",
       "      <td>-103.15</td>\n",
       "      <td>51.32</td>\n",
       "      <td>23.8</td>\n",
       "      <td>63.3</td>\n",
       "      <td>None</td>\n",
       "    </tr>\n",
       "    <tr>\n",
       "      <th>1</th>\n",
       "      <td>Farm 2</td>\n",
       "      <td>-102.98</td>\n",
       "      <td>51.95</td>\n",
       "      <td>24.0</td>\n",
       "      <td>35.7</td>\n",
       "      <td>None</td>\n",
       "    </tr>\n",
       "    <tr>\n",
       "      <th>2</th>\n",
       "      <td>Farm 3</td>\n",
       "      <td>-103.74</td>\n",
       "      <td>50.03</td>\n",
       "      <td>25.6</td>\n",
       "      <td>27.6</td>\n",
       "      <td>brown</td>\n",
       "    </tr>\n",
       "    <tr>\n",
       "      <th>3</th>\n",
       "      <td>Farm 4</td>\n",
       "      <td>-101.48</td>\n",
       "      <td>51.23</td>\n",
       "      <td>31.7</td>\n",
       "      <td>89.8</td>\n",
       "      <td>None</td>\n",
       "    </tr>\n",
       "    <tr>\n",
       "      <th>4</th>\n",
       "      <td>Farm 5</td>\n",
       "      <td>-103.86</td>\n",
       "      <td>51.50</td>\n",
       "      <td>29.0</td>\n",
       "      <td>21.5</td>\n",
       "      <td>None</td>\n",
       "    </tr>\n",
       "    <tr>\n",
       "      <th>...</th>\n",
       "      <td>...</td>\n",
       "      <td>...</td>\n",
       "      <td>...</td>\n",
       "      <td>...</td>\n",
       "      <td>...</td>\n",
       "      <td>...</td>\n",
       "    </tr>\n",
       "    <tr>\n",
       "      <th>195</th>\n",
       "      <td>Farm 196</td>\n",
       "      <td>-102.51</td>\n",
       "      <td>50.18</td>\n",
       "      <td>22.0</td>\n",
       "      <td>26.3</td>\n",
       "      <td>black</td>\n",
       "    </tr>\n",
       "    <tr>\n",
       "      <th>196</th>\n",
       "      <td>Farm 197</td>\n",
       "      <td>-102.20</td>\n",
       "      <td>50.02</td>\n",
       "      <td>20.1</td>\n",
       "      <td>73.5</td>\n",
       "      <td>None</td>\n",
       "    </tr>\n",
       "    <tr>\n",
       "      <th>197</th>\n",
       "      <td>Farm 198</td>\n",
       "      <td>-101.34</td>\n",
       "      <td>51.13</td>\n",
       "      <td>31.1</td>\n",
       "      <td>40.0</td>\n",
       "      <td>gray</td>\n",
       "    </tr>\n",
       "    <tr>\n",
       "      <th>198</th>\n",
       "      <td>Farm 199</td>\n",
       "      <td>-104.28</td>\n",
       "      <td>50.10</td>\n",
       "      <td>23.5</td>\n",
       "      <td>21.7</td>\n",
       "      <td>None</td>\n",
       "    </tr>\n",
       "    <tr>\n",
       "      <th>199</th>\n",
       "      <td>Farm 200</td>\n",
       "      <td>-100.09</td>\n",
       "      <td>51.98</td>\n",
       "      <td>31.9</td>\n",
       "      <td>27.6</td>\n",
       "      <td>gray</td>\n",
       "    </tr>\n",
       "  </tbody>\n",
       "</table>\n",
       "<p>178 rows × 6 columns</p>\n",
       "</div>"
      ],
      "text/plain": [
       "    farm_name  farm_lon  farm_lat  temperature  precipitation soil_type\n",
       "0      Farm 1   -103.15     51.32         23.8           63.3      None\n",
       "1      Farm 2   -102.98     51.95         24.0           35.7      None\n",
       "2      Farm 3   -103.74     50.03         25.6           27.6     brown\n",
       "3      Farm 4   -101.48     51.23         31.7           89.8      None\n",
       "4      Farm 5   -103.86     51.50         29.0           21.5      None\n",
       "..        ...       ...       ...          ...            ...       ...\n",
       "195  Farm 196   -102.51     50.18         22.0           26.3     black\n",
       "196  Farm 197   -102.20     50.02         20.1           73.5      None\n",
       "197  Farm 198   -101.34     51.13         31.1           40.0      gray\n",
       "198  Farm 199   -104.28     50.10         23.5           21.7      None\n",
       "199  Farm 200   -100.09     51.98         31.9           27.6      gray\n",
       "\n",
       "[178 rows x 6 columns]"
      ]
     },
     "execution_count": 98,
     "metadata": {},
     "output_type": "execute_result"
    }
   ],
   "source": [
    "## Your code here down\n",
    "df[df['temperature'] > 20]\n",
    "\n",
    "## Your code here up"
   ]
  },
  {
   "attachments": {},
   "cell_type": "markdown",
   "metadata": {},
   "source": [
    "2. Sort the DataFrame by precipitation in descending order."
   ]
  },
  {
   "cell_type": "code",
   "execution_count": 99,
   "metadata": {},
   "outputs": [
    {
     "data": {
      "text/html": [
       "<div>\n",
       "<style scoped>\n",
       "    .dataframe tbody tr th:only-of-type {\n",
       "        vertical-align: middle;\n",
       "    }\n",
       "\n",
       "    .dataframe tbody tr th {\n",
       "        vertical-align: top;\n",
       "    }\n",
       "\n",
       "    .dataframe thead th {\n",
       "        text-align: right;\n",
       "    }\n",
       "</style>\n",
       "<table border=\"1\" class=\"dataframe\">\n",
       "  <thead>\n",
       "    <tr style=\"text-align: right;\">\n",
       "      <th></th>\n",
       "      <th>farm_name</th>\n",
       "      <th>farm_lon</th>\n",
       "      <th>farm_lat</th>\n",
       "      <th>temperature</th>\n",
       "      <th>precipitation</th>\n",
       "      <th>soil_type</th>\n",
       "    </tr>\n",
       "  </thead>\n",
       "  <tbody>\n",
       "    <tr>\n",
       "      <th>3</th>\n",
       "      <td>Farm 4</td>\n",
       "      <td>-101.48</td>\n",
       "      <td>51.23</td>\n",
       "      <td>31.7</td>\n",
       "      <td>89.8</td>\n",
       "      <td>None</td>\n",
       "    </tr>\n",
       "    <tr>\n",
       "      <th>110</th>\n",
       "      <td>Farm 111</td>\n",
       "      <td>-101.24</td>\n",
       "      <td>50.40</td>\n",
       "      <td>32.2</td>\n",
       "      <td>89.6</td>\n",
       "      <td>dark brown</td>\n",
       "    </tr>\n",
       "    <tr>\n",
       "      <th>131</th>\n",
       "      <td>Farm 132</td>\n",
       "      <td>-102.94</td>\n",
       "      <td>50.19</td>\n",
       "      <td>32.9</td>\n",
       "      <td>89.1</td>\n",
       "      <td>black</td>\n",
       "    </tr>\n",
       "    <tr>\n",
       "      <th>184</th>\n",
       "      <td>Farm 185</td>\n",
       "      <td>-101.09</td>\n",
       "      <td>50.73</td>\n",
       "      <td>32.9</td>\n",
       "      <td>88.7</td>\n",
       "      <td>None</td>\n",
       "    </tr>\n",
       "    <tr>\n",
       "      <th>55</th>\n",
       "      <td>Farm 56</td>\n",
       "      <td>-100.19</td>\n",
       "      <td>51.82</td>\n",
       "      <td>23.6</td>\n",
       "      <td>88.2</td>\n",
       "      <td>black</td>\n",
       "    </tr>\n",
       "    <tr>\n",
       "      <th>...</th>\n",
       "      <td>...</td>\n",
       "      <td>...</td>\n",
       "      <td>...</td>\n",
       "      <td>...</td>\n",
       "      <td>...</td>\n",
       "      <td>...</td>\n",
       "    </tr>\n",
       "    <tr>\n",
       "      <th>198</th>\n",
       "      <td>Farm 199</td>\n",
       "      <td>-104.28</td>\n",
       "      <td>50.10</td>\n",
       "      <td>23.5</td>\n",
       "      <td>21.7</td>\n",
       "      <td>None</td>\n",
       "    </tr>\n",
       "    <tr>\n",
       "      <th>4</th>\n",
       "      <td>Farm 5</td>\n",
       "      <td>-103.86</td>\n",
       "      <td>51.50</td>\n",
       "      <td>29.0</td>\n",
       "      <td>21.5</td>\n",
       "      <td>None</td>\n",
       "    </tr>\n",
       "    <tr>\n",
       "      <th>169</th>\n",
       "      <td>Farm 170</td>\n",
       "      <td>-104.84</td>\n",
       "      <td>50.08</td>\n",
       "      <td>21.0</td>\n",
       "      <td>21.2</td>\n",
       "      <td>dark brown</td>\n",
       "    </tr>\n",
       "    <tr>\n",
       "      <th>177</th>\n",
       "      <td>Farm 178</td>\n",
       "      <td>-102.28</td>\n",
       "      <td>51.24</td>\n",
       "      <td>25.0</td>\n",
       "      <td>20.4</td>\n",
       "      <td>gray</td>\n",
       "    </tr>\n",
       "    <tr>\n",
       "      <th>153</th>\n",
       "      <td>Farm 154</td>\n",
       "      <td>-100.54</td>\n",
       "      <td>50.18</td>\n",
       "      <td>28.4</td>\n",
       "      <td>20.3</td>\n",
       "      <td>black</td>\n",
       "    </tr>\n",
       "  </tbody>\n",
       "</table>\n",
       "<p>200 rows × 6 columns</p>\n",
       "</div>"
      ],
      "text/plain": [
       "    farm_name  farm_lon  farm_lat  temperature  precipitation   soil_type\n",
       "3      Farm 4   -101.48     51.23         31.7           89.8        None\n",
       "110  Farm 111   -101.24     50.40         32.2           89.6  dark brown\n",
       "131  Farm 132   -102.94     50.19         32.9           89.1       black\n",
       "184  Farm 185   -101.09     50.73         32.9           88.7        None\n",
       "55    Farm 56   -100.19     51.82         23.6           88.2       black\n",
       "..        ...       ...       ...          ...            ...         ...\n",
       "198  Farm 199   -104.28     50.10         23.5           21.7        None\n",
       "4      Farm 5   -103.86     51.50         29.0           21.5        None\n",
       "169  Farm 170   -104.84     50.08         21.0           21.2  dark brown\n",
       "177  Farm 178   -102.28     51.24         25.0           20.4        gray\n",
       "153  Farm 154   -100.54     50.18         28.4           20.3       black\n",
       "\n",
       "[200 rows x 6 columns]"
      ]
     },
     "execution_count": 99,
     "metadata": {},
     "output_type": "execute_result"
    }
   ],
   "source": [
    "## Your code here down\n",
    "df.sort_values(by='precipitation', ascending=False)\n",
    "\n",
    "## Your code here up"
   ]
  },
  {
   "attachments": {},
   "cell_type": "markdown",
   "metadata": {},
   "source": [
    "3. Filter the DataFrame to include only the farms located within latitude (51.15 & 51.00) range."
   ]
  },
  {
   "cell_type": "code",
   "execution_count": 100,
   "metadata": {},
   "outputs": [
    {
     "data": {
      "text/html": [
       "<div>\n",
       "<style scoped>\n",
       "    .dataframe tbody tr th:only-of-type {\n",
       "        vertical-align: middle;\n",
       "    }\n",
       "\n",
       "    .dataframe tbody tr th {\n",
       "        vertical-align: top;\n",
       "    }\n",
       "\n",
       "    .dataframe thead th {\n",
       "        text-align: right;\n",
       "    }\n",
       "</style>\n",
       "<table border=\"1\" class=\"dataframe\">\n",
       "  <thead>\n",
       "    <tr style=\"text-align: right;\">\n",
       "      <th></th>\n",
       "      <th>farm_name</th>\n",
       "      <th>farm_lon</th>\n",
       "      <th>farm_lat</th>\n",
       "      <th>temperature</th>\n",
       "      <th>precipitation</th>\n",
       "      <th>soil_type</th>\n",
       "    </tr>\n",
       "  </thead>\n",
       "  <tbody>\n",
       "    <tr>\n",
       "      <th>7</th>\n",
       "      <td>Farm 8</td>\n",
       "      <td>-104.33</td>\n",
       "      <td>51.06</td>\n",
       "      <td>22.9</td>\n",
       "      <td>52.6</td>\n",
       "      <td>dark brown</td>\n",
       "    </tr>\n",
       "    <tr>\n",
       "      <th>31</th>\n",
       "      <td>Farm 32</td>\n",
       "      <td>-101.28</td>\n",
       "      <td>51.14</td>\n",
       "      <td>22.1</td>\n",
       "      <td>36.0</td>\n",
       "      <td>gray</td>\n",
       "    </tr>\n",
       "    <tr>\n",
       "      <th>39</th>\n",
       "      <td>Farm 40</td>\n",
       "      <td>-103.47</td>\n",
       "      <td>51.05</td>\n",
       "      <td>22.2</td>\n",
       "      <td>82.7</td>\n",
       "      <td>gray</td>\n",
       "    </tr>\n",
       "    <tr>\n",
       "      <th>43</th>\n",
       "      <td>Farm 44</td>\n",
       "      <td>-102.18</td>\n",
       "      <td>51.15</td>\n",
       "      <td>27.7</td>\n",
       "      <td>77.0</td>\n",
       "      <td>brown</td>\n",
       "    </tr>\n",
       "    <tr>\n",
       "      <th>66</th>\n",
       "      <td>Farm 67</td>\n",
       "      <td>-103.49</td>\n",
       "      <td>51.09</td>\n",
       "      <td>19.3</td>\n",
       "      <td>39.4</td>\n",
       "      <td>brown</td>\n",
       "    </tr>\n",
       "    <tr>\n",
       "      <th>72</th>\n",
       "      <td>Farm 73</td>\n",
       "      <td>-100.38</td>\n",
       "      <td>51.11</td>\n",
       "      <td>29.0</td>\n",
       "      <td>40.9</td>\n",
       "      <td>black</td>\n",
       "    </tr>\n",
       "    <tr>\n",
       "      <th>82</th>\n",
       "      <td>Farm 83</td>\n",
       "      <td>-104.31</td>\n",
       "      <td>51.13</td>\n",
       "      <td>28.3</td>\n",
       "      <td>86.8</td>\n",
       "      <td>black</td>\n",
       "    </tr>\n",
       "    <tr>\n",
       "      <th>105</th>\n",
       "      <td>Farm 106</td>\n",
       "      <td>-101.16</td>\n",
       "      <td>51.14</td>\n",
       "      <td>31.3</td>\n",
       "      <td>58.4</td>\n",
       "      <td>None</td>\n",
       "    </tr>\n",
       "    <tr>\n",
       "      <th>133</th>\n",
       "      <td>Farm 134</td>\n",
       "      <td>-104.15</td>\n",
       "      <td>51.02</td>\n",
       "      <td>24.9</td>\n",
       "      <td>37.9</td>\n",
       "      <td>dark brown</td>\n",
       "    </tr>\n",
       "    <tr>\n",
       "      <th>160</th>\n",
       "      <td>Farm 161</td>\n",
       "      <td>-102.57</td>\n",
       "      <td>51.00</td>\n",
       "      <td>24.0</td>\n",
       "      <td>39.6</td>\n",
       "      <td>brown</td>\n",
       "    </tr>\n",
       "    <tr>\n",
       "      <th>171</th>\n",
       "      <td>Farm 172</td>\n",
       "      <td>-101.88</td>\n",
       "      <td>51.08</td>\n",
       "      <td>21.8</td>\n",
       "      <td>57.7</td>\n",
       "      <td>None</td>\n",
       "    </tr>\n",
       "    <tr>\n",
       "      <th>187</th>\n",
       "      <td>Farm 188</td>\n",
       "      <td>-102.06</td>\n",
       "      <td>51.08</td>\n",
       "      <td>22.4</td>\n",
       "      <td>64.7</td>\n",
       "      <td>None</td>\n",
       "    </tr>\n",
       "    <tr>\n",
       "      <th>193</th>\n",
       "      <td>Farm 194</td>\n",
       "      <td>-102.94</td>\n",
       "      <td>51.02</td>\n",
       "      <td>20.4</td>\n",
       "      <td>53.9</td>\n",
       "      <td>None</td>\n",
       "    </tr>\n",
       "    <tr>\n",
       "      <th>197</th>\n",
       "      <td>Farm 198</td>\n",
       "      <td>-101.34</td>\n",
       "      <td>51.13</td>\n",
       "      <td>31.1</td>\n",
       "      <td>40.0</td>\n",
       "      <td>gray</td>\n",
       "    </tr>\n",
       "  </tbody>\n",
       "</table>\n",
       "</div>"
      ],
      "text/plain": [
       "    farm_name  farm_lon  farm_lat  temperature  precipitation   soil_type\n",
       "7      Farm 8   -104.33     51.06         22.9           52.6  dark brown\n",
       "31    Farm 32   -101.28     51.14         22.1           36.0        gray\n",
       "39    Farm 40   -103.47     51.05         22.2           82.7        gray\n",
       "43    Farm 44   -102.18     51.15         27.7           77.0       brown\n",
       "66    Farm 67   -103.49     51.09         19.3           39.4       brown\n",
       "72    Farm 73   -100.38     51.11         29.0           40.9       black\n",
       "82    Farm 83   -104.31     51.13         28.3           86.8       black\n",
       "105  Farm 106   -101.16     51.14         31.3           58.4        None\n",
       "133  Farm 134   -104.15     51.02         24.9           37.9  dark brown\n",
       "160  Farm 161   -102.57     51.00         24.0           39.6       brown\n",
       "171  Farm 172   -101.88     51.08         21.8           57.7        None\n",
       "187  Farm 188   -102.06     51.08         22.4           64.7        None\n",
       "193  Farm 194   -102.94     51.02         20.4           53.9        None\n",
       "197  Farm 198   -101.34     51.13         31.1           40.0        gray"
      ]
     },
     "execution_count": 100,
     "metadata": {},
     "output_type": "execute_result"
    }
   ],
   "source": [
    "## Your code here down\n",
    "df[(df['farm_lat'] >= 51.00) & (df['farm_lat'] <= 51.15) ]\n",
    "\n",
    "## Your code here up"
   ]
  },
  {
   "attachments": {},
   "cell_type": "markdown",
   "metadata": {},
   "source": [
    " 4. Calculate the standard deviation of precipitation for each soil type."
   ]
  },
  {
   "cell_type": "code",
   "execution_count": 101,
   "metadata": {},
   "outputs": [
    {
     "name": "stdout",
     "output_type": "stream",
     "text": [
      "soil_type\n",
      "black         18.508009\n",
      "brown         20.560199\n",
      "dark brown    20.510535\n",
      "gray          21.106839\n",
      "Name: precipitation, dtype: float64\n"
     ]
    }
   ],
   "source": [
    "## Your code here down\n",
    "# Group DataFrame by 'soil_type'\n",
    "grouped_by_soil = df.groupby('soil_type')\n",
    "\n",
    "# Calculate standard deviation of precipitation for each soil type\n",
    "std_precipitation = grouped_by_soil['precipitation'].std()\n",
    "\n",
    "## Your code here up\n",
    "# Print the result\n",
    "print(std_precipitation)\n"
   ]
  },
  {
   "attachments": {},
   "cell_type": "markdown",
   "metadata": {},
   "source": [
    "5. Calculate the sum of precipitation for each soil type. (removing cumulative term from question to return 4 vs 200 rows)"
   ]
  },
  {
   "cell_type": "code",
   "execution_count": 114,
   "metadata": {},
   "outputs": [
    {
     "name": "stdout",
     "output_type": "stream",
     "text": [
      "soil_type\n",
      "black         3076.2\n",
      "brown         1402.2\n",
      "dark brown    2256.2\n",
      "gray          1693.6\n",
      "Name: precipitation, dtype: float64\n"
     ]
    }
   ],
   "source": [
    "## Your code here down\n",
    "# Calculate cumulative sum of precipitation for each soil type\n",
    "cum_precipitation = grouped_by_soil['precipitation'].sum()\n",
    "\n",
    "## Your code here up\n",
    "# Print the result\n",
    "print(cum_precipitation)\n"
   ]
  },
  {
   "attachments": {},
   "cell_type": "markdown",
   "metadata": {},
   "source": [
    "6. Determine the top 3 farms with the highest temperature."
   ]
  },
  {
   "cell_type": "code",
   "execution_count": null,
   "metadata": {},
   "outputs": [],
   "source": []
  },
  {
   "cell_type": "code",
   "execution_count": 103,
   "metadata": {},
   "outputs": [],
   "source": [
    "## Your code here down\n",
    "df.\n",
    "\n",
    "## Your code here up"
   ]
  },
  {
   "attachments": {},
   "cell_type": "markdown",
   "metadata": {},
   "source": [
    "7. Find famrs in each soil type that have the highest temperature."
   ]
  },
  {
   "cell_type": "code",
   "execution_count": 104,
   "metadata": {},
   "outputs": [],
   "source": [
    "## Your code here down\n",
    "\n",
    "\n",
    "## Your code here up"
   ]
  },
  {
   "attachments": {},
   "cell_type": "markdown",
   "metadata": {},
   "source": [
    "8. Create new column 'percentage_tot_prec' and add the percentage contribution of each farm's precipitation (relative to total precipitation) to the column."
   ]
  },
  {
   "cell_type": "code",
   "execution_count": 105,
   "metadata": {},
   "outputs": [],
   "source": [
    "## Your code here down\n",
    "\n",
    "\n",
    "## Your code here up"
   ]
  },
  {
   "attachments": {},
   "cell_type": "markdown",
   "metadata": {},
   "source": [
    "9. Create a new column called \"precipitation_rank\" that ranks the farms based on their precipitation in ascending order, with ties being assigned the same rank."
   ]
  },
  {
   "cell_type": "code",
   "execution_count": 106,
   "metadata": {},
   "outputs": [],
   "source": [
    "## Your code here down\n",
    "\n",
    "\n",
    "## Your code here up"
   ]
  },
  {
   "attachments": {},
   "cell_type": "markdown",
   "metadata": {},
   "source": [
    "10. Normalize the temperature column to a range between 0 and 1 for each farm."
   ]
  },
  {
   "cell_type": "code",
   "execution_count": 107,
   "metadata": {},
   "outputs": [],
   "source": [
    "## Your code here down\n",
    "\n",
    "\n",
    "## Your code here up"
   ]
  },
  {
   "cell_type": "markdown",
   "metadata": {},
   "source": [
    "# Assignment 4"
   ]
  },
  {
   "cell_type": "markdown",
   "metadata": {},
   "source": [
    "## ETL"
   ]
  },
  {
   "cell_type": "markdown",
   "metadata": {},
   "source": [
    "11. Change column types accordingly."
   ]
  },
  {
   "cell_type": "code",
   "execution_count": 108,
   "metadata": {},
   "outputs": [],
   "source": [
    "## Your code here down\n",
    "\n",
    "\n",
    "## Your code here up"
   ]
  },
  {
   "cell_type": "markdown",
   "metadata": {},
   "source": [
    "## EDA"
   ]
  },
  {
   "cell_type": "markdown",
   "metadata": {},
   "source": [
    "12. Find missing values and give information how would you handle them"
   ]
  },
  {
   "cell_type": "code",
   "execution_count": 109,
   "metadata": {},
   "outputs": [],
   "source": [
    "## Your code here down\n",
    "\n",
    "\n",
    "## Your code here up"
   ]
  },
  {
   "cell_type": "markdown",
   "metadata": {},
   "source": [
    "13. Find outliers if there is any how would you handle them"
   ]
  },
  {
   "cell_type": "code",
   "execution_count": 110,
   "metadata": {},
   "outputs": [],
   "source": [
    "## Your code here down\n",
    "\n",
    "\n",
    "## Your code here up"
   ]
  },
  {
   "cell_type": "markdown",
   "metadata": {},
   "source": [
    "14. Find descriptive statistics for relavant columns and plot them by using bars."
   ]
  },
  {
   "cell_type": "code",
   "execution_count": 111,
   "metadata": {},
   "outputs": [],
   "source": [
    "## Your code here down\n",
    "\n",
    "\n",
    "## Your code here up"
   ]
  },
  {
   "cell_type": "markdown",
   "metadata": {},
   "source": [
    "15. Plot the distribution of relevant columns."
   ]
  },
  {
   "cell_type": "code",
   "execution_count": 112,
   "metadata": {},
   "outputs": [],
   "source": [
    "## Your code here down\n",
    "\n",
    "\n",
    "## Your code here up"
   ]
  }
 ],
 "metadata": {
  "kernelspec": {
   "display_name": "Python 3",
   "language": "python",
   "name": "python3"
  },
  "language_info": {
   "codemirror_mode": {
    "name": "ipython",
    "version": 3
   },
   "file_extension": ".py",
   "mimetype": "text/x-python",
   "name": "python",
   "nbconvert_exporter": "python",
   "pygments_lexer": "ipython3",
   "version": "3.11.4"
  },
  "orig_nbformat": 4
 },
 "nbformat": 4,
 "nbformat_minor": 2
}
